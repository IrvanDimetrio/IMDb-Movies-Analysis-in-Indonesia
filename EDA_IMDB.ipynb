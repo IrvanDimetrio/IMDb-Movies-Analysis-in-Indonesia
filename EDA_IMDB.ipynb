{
 "cells": [
  {
   "cell_type": "code",
   "execution_count": 7,
   "id": "9056da9b-a5c9-4f37-8ba3-2db22539a79e",
   "metadata": {},
   "outputs": [
    {
     "data": {
      "text/html": [
       "        <script type=\"text/javascript\">\n",
       "        window.PlotlyConfig = {MathJaxConfig: 'local'};\n",
       "        if (window.MathJax && window.MathJax.Hub && window.MathJax.Hub.Config) {window.MathJax.Hub.Config({SVG: {font: \"STIX-Web\"}});}\n",
       "        if (typeof require !== 'undefined') {\n",
       "        require.undef(\"plotly\");\n",
       "        requirejs.config({\n",
       "            paths: {\n",
       "                'plotly': ['https://cdn.plot.ly/plotly-2.12.1.min']\n",
       "            }\n",
       "        });\n",
       "        require(['plotly'], function(Plotly) {\n",
       "            window._Plotly = Plotly;\n",
       "        });\n",
       "        }\n",
       "        </script>\n",
       "        "
      ]
     },
     "metadata": {},
     "output_type": "display_data"
    }
   ],
   "source": [
    "import pandas as pd\n",
    "import numpy as np\n",
    "\n",
    "import matplotlib.pyplot as plt\n",
    "import matplotlib\n",
    "import seaborn as sns\n",
    "import warnings\n",
    "warnings.simplefilter(action='ignore', category=FutureWarning)\n",
    "warnings.simplefilter(action='ignore', category=UserWarning)\n",
    "sns.set(style=\"white\")\n",
    "\n",
    "\n",
    "import plotly\n",
    "import plotly.graph_objects as go\n",
    "import plotly.express as px\n",
    "from plotly.subplots import make_subplots\n",
    "import plotly.figure_factory as ff\n",
    "\n",
    "from plotly.offline import plot, iplot, init_notebook_mode\n",
    "init_notebook_mode(connected=True)"
   ]
  },
  {
   "cell_type": "code",
   "execution_count": 8,
   "id": "4b0b75f2",
   "metadata": {},
   "outputs": [],
   "source": [
    "output_file_path = 'D:/Jupyter Notebook Project/Kaggle/IMDB Movies Indonesian/Data/Clean/imdb indonesia clean.csv'\n",
    "df = pd.read_csv(output_file_path, encoding='unicode_escape',sep=';')"
   ]
  },
  {
   "cell_type": "code",
   "execution_count": 9,
   "id": "5a56731d",
   "metadata": {},
   "outputs": [
    {
     "data": {
      "text/html": [
       "<div>\n",
       "<style scoped>\n",
       "    .dataframe tbody tr th:only-of-type {\n",
       "        vertical-align: middle;\n",
       "    }\n",
       "\n",
       "    .dataframe tbody tr th {\n",
       "        vertical-align: top;\n",
       "    }\n",
       "\n",
       "    .dataframe thead th {\n",
       "        text-align: right;\n",
       "    }\n",
       "</style>\n",
       "<table border=\"1\" class=\"dataframe\">\n",
       "  <thead>\n",
       "    <tr style=\"text-align: right;\">\n",
       "      <th></th>\n",
       "      <th>Title</th>\n",
       "      <th>Year</th>\n",
       "      <th>Rated</th>\n",
       "      <th>Genre</th>\n",
       "      <th>Runtime (Minutes)</th>\n",
       "      <th>Rating</th>\n",
       "      <th>Votes</th>\n",
       "      <th>Director</th>\n",
       "      <th>Star 1</th>\n",
       "      <th>Star 2</th>\n",
       "      <th>Star 3</th>\n",
       "      <th>Star 4</th>\n",
       "    </tr>\n",
       "  </thead>\n",
       "  <tbody>\n",
       "    <tr>\n",
       "      <th>2524</th>\n",
       "      <td>Krazy Crazy Krezy...</td>\n",
       "      <td>2009</td>\n",
       "      <td>13+</td>\n",
       "      <td>Comedy</td>\n",
       "      <td>97</td>\n",
       "      <td>3,3</td>\n",
       "      <td>11</td>\n",
       "      <td>Rako Prijanto</td>\n",
       "      <td>Tora Sudiro</td>\n",
       "      <td>Vincent Ryan Rompies</td>\n",
       "      <td>Mohd Pierre Andre</td>\n",
       "      <td>Fanny Fadillah</td>\n",
       "    </tr>\n",
       "    <tr>\n",
       "      <th>2372</th>\n",
       "      <td>The Scent of Rat Carcasses</td>\n",
       "      <td>2021</td>\n",
       "      <td>13+</td>\n",
       "      <td>Short, Drama</td>\n",
       "      <td>9</td>\n",
       "      <td>8,2</td>\n",
       "      <td>14</td>\n",
       "      <td>Dharma Putra P.N.</td>\n",
       "      <td>Sri Isworowati</td>\n",
       "      <td>Dyah Prabawati</td>\n",
       "      <td>NaN</td>\n",
       "      <td>NaN</td>\n",
       "    </tr>\n",
       "    <tr>\n",
       "      <th>1816</th>\n",
       "      <td>Labuan Hati</td>\n",
       "      <td>2017</td>\n",
       "      <td>17+</td>\n",
       "      <td>Drama, Romance</td>\n",
       "      <td>100</td>\n",
       "      <td>6,7</td>\n",
       "      <td>13</td>\n",
       "      <td>Lola Amaria</td>\n",
       "      <td>Nadine Chandrawinata</td>\n",
       "      <td>Kelly Tandiono</td>\n",
       "      <td>Ully Triani</td>\n",
       "      <td>Ramon Y. Tungka</td>\n",
       "    </tr>\n",
       "    <tr>\n",
       "      <th>1590</th>\n",
       "      <td>Tak Biasa</td>\n",
       "      <td>2004</td>\n",
       "      <td>13+</td>\n",
       "      <td>Comedy</td>\n",
       "      <td>146</td>\n",
       "      <td>7,3</td>\n",
       "      <td>7</td>\n",
       "      <td>Jose Poernomo</td>\n",
       "      <td>Lia Chandra</td>\n",
       "      <td>Novie Emerson</td>\n",
       "      <td>Miea Kusuma</td>\n",
       "      <td>Akhdiyat Duta Modjo</td>\n",
       "    </tr>\n",
       "    <tr>\n",
       "      <th>1317</th>\n",
       "      <td>Standing on the Edge of a Thorn</td>\n",
       "      <td>2012</td>\n",
       "      <td>13+</td>\n",
       "      <td>Documentary, Short, Biography</td>\n",
       "      <td>33</td>\n",
       "      <td>8,2</td>\n",
       "      <td>32</td>\n",
       "      <td>Robert Lemelson</td>\n",
       "      <td>Imam Rohani</td>\n",
       "      <td>Lisa Rohani</td>\n",
       "      <td>Tri</td>\n",
       "      <td>NaN</td>\n",
       "    </tr>\n",
       "    <tr>\n",
       "      <th>2390</th>\n",
       "      <td>Love in Bombay</td>\n",
       "      <td>2002</td>\n",
       "      <td>13+</td>\n",
       "      <td>Romance</td>\n",
       "      <td>83</td>\n",
       "      <td>5,5</td>\n",
       "      <td>41</td>\n",
       "      <td>Indrani Banerjee</td>\n",
       "      <td>Sultan Djorghi</td>\n",
       "      <td>Rina Frank T.</td>\n",
       "      <td>Narendra Jha</td>\n",
       "      <td>NaN</td>\n",
       "    </tr>\n",
       "    <tr>\n",
       "      <th>2478</th>\n",
       "      <td>Pantja Sila: Cita-Cita &amp; Realita</td>\n",
       "      <td>2016</td>\n",
       "      <td>SU</td>\n",
       "      <td>Documentary, History</td>\n",
       "      <td>78</td>\n",
       "      <td>9</td>\n",
       "      <td>7</td>\n",
       "      <td>Tyo Pakusadewo</td>\n",
       "      <td>Tino Saroengallo</td>\n",
       "      <td>Wicaksono Wisnu Legowo</td>\n",
       "      <td>Tio Pakusadewo</td>\n",
       "      <td>Tyo Pakusadewo</td>\n",
       "    </tr>\n",
       "    <tr>\n",
       "      <th>742</th>\n",
       "      <td>Andini Indosiar</td>\n",
       "      <td>2010</td>\n",
       "      <td>13+</td>\n",
       "      <td>Drama</td>\n",
       "      <td>83</td>\n",
       "      <td>5,8</td>\n",
       "      <td>19</td>\n",
       "      <td>Imel Putri Cahyati</td>\n",
       "      <td>Cali Marsal</td>\n",
       "      <td>NaN</td>\n",
       "      <td>NaN</td>\n",
       "      <td>NaN</td>\n",
       "    </tr>\n",
       "    <tr>\n",
       "      <th>2303</th>\n",
       "      <td>Beth</td>\n",
       "      <td>2002</td>\n",
       "      <td>13+</td>\n",
       "      <td>Drama, Romance</td>\n",
       "      <td>84</td>\n",
       "      <td>5,9</td>\n",
       "      <td>21</td>\n",
       "      <td>Aria Kusumadewa</td>\n",
       "      <td>Sha Ine Febriyanti</td>\n",
       "      <td>Lola Amaria</td>\n",
       "      <td>Nurul Arifin</td>\n",
       "      <td>Bucek Depp</td>\n",
       "    </tr>\n",
       "    <tr>\n",
       "      <th>1790</th>\n",
       "      <td>Dongeng Mistis</td>\n",
       "      <td>2018</td>\n",
       "      <td>17+</td>\n",
       "      <td>Horror</td>\n",
       "      <td>88</td>\n",
       "      <td>6,6</td>\n",
       "      <td>32</td>\n",
       "      <td>Orizon Astonia</td>\n",
       "      <td>Muhammad Ihsan Fadli</td>\n",
       "      <td>Andra Fembriarto</td>\n",
       "      <td>Kristian Panca Nugroho</td>\n",
       "      <td>Vicky Ray</td>\n",
       "    </tr>\n",
       "  </tbody>\n",
       "</table>\n",
       "</div>"
      ],
      "text/plain": [
       "                                 Title  Year Rated  \\\n",
       "2524              Krazy Crazy Krezy...  2009   13+   \n",
       "2372        The Scent of Rat Carcasses  2021   13+   \n",
       "1816                       Labuan Hati  2017   17+   \n",
       "1590                         Tak Biasa  2004   13+   \n",
       "1317   Standing on the Edge of a Thorn  2012   13+   \n",
       "2390                    Love in Bombay  2002   13+   \n",
       "2478  Pantja Sila: Cita-Cita & Realita  2016    SU   \n",
       "742                    Andini Indosiar  2010   13+   \n",
       "2303                              Beth  2002   13+   \n",
       "1790                    Dongeng Mistis  2018   17+   \n",
       "\n",
       "                                           Genre  Runtime (Minutes) Rating  \\\n",
       "2524                          Comedy                             97    3,3   \n",
       "2372                    Short, Drama                              9    8,2   \n",
       "1816                  Drama, Romance                            100    6,7   \n",
       "1590                          Comedy                            146    7,3   \n",
       "1317   Documentary, Short, Biography                             33    8,2   \n",
       "2390                         Romance                             83    5,5   \n",
       "2478            Documentary, History                             78      9   \n",
       "742                            Drama                             83    5,8   \n",
       "2303                  Drama, Romance                             84    5,9   \n",
       "1790                          Horror                             88    6,6   \n",
       "\n",
       "      Votes            Director                Star 1                  Star 2  \\\n",
       "2524     11       Rako Prijanto           Tora Sudiro    Vincent Ryan Rompies   \n",
       "2372     14   Dharma Putra P.N.        Sri Isworowati          Dyah Prabawati   \n",
       "1816     13         Lola Amaria  Nadine Chandrawinata          Kelly Tandiono   \n",
       "1590      7       Jose Poernomo           Lia Chandra           Novie Emerson   \n",
       "1317     32     Robert Lemelson           Imam Rohani             Lisa Rohani   \n",
       "2390     41    Indrani Banerjee        Sultan Djorghi           Rina Frank T.   \n",
       "2478      7      Tyo Pakusadewo      Tino Saroengallo  Wicaksono Wisnu Legowo   \n",
       "742      19  Imel Putri Cahyati           Cali Marsal                     NaN   \n",
       "2303     21     Aria Kusumadewa    Sha Ine Febriyanti             Lola Amaria   \n",
       "1790     32      Orizon Astonia  Muhammad Ihsan Fadli        Andra Fembriarto   \n",
       "\n",
       "                      Star 3               Star 4  \n",
       "2524       Mohd Pierre Andre       Fanny Fadillah  \n",
       "2372                     NaN                  NaN  \n",
       "1816             Ully Triani      Ramon Y. Tungka  \n",
       "1590             Miea Kusuma  Akhdiyat Duta Modjo  \n",
       "1317                     Tri                  NaN  \n",
       "2390            Narendra Jha                  NaN  \n",
       "2478          Tio Pakusadewo       Tyo Pakusadewo  \n",
       "742                      NaN                  NaN  \n",
       "2303            Nurul Arifin           Bucek Depp  \n",
       "1790  Kristian Panca Nugroho            Vicky Ray  "
      ]
     },
     "execution_count": 9,
     "metadata": {},
     "output_type": "execute_result"
    }
   ],
   "source": [
    "df.sample(10)"
   ]
  },
  {
   "cell_type": "code",
   "execution_count": 10,
   "id": "8fbafabf",
   "metadata": {},
   "outputs": [
    {
     "data": {
      "text/plain": [
       "(2708, 12)"
      ]
     },
     "execution_count": 10,
     "metadata": {},
     "output_type": "execute_result"
    }
   ],
   "source": [
    "# Check the size of original dataset\n",
    "df.shape"
   ]
  },
  {
   "cell_type": "code",
   "execution_count": 11,
   "id": "b1f15a82",
   "metadata": {},
   "outputs": [
    {
     "name": "stdout",
     "output_type": "stream",
     "text": [
      "<class 'pandas.core.frame.DataFrame'>\n",
      "RangeIndex: 2708 entries, 0 to 2707\n",
      "Data columns (total 12 columns):\n",
      " #   Column             Non-Null Count  Dtype \n",
      "---  ------             --------------  ----- \n",
      " 0   Title              2708 non-null   object\n",
      " 1   Year               2708 non-null   int64 \n",
      " 2   Rated              2708 non-null   object\n",
      " 3   Genre              2708 non-null   object\n",
      " 4   Runtime (Minutes)  2708 non-null   int64 \n",
      " 5   Rating             2708 non-null   object\n",
      " 6   Votes              2708 non-null   int64 \n",
      " 7   Director           2708 non-null   object\n",
      " 8   Star 1             2470 non-null   object\n",
      " 9   Star 2             2325 non-null   object\n",
      " 10  Star 3             2140 non-null   object\n",
      " 11  Star 4             1838 non-null   object\n",
      "dtypes: int64(3), object(9)\n",
      "memory usage: 254.0+ KB\n"
     ]
    }
   ],
   "source": [
    "# Check the info of original dataset\n",
    "df.info()"
   ]
  },
  {
   "cell_type": "code",
   "execution_count": 12,
   "id": "e3a11ae2",
   "metadata": {},
   "outputs": [
    {
     "data": {
      "text/html": [
       "<div>\n",
       "<style scoped>\n",
       "    .dataframe tbody tr th:only-of-type {\n",
       "        vertical-align: middle;\n",
       "    }\n",
       "\n",
       "    .dataframe tbody tr th {\n",
       "        vertical-align: top;\n",
       "    }\n",
       "\n",
       "    .dataframe thead th {\n",
       "        text-align: right;\n",
       "    }\n",
       "</style>\n",
       "<table border=\"1\" class=\"dataframe\">\n",
       "  <thead>\n",
       "    <tr style=\"text-align: right;\">\n",
       "      <th></th>\n",
       "      <th>Title</th>\n",
       "      <th>Year</th>\n",
       "      <th>Rated</th>\n",
       "      <th>Genre</th>\n",
       "      <th>Runtime (Minutes)</th>\n",
       "      <th>Rating</th>\n",
       "      <th>Votes</th>\n",
       "      <th>Director</th>\n",
       "      <th>Star 1</th>\n",
       "      <th>Star 2</th>\n",
       "      <th>Star 3</th>\n",
       "      <th>Star 4</th>\n",
       "    </tr>\n",
       "  </thead>\n",
       "  <tbody>\n",
       "    <tr>\n",
       "      <th>2028</th>\n",
       "      <td>Eliana, Eliana</td>\n",
       "      <td>2002</td>\n",
       "      <td>13+</td>\n",
       "      <td>Drama</td>\n",
       "      <td>105</td>\n",
       "      <td>7.0</td>\n",
       "      <td>151</td>\n",
       "      <td>Riri Riza</td>\n",
       "      <td>Rachel Maryam Sayidina</td>\n",
       "      <td>Jajang C. Noer</td>\n",
       "      <td>Henidar Amroe</td>\n",
       "      <td>Marcella Zalianty</td>\n",
       "    </tr>\n",
       "    <tr>\n",
       "      <th>1048</th>\n",
       "      <td>Hong Kong Runaway</td>\n",
       "      <td>2018</td>\n",
       "      <td>13+</td>\n",
       "      <td>Adventure, Comedy</td>\n",
       "      <td>96</td>\n",
       "      <td>8.2</td>\n",
       "      <td>8</td>\n",
       "      <td>Eric Satyo</td>\n",
       "      <td>Entis Sutisna</td>\n",
       "      <td>Pamela Bowie</td>\n",
       "      <td>Rizky Febian</td>\n",
       "      <td>Selvi Kitty</td>\n",
       "    </tr>\n",
       "    <tr>\n",
       "      <th>186</th>\n",
       "      <td>Late Night Patrol</td>\n",
       "      <td>2018</td>\n",
       "      <td>13+</td>\n",
       "      <td>Short, Crime, Drama</td>\n",
       "      <td>22</td>\n",
       "      <td>9.3</td>\n",
       "      <td>83</td>\n",
       "      <td>Diego Mahameru</td>\n",
       "      <td>NaN</td>\n",
       "      <td>NaN</td>\n",
       "      <td>NaN</td>\n",
       "      <td>NaN</td>\n",
       "    </tr>\n",
       "    <tr>\n",
       "      <th>908</th>\n",
       "      <td>Tali Pocong Perawan</td>\n",
       "      <td>2008</td>\n",
       "      <td>SU</td>\n",
       "      <td>Horror</td>\n",
       "      <td>105</td>\n",
       "      <td>3.5</td>\n",
       "      <td>72</td>\n",
       "      <td>Arie Azis</td>\n",
       "      <td>Dewi Perssik</td>\n",
       "      <td>Ramon Y. Tungka</td>\n",
       "      <td>Ibnu Jamil</td>\n",
       "      <td>Endhita</td>\n",
       "    </tr>\n",
       "    <tr>\n",
       "      <th>1456</th>\n",
       "      <td>Kastil Tua</td>\n",
       "      <td>2015</td>\n",
       "      <td>13+</td>\n",
       "      <td>Horror</td>\n",
       "      <td>83</td>\n",
       "      <td>9.0</td>\n",
       "      <td>53</td>\n",
       "      <td>Chiska Doppert</td>\n",
       "      <td>Josiah Hogan</td>\n",
       "      <td>Samantha Katie James</td>\n",
       "      <td>Ajun Perwira</td>\n",
       "      <td>Kimberly Ryder</td>\n",
       "    </tr>\n",
       "    <tr>\n",
       "      <th>1519</th>\n",
       "      <td>Adagium</td>\n",
       "      <td>2016</td>\n",
       "      <td>13+</td>\n",
       "      <td>Short, Action, Crime</td>\n",
       "      <td>23</td>\n",
       "      <td>9.8</td>\n",
       "      <td>14</td>\n",
       "      <td>Bobby Zarkasih</td>\n",
       "      <td>Kevin Agung</td>\n",
       "      <td>Pascal Esatama</td>\n",
       "      <td>Kemas Heryawan</td>\n",
       "      <td>Amalia Nissa</td>\n",
       "    </tr>\n",
       "    <tr>\n",
       "      <th>1183</th>\n",
       "      <td>Jatuh Cinta Lagi</td>\n",
       "      <td>2006</td>\n",
       "      <td>13+</td>\n",
       "      <td>Romance</td>\n",
       "      <td>96</td>\n",
       "      <td>5.4</td>\n",
       "      <td>14</td>\n",
       "      <td>Rizal Mantovani</td>\n",
       "      <td>Gary M. Iskak</td>\n",
       "      <td>Krisdayanti</td>\n",
       "      <td>Cornelia Agatha</td>\n",
       "      <td>Enditha</td>\n",
       "    </tr>\n",
       "    <tr>\n",
       "      <th>1394</th>\n",
       "      <td>Get Married 2</td>\n",
       "      <td>2009</td>\n",
       "      <td>13+</td>\n",
       "      <td>Comedy</td>\n",
       "      <td>92</td>\n",
       "      <td>6.1</td>\n",
       "      <td>102</td>\n",
       "      <td>Hanung Bramantyo</td>\n",
       "      <td>Jay Sukmo</td>\n",
       "      <td>Nirina Zubir</td>\n",
       "      <td>Nino Fernandez</td>\n",
       "      <td>Aming Sugandhi</td>\n",
       "    </tr>\n",
       "    <tr>\n",
       "      <th>504</th>\n",
       "      <td>Hantu Jeruk Purut</td>\n",
       "      <td>2006</td>\n",
       "      <td>13+</td>\n",
       "      <td>Horror</td>\n",
       "      <td>91</td>\n",
       "      <td>4.8</td>\n",
       "      <td>65</td>\n",
       "      <td>Nayato Fio Nuala</td>\n",
       "      <td>Angie Virgin</td>\n",
       "      <td>Sheila Marcia</td>\n",
       "      <td>Samuel Zylgwyn</td>\n",
       "      <td>Valia Rahma</td>\n",
       "    </tr>\n",
       "    <tr>\n",
       "      <th>410</th>\n",
       "      <td>Aku atau Dia?</td>\n",
       "      <td>2010</td>\n",
       "      <td>13+</td>\n",
       "      <td>Comedy, Romance</td>\n",
       "      <td>97</td>\n",
       "      <td>6.3</td>\n",
       "      <td>15</td>\n",
       "      <td>Affandi Abdul Rachman</td>\n",
       "      <td>Alex Abbad</td>\n",
       "      <td>Shara Aryo</td>\n",
       "      <td>Edo Borne</td>\n",
       "      <td>Yama Carlos</td>\n",
       "    </tr>\n",
       "  </tbody>\n",
       "</table>\n",
       "</div>"
      ],
      "text/plain": [
       "                    Title  Year Rated                              Genre  \\\n",
       "2028       Eliana, Eliana  2002   13+                  Drama               \n",
       "1048    Hong Kong Runaway  2018   13+      Adventure, Comedy               \n",
       "186     Late Night Patrol  2018   13+    Short, Crime, Drama               \n",
       "908   Tali Pocong Perawan  2008    SU                 Horror               \n",
       "1456           Kastil Tua  2015   13+                 Horror               \n",
       "1519              Adagium  2016   13+   Short, Action, Crime               \n",
       "1183     Jatuh Cinta Lagi  2006   13+                Romance               \n",
       "1394        Get Married 2  2009   13+                 Comedy               \n",
       "504     Hantu Jeruk Purut  2006   13+                 Horror               \n",
       "410         Aku atau Dia?  2010   13+        Comedy, Romance               \n",
       "\n",
       "      Runtime (Minutes)  Rating  Votes               Director  \\\n",
       "2028                105     7.0    151              Riri Riza   \n",
       "1048                 96     8.2      8             Eric Satyo   \n",
       "186                  22     9.3     83         Diego Mahameru   \n",
       "908                 105     3.5     72              Arie Azis   \n",
       "1456                 83     9.0     53         Chiska Doppert   \n",
       "1519                 23     9.8     14         Bobby Zarkasih   \n",
       "1183                 96     5.4     14        Rizal Mantovani   \n",
       "1394                 92     6.1    102       Hanung Bramantyo   \n",
       "504                  91     4.8     65       Nayato Fio Nuala   \n",
       "410                  97     6.3     15  Affandi Abdul Rachman   \n",
       "\n",
       "                      Star 1                Star 2           Star 3  \\\n",
       "2028  Rachel Maryam Sayidina        Jajang C. Noer    Henidar Amroe   \n",
       "1048           Entis Sutisna          Pamela Bowie     Rizky Febian   \n",
       "186                      NaN                   NaN              NaN   \n",
       "908             Dewi Perssik       Ramon Y. Tungka       Ibnu Jamil   \n",
       "1456            Josiah Hogan  Samantha Katie James     Ajun Perwira   \n",
       "1519             Kevin Agung        Pascal Esatama   Kemas Heryawan   \n",
       "1183           Gary M. Iskak           Krisdayanti  Cornelia Agatha   \n",
       "1394               Jay Sukmo          Nirina Zubir   Nino Fernandez   \n",
       "504             Angie Virgin         Sheila Marcia   Samuel Zylgwyn   \n",
       "410               Alex Abbad            Shara Aryo        Edo Borne   \n",
       "\n",
       "                 Star 4  \n",
       "2028  Marcella Zalianty  \n",
       "1048        Selvi Kitty  \n",
       "186                 NaN  \n",
       "908             Endhita  \n",
       "1456     Kimberly Ryder  \n",
       "1519       Amalia Nissa  \n",
       "1183            Enditha  \n",
       "1394     Aming Sugandhi  \n",
       "504         Valia Rahma  \n",
       "410         Yama Carlos  "
      ]
     },
     "execution_count": 12,
     "metadata": {},
     "output_type": "execute_result"
    }
   ],
   "source": [
    "df['Rating'] = df['Rating'].str.replace(',', '.').astype('float')\n",
    "df.sample(10)"
   ]
  },
  {
   "cell_type": "code",
   "execution_count": 13,
   "id": "86190017",
   "metadata": {},
   "outputs": [
    {
     "data": {
      "text/plain": [
       "False"
      ]
     },
     "execution_count": 13,
     "metadata": {},
     "output_type": "execute_result"
    }
   ],
   "source": [
    "# Check for duplicated data\n",
    "df.duplicated(). any()"
   ]
  },
  {
   "cell_type": "code",
   "execution_count": 14,
   "id": "504c5228",
   "metadata": {},
   "outputs": [
    {
     "data": {
      "text/plain": [
       "Title                  0\n",
       "Year                   0\n",
       "Rated                  0\n",
       "Genre                  0\n",
       "Runtime (Minutes)      0\n",
       "Rating                 0\n",
       "Votes                  0\n",
       "Director               0\n",
       "Star 1               238\n",
       "Star 2               383\n",
       "Star 3               568\n",
       "Star 4               870\n",
       "dtype: int64"
      ]
     },
     "execution_count": 14,
     "metadata": {},
     "output_type": "execute_result"
    }
   ],
   "source": [
    "# Check for missing values\n",
    "df.isnull().sum()"
   ]
  },
  {
   "cell_type": "code",
   "execution_count": 15,
   "id": "f745eb89",
   "metadata": {},
   "outputs": [
    {
     "data": {
      "text/html": [
       "<div>\n",
       "<style scoped>\n",
       "    .dataframe tbody tr th:only-of-type {\n",
       "        vertical-align: middle;\n",
       "    }\n",
       "\n",
       "    .dataframe tbody tr th {\n",
       "        vertical-align: top;\n",
       "    }\n",
       "\n",
       "    .dataframe thead th {\n",
       "        text-align: right;\n",
       "    }\n",
       "</style>\n",
       "<table border=\"1\" class=\"dataframe\">\n",
       "  <thead>\n",
       "    <tr style=\"text-align: right;\">\n",
       "      <th></th>\n",
       "      <th>Title</th>\n",
       "      <th>Year</th>\n",
       "      <th>Rated</th>\n",
       "      <th>Genre</th>\n",
       "      <th>Runtime (Minutes)</th>\n",
       "      <th>Rating</th>\n",
       "      <th>Votes</th>\n",
       "      <th>Director</th>\n",
       "      <th>Star 1</th>\n",
       "      <th>Star 2</th>\n",
       "      <th>Star 3</th>\n",
       "      <th>Star 4</th>\n",
       "      <th>Genre 1</th>\n",
       "      <th>Genre 2</th>\n",
       "      <th>Genre 3</th>\n",
       "    </tr>\n",
       "  </thead>\n",
       "  <tbody>\n",
       "    <tr>\n",
       "      <th>1240</th>\n",
       "      <td>Comic 8: Casino Kings Part 1</td>\n",
       "      <td>2015</td>\n",
       "      <td>13+</td>\n",
       "      <td>Action, Adventure, Comedy</td>\n",
       "      <td>104</td>\n",
       "      <td>6.1</td>\n",
       "      <td>397</td>\n",
       "      <td>Anggy Umbara</td>\n",
       "      <td>Hannah Al Rashid</td>\n",
       "      <td>Donny Alamsyah</td>\n",
       "      <td>Dhea Ananda</td>\n",
       "      <td>Ence Bagus</td>\n",
       "      <td>Action</td>\n",
       "      <td>Adventure</td>\n",
       "      <td>Comedy</td>\n",
       "    </tr>\n",
       "    <tr>\n",
       "      <th>1241</th>\n",
       "      <td>Comic 8: Casino Kings Part 2</td>\n",
       "      <td>2016</td>\n",
       "      <td>13+</td>\n",
       "      <td>Action, Adventure, Comedy</td>\n",
       "      <td>95</td>\n",
       "      <td>5.8</td>\n",
       "      <td>372</td>\n",
       "      <td>Anggy Umbara</td>\n",
       "      <td>Hannah Al Rashid</td>\n",
       "      <td>Donny Alamsyah</td>\n",
       "      <td>Ence Bagus</td>\n",
       "      <td>Babe Cabita</td>\n",
       "      <td>Action</td>\n",
       "      <td>Adventure</td>\n",
       "      <td>Comedy</td>\n",
       "    </tr>\n",
       "    <tr>\n",
       "      <th>1267</th>\n",
       "      <td>Ashiap Man</td>\n",
       "      <td>2022</td>\n",
       "      <td>TV-14</td>\n",
       "      <td>Action, Adventure, Comedy</td>\n",
       "      <td>102</td>\n",
       "      <td>5.0</td>\n",
       "      <td>25</td>\n",
       "      <td>Atta Halilintar</td>\n",
       "      <td>Herdanius Larobu</td>\n",
       "      <td>Atta Halilintar</td>\n",
       "      <td>Aurel Hermansyah</td>\n",
       "      <td>Nasya Marcella</td>\n",
       "      <td>Action</td>\n",
       "      <td>Adventure</td>\n",
       "      <td>Comedy</td>\n",
       "    </tr>\n",
       "    <tr>\n",
       "      <th>1510</th>\n",
       "      <td>Jagoan Instan</td>\n",
       "      <td>2016</td>\n",
       "      <td>TV-Y7</td>\n",
       "      <td>Action, Adventure, Comedy</td>\n",
       "      <td>96</td>\n",
       "      <td>5.0</td>\n",
       "      <td>33</td>\n",
       "      <td>Fajar Bustomi</td>\n",
       "      <td>Kemal Palevi</td>\n",
       "      <td>Kevin Julio</td>\n",
       "      <td>Anisa Rahma</td>\n",
       "      <td>Dede Yusuf</td>\n",
       "      <td>Action</td>\n",
       "      <td>Adventure</td>\n",
       "      <td>Comedy</td>\n",
       "    </tr>\n",
       "    <tr>\n",
       "      <th>2048</th>\n",
       "      <td>Rafathar</td>\n",
       "      <td>2017</td>\n",
       "      <td>13+</td>\n",
       "      <td>Action, Adventure, Comedy</td>\n",
       "      <td>91</td>\n",
       "      <td>1.4</td>\n",
       "      <td>961</td>\n",
       "      <td>Bounty Umbara</td>\n",
       "      <td>Rafathar Malik Ahmad</td>\n",
       "      <td>Raffi Ahmad</td>\n",
       "      <td>Babe Cabita</td>\n",
       "      <td>Nagita Slavina</td>\n",
       "      <td>Action</td>\n",
       "      <td>Adventure</td>\n",
       "      <td>Comedy</td>\n",
       "    </tr>\n",
       "    <tr>\n",
       "      <th>...</th>\n",
       "      <td>...</td>\n",
       "      <td>...</td>\n",
       "      <td>...</td>\n",
       "      <td>...</td>\n",
       "      <td>...</td>\n",
       "      <td>...</td>\n",
       "      <td>...</td>\n",
       "      <td>...</td>\n",
       "      <td>...</td>\n",
       "      <td>...</td>\n",
       "      <td>...</td>\n",
       "      <td>...</td>\n",
       "      <td>...</td>\n",
       "      <td>...</td>\n",
       "      <td>...</td>\n",
       "    </tr>\n",
       "    <tr>\n",
       "      <th>1945</th>\n",
       "      <td>The Meeting</td>\n",
       "      <td>2019</td>\n",
       "      <td>13+</td>\n",
       "      <td>Thriller</td>\n",
       "      <td>83</td>\n",
       "      <td>2.3</td>\n",
       "      <td>79</td>\n",
       "      <td>Ferry Lesmana</td>\n",
       "      <td>Otig Pakis</td>\n",
       "      <td>Verdi Solaiman</td>\n",
       "      <td>Dewi Yull</td>\n",
       "      <td>NaN</td>\n",
       "      <td>Thriller</td>\n",
       "      <td>N/A</td>\n",
       "      <td>N/A</td>\n",
       "    </tr>\n",
       "    <tr>\n",
       "      <th>1964</th>\n",
       "      <td>Kado Hari Jadi</td>\n",
       "      <td>2008</td>\n",
       "      <td>13+</td>\n",
       "      <td>Thriller</td>\n",
       "      <td>72</td>\n",
       "      <td>4.3</td>\n",
       "      <td>17</td>\n",
       "      <td>Paul Agusta</td>\n",
       "      <td>Paul Agusta</td>\n",
       "      <td>Kartika Jahja</td>\n",
       "      <td>Yoggie Richard</td>\n",
       "      <td>Jeffrey Sirie</td>\n",
       "      <td>Thriller</td>\n",
       "      <td>N/A</td>\n",
       "      <td>N/A</td>\n",
       "    </tr>\n",
       "    <tr>\n",
       "      <th>2087</th>\n",
       "      <td>4 Mantan</td>\n",
       "      <td>2020</td>\n",
       "      <td>17+</td>\n",
       "      <td>Thriller</td>\n",
       "      <td>80</td>\n",
       "      <td>5.9</td>\n",
       "      <td>35</td>\n",
       "      <td>Hanny Saputra</td>\n",
       "      <td>Ranty Maria</td>\n",
       "      <td>Jeff Smith</td>\n",
       "      <td>Melanie Berentz</td>\n",
       "      <td>Denira Wiraguna</td>\n",
       "      <td>Thriller</td>\n",
       "      <td>N/A</td>\n",
       "      <td>N/A</td>\n",
       "    </tr>\n",
       "    <tr>\n",
       "      <th>2414</th>\n",
       "      <td>Issue</td>\n",
       "      <td>2005</td>\n",
       "      <td>13+</td>\n",
       "      <td>Thriller</td>\n",
       "      <td>92</td>\n",
       "      <td>6.2</td>\n",
       "      <td>7</td>\n",
       "      <td>Gunawan Paggaru</td>\n",
       "      <td>Tamara Blezinski</td>\n",
       "      <td>Adrian Maulana</td>\n",
       "      <td>August Melasz</td>\n",
       "      <td>NaN</td>\n",
       "      <td>Thriller</td>\n",
       "      <td>N/A</td>\n",
       "      <td>N/A</td>\n",
       "    </tr>\n",
       "    <tr>\n",
       "      <th>2554</th>\n",
       "      <td>Paradise Garden</td>\n",
       "      <td>2021</td>\n",
       "      <td>17+</td>\n",
       "      <td>Thriller</td>\n",
       "      <td>41</td>\n",
       "      <td>6.8</td>\n",
       "      <td>74</td>\n",
       "      <td>Ginanti Rona</td>\n",
       "      <td>Vanesha Prescilla</td>\n",
       "      <td>Yoga Pratama</td>\n",
       "      <td>Agnes Naomi</td>\n",
       "      <td>Jefri Nichol</td>\n",
       "      <td>Thriller</td>\n",
       "      <td>N/A</td>\n",
       "      <td>N/A</td>\n",
       "    </tr>\n",
       "  </tbody>\n",
       "</table>\n",
       "<p>2708 rows × 15 columns</p>\n",
       "</div>"
      ],
      "text/plain": [
       "                             Title  Year  Rated  \\\n",
       "1240  Comic 8: Casino Kings Part 1  2015    13+   \n",
       "1241  Comic 8: Casino Kings Part 2  2016    13+   \n",
       "1267                    Ashiap Man  2022  TV-14   \n",
       "1510                 Jagoan Instan  2016  TV-Y7   \n",
       "2048                      Rafathar  2017    13+   \n",
       "...                            ...   ...    ...   \n",
       "1945                   The Meeting  2019    13+   \n",
       "1964                Kado Hari Jadi  2008    13+   \n",
       "2087                      4 Mantan  2020    17+   \n",
       "2414                         Issue  2005    13+   \n",
       "2554               Paradise Garden  2021    17+   \n",
       "\n",
       "                                       Genre  Runtime (Minutes)  Rating  \\\n",
       "1240   Action, Adventure, Comedy                            104     6.1   \n",
       "1241   Action, Adventure, Comedy                             95     5.8   \n",
       "1267   Action, Adventure, Comedy                            102     5.0   \n",
       "1510   Action, Adventure, Comedy                             96     5.0   \n",
       "2048   Action, Adventure, Comedy                             91     1.4   \n",
       "...                                      ...                ...     ...   \n",
       "1945                    Thriller                             83     2.3   \n",
       "1964                    Thriller                             72     4.3   \n",
       "2087                    Thriller                             80     5.9   \n",
       "2414                    Thriller                             92     6.2   \n",
       "2554                    Thriller                             41     6.8   \n",
       "\n",
       "      Votes         Director                Star 1           Star 2  \\\n",
       "1240    397     Anggy Umbara      Hannah Al Rashid   Donny Alamsyah   \n",
       "1241    372     Anggy Umbara      Hannah Al Rashid   Donny Alamsyah   \n",
       "1267     25  Atta Halilintar      Herdanius Larobu  Atta Halilintar   \n",
       "1510     33    Fajar Bustomi          Kemal Palevi      Kevin Julio   \n",
       "2048    961    Bounty Umbara  Rafathar Malik Ahmad      Raffi Ahmad   \n",
       "...     ...              ...                   ...              ...   \n",
       "1945     79    Ferry Lesmana            Otig Pakis   Verdi Solaiman   \n",
       "1964     17      Paul Agusta           Paul Agusta    Kartika Jahja   \n",
       "2087     35    Hanny Saputra           Ranty Maria       Jeff Smith   \n",
       "2414      7  Gunawan Paggaru      Tamara Blezinski   Adrian Maulana   \n",
       "2554     74     Ginanti Rona     Vanesha Prescilla     Yoga Pratama   \n",
       "\n",
       "                Star 3           Star 4                Genre 1    Genre 2  \\\n",
       "1240       Dhea Ananda       Ence Bagus                 Action  Adventure   \n",
       "1241        Ence Bagus      Babe Cabita                 Action  Adventure   \n",
       "1267  Aurel Hermansyah   Nasya Marcella                 Action  Adventure   \n",
       "1510       Anisa Rahma       Dede Yusuf                 Action  Adventure   \n",
       "2048       Babe Cabita   Nagita Slavina                 Action  Adventure   \n",
       "...                ...              ...                    ...        ...   \n",
       "1945         Dewi Yull              NaN   Thriller                    N/A   \n",
       "1964    Yoggie Richard    Jeffrey Sirie   Thriller                    N/A   \n",
       "2087   Melanie Berentz  Denira Wiraguna   Thriller                    N/A   \n",
       "2414     August Melasz              NaN   Thriller                    N/A   \n",
       "2554       Agnes Naomi     Jefri Nichol   Thriller                    N/A   \n",
       "\n",
       "                 Genre 3  \n",
       "1240  Comedy              \n",
       "1241  Comedy              \n",
       "1267  Comedy              \n",
       "1510  Comedy              \n",
       "2048  Comedy              \n",
       "...                  ...  \n",
       "1945                 N/A  \n",
       "1964                 N/A  \n",
       "2087                 N/A  \n",
       "2414                 N/A  \n",
       "2554                 N/A  \n",
       "\n",
       "[2708 rows x 15 columns]"
      ]
     },
     "execution_count": 15,
     "metadata": {},
     "output_type": "execute_result"
    }
   ],
   "source": [
    "genres_df = df.copy(deep=True)\n",
    "\n",
    "def text_split(string, sep, index=None):\n",
    "    '''\n",
    "    Splits a string and returns a list.\n",
    "    If an index value is specified, then returns that element.\n",
    "    If the specified index is out of range, then returns \"N/A\".\n",
    "    \n",
    "    Keyword arguments:\n",
    "    string -- The string to be splitted.\n",
    "    sep -- The separator.\n",
    "    index -- The \n",
    "    '''\n",
    "    try:\n",
    "        return string.split(sep)[index] if index or index == 0 else string.split(sep)\n",
    "    except:\n",
    "        return 'N/A'\n",
    "\n",
    "    \n",
    "splitcount = max(genres_df['Genre'].apply(lambda x: len(text_split(string=x, sep=', ')))) #Returns the maximum length of a movie genres' list to be used to define the amount of individual Genre columns to be created. \n",
    "for i in range(splitcount):\n",
    "    genres_df[f'Genre {i + 1}'] = genres_df['Genre'].apply(lambda x: text_split(string=x, sep=', ', index=i))\n",
    "\n",
    "sorted_by_genre_df = genres_df.sort_values(by=['Genre 1', 'Genre 2', 'Genre 3']) #Sorting the DataFrame by genre.\n",
    "sorted_by_genre_df"
   ]
  },
  {
   "cell_type": "code",
   "execution_count": 16,
   "id": "0482d217",
   "metadata": {},
   "outputs": [
    {
     "data": {
      "text/html": [
       "<div>\n",
       "<style scoped>\n",
       "    .dataframe tbody tr th:only-of-type {\n",
       "        vertical-align: middle;\n",
       "    }\n",
       "\n",
       "    .dataframe tbody tr th {\n",
       "        vertical-align: top;\n",
       "    }\n",
       "\n",
       "    .dataframe thead th {\n",
       "        text-align: right;\n",
       "    }\n",
       "</style>\n",
       "<table border=\"1\" class=\"dataframe\">\n",
       "  <thead>\n",
       "    <tr style=\"text-align: right;\">\n",
       "      <th></th>\n",
       "      <th>Title</th>\n",
       "      <th>Year</th>\n",
       "      <th>Rated</th>\n",
       "      <th>Genre</th>\n",
       "      <th>Runtime (Minutes)</th>\n",
       "      <th>Rating</th>\n",
       "      <th>Votes</th>\n",
       "      <th>Director</th>\n",
       "      <th>Star 1</th>\n",
       "      <th>Star 2</th>\n",
       "      <th>Star 3</th>\n",
       "      <th>Star 4</th>\n",
       "      <th>Genre 1</th>\n",
       "      <th>Genre 2</th>\n",
       "      <th>Genre 3</th>\n",
       "    </tr>\n",
       "  </thead>\n",
       "  <tbody>\n",
       "    <tr>\n",
       "      <th>1267</th>\n",
       "      <td>Ashiap Man</td>\n",
       "      <td>2022</td>\n",
       "      <td>TV-14</td>\n",
       "      <td>Action, Adventure, Comedy</td>\n",
       "      <td>102</td>\n",
       "      <td>5.0</td>\n",
       "      <td>25</td>\n",
       "      <td>Atta Halilintar</td>\n",
       "      <td>Herdanius Larobu</td>\n",
       "      <td>Atta Halilintar</td>\n",
       "      <td>Aurel Hermansyah</td>\n",
       "      <td>Nasya Marcella</td>\n",
       "      <td>Action</td>\n",
       "      <td>Adventure</td>\n",
       "      <td>Comedy</td>\n",
       "    </tr>\n",
       "    <tr>\n",
       "      <th>2598</th>\n",
       "      <td>212 Warrior</td>\n",
       "      <td>2018</td>\n",
       "      <td>TV-14</td>\n",
       "      <td>Action, Adventure, Comedy</td>\n",
       "      <td>123</td>\n",
       "      <td>6.9</td>\n",
       "      <td>1533</td>\n",
       "      <td>Angga Dwimas Sasongko</td>\n",
       "      <td>Vino G. Bastian</td>\n",
       "      <td>Yayan Ruhian</td>\n",
       "      <td>Fariz Alfarazi</td>\n",
       "      <td>Ruth Marini</td>\n",
       "      <td>Action</td>\n",
       "      <td>Adventure</td>\n",
       "      <td>Comedy</td>\n",
       "    </tr>\n",
       "    <tr>\n",
       "      <th>2048</th>\n",
       "      <td>Rafathar</td>\n",
       "      <td>2017</td>\n",
       "      <td>13+</td>\n",
       "      <td>Action, Adventure, Comedy</td>\n",
       "      <td>91</td>\n",
       "      <td>1.4</td>\n",
       "      <td>961</td>\n",
       "      <td>Bounty Umbara</td>\n",
       "      <td>Rafathar Malik Ahmad</td>\n",
       "      <td>Raffi Ahmad</td>\n",
       "      <td>Babe Cabita</td>\n",
       "      <td>Nagita Slavina</td>\n",
       "      <td>Action</td>\n",
       "      <td>Adventure</td>\n",
       "      <td>Comedy</td>\n",
       "    </tr>\n",
       "    <tr>\n",
       "      <th>1241</th>\n",
       "      <td>Comic 8: Casino Kings Part 2</td>\n",
       "      <td>2016</td>\n",
       "      <td>13+</td>\n",
       "      <td>Action, Adventure, Comedy</td>\n",
       "      <td>95</td>\n",
       "      <td>5.8</td>\n",
       "      <td>372</td>\n",
       "      <td>Anggy Umbara</td>\n",
       "      <td>Hannah Al Rashid</td>\n",
       "      <td>Donny Alamsyah</td>\n",
       "      <td>Ence Bagus</td>\n",
       "      <td>Babe Cabita</td>\n",
       "      <td>Action</td>\n",
       "      <td>Adventure</td>\n",
       "      <td>Comedy</td>\n",
       "    </tr>\n",
       "    <tr>\n",
       "      <th>1510</th>\n",
       "      <td>Jagoan Instan</td>\n",
       "      <td>2016</td>\n",
       "      <td>TV-Y7</td>\n",
       "      <td>Action, Adventure, Comedy</td>\n",
       "      <td>96</td>\n",
       "      <td>5.0</td>\n",
       "      <td>33</td>\n",
       "      <td>Fajar Bustomi</td>\n",
       "      <td>Kemal Palevi</td>\n",
       "      <td>Kevin Julio</td>\n",
       "      <td>Anisa Rahma</td>\n",
       "      <td>Dede Yusuf</td>\n",
       "      <td>Action</td>\n",
       "      <td>Adventure</td>\n",
       "      <td>Comedy</td>\n",
       "    </tr>\n",
       "    <tr>\n",
       "      <th>1240</th>\n",
       "      <td>Comic 8: Casino Kings Part 1</td>\n",
       "      <td>2015</td>\n",
       "      <td>13+</td>\n",
       "      <td>Action, Adventure, Comedy</td>\n",
       "      <td>104</td>\n",
       "      <td>6.1</td>\n",
       "      <td>397</td>\n",
       "      <td>Anggy Umbara</td>\n",
       "      <td>Hannah Al Rashid</td>\n",
       "      <td>Donny Alamsyah</td>\n",
       "      <td>Dhea Ananda</td>\n",
       "      <td>Ence Bagus</td>\n",
       "      <td>Action</td>\n",
       "      <td>Adventure</td>\n",
       "      <td>Comedy</td>\n",
       "    </tr>\n",
       "    <tr>\n",
       "      <th>2539</th>\n",
       "      <td>Valentine</td>\n",
       "      <td>2017</td>\n",
       "      <td>TV-14</td>\n",
       "      <td>Action, Adventure, Crime</td>\n",
       "      <td>97</td>\n",
       "      <td>4.7</td>\n",
       "      <td>869</td>\n",
       "      <td>Agus Hermansyah Mawardy</td>\n",
       "      <td>Ubay Fox</td>\n",
       "      <td>Agus Pestol</td>\n",
       "      <td>Estelle Linden</td>\n",
       "      <td>Arie Dagienkz</td>\n",
       "      <td>Action</td>\n",
       "      <td>Adventure</td>\n",
       "      <td>Crime</td>\n",
       "    </tr>\n",
       "    <tr>\n",
       "      <th>772</th>\n",
       "      <td>Ben &amp; Jody</td>\n",
       "      <td>2022</td>\n",
       "      <td>TV-MA</td>\n",
       "      <td>Action, Adventure, Drama</td>\n",
       "      <td>114</td>\n",
       "      <td>5.4</td>\n",
       "      <td>304</td>\n",
       "      <td>Angga Dwimas Sasongko</td>\n",
       "      <td>Chicco Jerikho</td>\n",
       "      <td>Rio Dewanto</td>\n",
       "      <td>Hana Malasan</td>\n",
       "      <td>Aghniny Haque</td>\n",
       "      <td>Action</td>\n",
       "      <td>Adventure</td>\n",
       "      <td>Drama</td>\n",
       "    </tr>\n",
       "    <tr>\n",
       "      <th>2221</th>\n",
       "      <td>Satria Dewa: Gatotkaca</td>\n",
       "      <td>2022</td>\n",
       "      <td>TV-14</td>\n",
       "      <td>Action, Adventure, Drama</td>\n",
       "      <td>129</td>\n",
       "      <td>6.4</td>\n",
       "      <td>264</td>\n",
       "      <td>Hanung Bramantyo</td>\n",
       "      <td>Rizky Nazar</td>\n",
       "      <td>Yasmin Napper</td>\n",
       "      <td>Omar Daniel</td>\n",
       "      <td>Ali Fikry</td>\n",
       "      <td>Action</td>\n",
       "      <td>Adventure</td>\n",
       "      <td>Drama</td>\n",
       "    </tr>\n",
       "    <tr>\n",
       "      <th>1958</th>\n",
       "      <td>Tarung Sarung</td>\n",
       "      <td>2020</td>\n",
       "      <td>TV-14</td>\n",
       "      <td>Action, Adventure, Drama</td>\n",
       "      <td>115</td>\n",
       "      <td>6.0</td>\n",
       "      <td>207</td>\n",
       "      <td>Archie Hekagery</td>\n",
       "      <td>Panji Zoni</td>\n",
       "      <td>Yayan Ruhian</td>\n",
       "      <td>Maizura</td>\n",
       "      <td>Cemal Faruk</td>\n",
       "      <td>Action</td>\n",
       "      <td>Adventure</td>\n",
       "      <td>Drama</td>\n",
       "    </tr>\n",
       "  </tbody>\n",
       "</table>\n",
       "</div>"
      ],
      "text/plain": [
       "                             Title  Year  Rated  \\\n",
       "1267                    Ashiap Man  2022  TV-14   \n",
       "2598                   212 Warrior  2018  TV-14   \n",
       "2048                      Rafathar  2017    13+   \n",
       "1241  Comic 8: Casino Kings Part 2  2016    13+   \n",
       "1510                 Jagoan Instan  2016  TV-Y7   \n",
       "1240  Comic 8: Casino Kings Part 1  2015    13+   \n",
       "2539                     Valentine  2017  TV-14   \n",
       "772                     Ben & Jody  2022  TV-MA   \n",
       "2221        Satria Dewa: Gatotkaca  2022  TV-14   \n",
       "1958                 Tarung Sarung  2020  TV-14   \n",
       "\n",
       "                                       Genre  Runtime (Minutes)  Rating  \\\n",
       "1267   Action, Adventure, Comedy                            102     5.0   \n",
       "2598   Action, Adventure, Comedy                            123     6.9   \n",
       "2048   Action, Adventure, Comedy                             91     1.4   \n",
       "1241   Action, Adventure, Comedy                             95     5.8   \n",
       "1510   Action, Adventure, Comedy                             96     5.0   \n",
       "1240   Action, Adventure, Comedy                            104     6.1   \n",
       "2539    Action, Adventure, Crime                             97     4.7   \n",
       "772     Action, Adventure, Drama                            114     5.4   \n",
       "2221    Action, Adventure, Drama                            129     6.4   \n",
       "1958    Action, Adventure, Drama                            115     6.0   \n",
       "\n",
       "      Votes                 Director                Star 1           Star 2  \\\n",
       "1267     25          Atta Halilintar      Herdanius Larobu  Atta Halilintar   \n",
       "2598   1533    Angga Dwimas Sasongko       Vino G. Bastian     Yayan Ruhian   \n",
       "2048    961            Bounty Umbara  Rafathar Malik Ahmad      Raffi Ahmad   \n",
       "1241    372             Anggy Umbara      Hannah Al Rashid   Donny Alamsyah   \n",
       "1510     33            Fajar Bustomi          Kemal Palevi      Kevin Julio   \n",
       "1240    397             Anggy Umbara      Hannah Al Rashid   Donny Alamsyah   \n",
       "2539    869  Agus Hermansyah Mawardy              Ubay Fox      Agus Pestol   \n",
       "772     304    Angga Dwimas Sasongko        Chicco Jerikho      Rio Dewanto   \n",
       "2221    264         Hanung Bramantyo           Rizky Nazar    Yasmin Napper   \n",
       "1958    207          Archie Hekagery            Panji Zoni     Yayan Ruhian   \n",
       "\n",
       "                Star 3          Star 4  Genre 1    Genre 2             Genre 3  \n",
       "1267  Aurel Hermansyah  Nasya Marcella   Action  Adventure  Comedy              \n",
       "2598    Fariz Alfarazi     Ruth Marini   Action  Adventure  Comedy              \n",
       "2048       Babe Cabita  Nagita Slavina   Action  Adventure  Comedy              \n",
       "1241        Ence Bagus     Babe Cabita   Action  Adventure  Comedy              \n",
       "1510       Anisa Rahma      Dede Yusuf   Action  Adventure  Comedy              \n",
       "1240       Dhea Ananda      Ence Bagus   Action  Adventure  Comedy              \n",
       "2539    Estelle Linden   Arie Dagienkz   Action  Adventure   Crime              \n",
       "772       Hana Malasan   Aghniny Haque   Action  Adventure   Drama              \n",
       "2221       Omar Daniel       Ali Fikry   Action  Adventure   Drama              \n",
       "1958           Maizura     Cemal Faruk   Action  Adventure   Drama              "
      ]
     },
     "execution_count": 16,
     "metadata": {},
     "output_type": "execute_result"
    }
   ],
   "source": [
    "#Sorting the DataFrame by genre alphabetically and Release Year from the most recent to the oldest.\n",
    "df1 = genres_df.sort_values(by=['Genre 1', 'Genre 2', 'Genre 3', 'Year'], ascending=[True, True, True, False])\n",
    "df1.head(10)"
   ]
  },
  {
   "cell_type": "code",
   "execution_count": 17,
   "id": "294a5d60",
   "metadata": {},
   "outputs": [],
   "source": [
    "df1['Genre 1'] = df1['Genre 1'].apply(lambda x:x.strip())\n",
    "df1['Genre 2'] = df1['Genre 2'].apply(lambda x:x.strip())\n",
    "df1['Genre 3'] = df1['Genre 3'].apply(lambda x:x.strip())"
   ]
  },
  {
   "cell_type": "code",
   "execution_count": 18,
   "id": "bc3eda32",
   "metadata": {},
   "outputs": [
    {
     "data": {
      "text/plain": [
       "array(['Comedy', 'Crime', 'Drama', 'Sci-Fi', 'History', 'Family', 'Music',\n",
       "       'Romance', 'N/A', 'Horror', 'Thriller', 'Fantasy', 'Mystery',\n",
       "       'Short', 'Sport', 'War', 'Reality-TV', 'Adventure', 'Action',\n",
       "       'Musical', 'Talk-Show', 'Biography', 'Western'], dtype=object)"
      ]
     },
     "execution_count": 18,
     "metadata": {},
     "output_type": "execute_result"
    }
   ],
   "source": [
    "df1['Genre 3'].unique()"
   ]
  },
  {
   "cell_type": "code",
   "execution_count": 19,
   "id": "5801d047",
   "metadata": {},
   "outputs": [
    {
     "data": {
      "text/html": [
       "<div>\n",
       "<style scoped>\n",
       "    .dataframe tbody tr th:only-of-type {\n",
       "        vertical-align: middle;\n",
       "    }\n",
       "\n",
       "    .dataframe tbody tr th {\n",
       "        vertical-align: top;\n",
       "    }\n",
       "\n",
       "    .dataframe thead th {\n",
       "        text-align: right;\n",
       "    }\n",
       "</style>\n",
       "<table border=\"1\" class=\"dataframe\">\n",
       "  <thead>\n",
       "    <tr style=\"text-align: right;\">\n",
       "      <th></th>\n",
       "      <th>Genre 1</th>\n",
       "      <th>Genre 2</th>\n",
       "      <th>Genre 3</th>\n",
       "      <th>Genre Tag Count</th>\n",
       "    </tr>\n",
       "  </thead>\n",
       "  <tbody>\n",
       "    <tr>\n",
       "      <th>Drama</th>\n",
       "      <td>748.0</td>\n",
       "      <td>646.0</td>\n",
       "      <td>104.0</td>\n",
       "      <td>1498.0</td>\n",
       "    </tr>\n",
       "    <tr>\n",
       "      <th>Short</th>\n",
       "      <td>623.0</td>\n",
       "      <td>158.0</td>\n",
       "      <td>4.0</td>\n",
       "      <td>785.0</td>\n",
       "    </tr>\n",
       "    <tr>\n",
       "      <th>Comedy</th>\n",
       "      <td>415.0</td>\n",
       "      <td>115.0</td>\n",
       "      <td>18.0</td>\n",
       "      <td>548.0</td>\n",
       "    </tr>\n",
       "    <tr>\n",
       "      <th>Horror</th>\n",
       "      <td>280.0</td>\n",
       "      <td>124.0</td>\n",
       "      <td>21.0</td>\n",
       "      <td>425.0</td>\n",
       "    </tr>\n",
       "    <tr>\n",
       "      <th>Romance</th>\n",
       "      <td>30.0</td>\n",
       "      <td>220.0</td>\n",
       "      <td>108.0</td>\n",
       "      <td>358.0</td>\n",
       "    </tr>\n",
       "    <tr>\n",
       "      <th>Documentary</th>\n",
       "      <td>250.0</td>\n",
       "      <td>7.0</td>\n",
       "      <td>NaN</td>\n",
       "      <td>257.0</td>\n",
       "    </tr>\n",
       "    <tr>\n",
       "      <th>Action</th>\n",
       "      <td>133.0</td>\n",
       "      <td>33.0</td>\n",
       "      <td>2.0</td>\n",
       "      <td>168.0</td>\n",
       "    </tr>\n",
       "    <tr>\n",
       "      <th>Thriller</th>\n",
       "      <td>20.0</td>\n",
       "      <td>69.0</td>\n",
       "      <td>49.0</td>\n",
       "      <td>138.0</td>\n",
       "    </tr>\n",
       "    <tr>\n",
       "      <th>Adventure</th>\n",
       "      <td>70.0</td>\n",
       "      <td>37.0</td>\n",
       "      <td>9.0</td>\n",
       "      <td>116.0</td>\n",
       "    </tr>\n",
       "    <tr>\n",
       "      <th>Family</th>\n",
       "      <td>10.0</td>\n",
       "      <td>47.0</td>\n",
       "      <td>53.0</td>\n",
       "      <td>110.0</td>\n",
       "    </tr>\n",
       "    <tr>\n",
       "      <th>Fantasy</th>\n",
       "      <td>10.0</td>\n",
       "      <td>46.0</td>\n",
       "      <td>23.0</td>\n",
       "      <td>79.0</td>\n",
       "    </tr>\n",
       "    <tr>\n",
       "      <th>Mystery</th>\n",
       "      <td>3.0</td>\n",
       "      <td>34.0</td>\n",
       "      <td>39.0</td>\n",
       "      <td>76.0</td>\n",
       "    </tr>\n",
       "    <tr>\n",
       "      <th>Crime</th>\n",
       "      <td>16.0</td>\n",
       "      <td>42.0</td>\n",
       "      <td>11.0</td>\n",
       "      <td>69.0</td>\n",
       "    </tr>\n",
       "    <tr>\n",
       "      <th>Biography</th>\n",
       "      <td>41.0</td>\n",
       "      <td>9.0</td>\n",
       "      <td>18.0</td>\n",
       "      <td>68.0</td>\n",
       "    </tr>\n",
       "    <tr>\n",
       "      <th>History</th>\n",
       "      <td>2.0</td>\n",
       "      <td>14.0</td>\n",
       "      <td>23.0</td>\n",
       "      <td>39.0</td>\n",
       "    </tr>\n",
       "    <tr>\n",
       "      <th>Animation</th>\n",
       "      <td>33.0</td>\n",
       "      <td>4.0</td>\n",
       "      <td>NaN</td>\n",
       "      <td>37.0</td>\n",
       "    </tr>\n",
       "    <tr>\n",
       "      <th>Music</th>\n",
       "      <td>3.0</td>\n",
       "      <td>20.0</td>\n",
       "      <td>10.0</td>\n",
       "      <td>33.0</td>\n",
       "    </tr>\n",
       "    <tr>\n",
       "      <th>Sci-Fi</th>\n",
       "      <td>2.0</td>\n",
       "      <td>9.0</td>\n",
       "      <td>17.0</td>\n",
       "      <td>28.0</td>\n",
       "    </tr>\n",
       "    <tr>\n",
       "      <th>Musical</th>\n",
       "      <td>NaN</td>\n",
       "      <td>11.0</td>\n",
       "      <td>17.0</td>\n",
       "      <td>28.0</td>\n",
       "    </tr>\n",
       "    <tr>\n",
       "      <th>Reality-TV</th>\n",
       "      <td>11.0</td>\n",
       "      <td>5.0</td>\n",
       "      <td>5.0</td>\n",
       "      <td>21.0</td>\n",
       "    </tr>\n",
       "    <tr>\n",
       "      <th>Sport</th>\n",
       "      <td>NaN</td>\n",
       "      <td>10.0</td>\n",
       "      <td>7.0</td>\n",
       "      <td>17.0</td>\n",
       "    </tr>\n",
       "    <tr>\n",
       "      <th>War</th>\n",
       "      <td>NaN</td>\n",
       "      <td>4.0</td>\n",
       "      <td>9.0</td>\n",
       "      <td>13.0</td>\n",
       "    </tr>\n",
       "    <tr>\n",
       "      <th>Game-Show</th>\n",
       "      <td>5.0</td>\n",
       "      <td>NaN</td>\n",
       "      <td>NaN</td>\n",
       "      <td>5.0</td>\n",
       "    </tr>\n",
       "    <tr>\n",
       "      <th>Talk-Show</th>\n",
       "      <td>2.0</td>\n",
       "      <td>1.0</td>\n",
       "      <td>1.0</td>\n",
       "      <td>4.0</td>\n",
       "    </tr>\n",
       "    <tr>\n",
       "      <th>News</th>\n",
       "      <td>1.0</td>\n",
       "      <td>1.0</td>\n",
       "      <td>NaN</td>\n",
       "      <td>2.0</td>\n",
       "    </tr>\n",
       "    <tr>\n",
       "      <th>Western</th>\n",
       "      <td>NaN</td>\n",
       "      <td>1.0</td>\n",
       "      <td>1.0</td>\n",
       "      <td>2.0</td>\n",
       "    </tr>\n",
       "  </tbody>\n",
       "</table>\n",
       "</div>"
      ],
      "text/plain": [
       "             Genre 1  Genre 2  Genre 3  Genre Tag Count\n",
       "Drama          748.0    646.0    104.0           1498.0\n",
       "Short          623.0    158.0      4.0            785.0\n",
       "Comedy         415.0    115.0     18.0            548.0\n",
       "Horror         280.0    124.0     21.0            425.0\n",
       "Romance         30.0    220.0    108.0            358.0\n",
       "Documentary    250.0      7.0      NaN            257.0\n",
       "Action         133.0     33.0      2.0            168.0\n",
       "Thriller        20.0     69.0     49.0            138.0\n",
       "Adventure       70.0     37.0      9.0            116.0\n",
       "Family          10.0     47.0     53.0            110.0\n",
       "Fantasy         10.0     46.0     23.0             79.0\n",
       "Mystery          3.0     34.0     39.0             76.0\n",
       "Crime           16.0     42.0     11.0             69.0\n",
       "Biography       41.0      9.0     18.0             68.0\n",
       "History          2.0     14.0     23.0             39.0\n",
       "Animation       33.0      4.0      NaN             37.0\n",
       "Music            3.0     20.0     10.0             33.0\n",
       "Sci-Fi           2.0      9.0     17.0             28.0\n",
       "Musical          NaN     11.0     17.0             28.0\n",
       "Reality-TV      11.0      5.0      5.0             21.0\n",
       "Sport            NaN     10.0      7.0             17.0\n",
       "War              NaN      4.0      9.0             13.0\n",
       "Game-Show        5.0      NaN      NaN              5.0\n",
       "Talk-Show        2.0      1.0      1.0              4.0\n",
       "News             1.0      1.0      NaN              2.0\n",
       "Western          NaN      1.0      1.0              2.0"
      ]
     },
     "execution_count": 19,
     "metadata": {},
     "output_type": "execute_result"
    }
   ],
   "source": [
    "final_df = pd.DataFrame()\n",
    "for col in df1.columns:\n",
    "    if 'Genre ' in col:\n",
    "        final_df = pd.concat([final_df, df1.groupby(by=[col])[col].count().to_frame(name=col)], ignore_index=False, axis=1, sort=True)\n",
    "final_df['Genre Tag Count'] = final_df.sum(axis=1)\n",
    "final_df.drop(index='N/A', inplace=True)\n",
    "final_df = final_df.sort_values(by=['Genre Tag Count'], ascending=False)\n",
    "final_df"
   ]
  },
  {
   "cell_type": "code",
   "execution_count": 20,
   "id": "ab86dc29",
   "metadata": {},
   "outputs": [
    {
     "data": {
      "image/png": "[encoded data removed]",
      "text/plain": [
       "<Figure size 1440x720 with 1 Axes>"
      ]
     },
     "metadata": {
      "needs_background": "light"
     },
     "output_type": "display_data"
    }
   ],
   "source": [
    "f, ax = plt.subplots(figsize=(20, 10))\n",
    "\n",
    "sns.barplot(\n",
    "    data=final_df,\n",
    "    y=final_df.index,\n",
    "    x=final_df['Genre Tag Count'].values,\n",
    "    orient='h',\n",
    "    palette='mako')\n",
    "\n",
    "\n",
    "plt.title(label=f'TOP 2700 MOVIES TAG GENRES COUNT (2000 - 2022)', fontsize=20, fontweight='bold')\n",
    "\n",
    "# Add a footnote below and to the right side of the chart\n",
    "ax.annotate('Created by M. Irvan Dimetrio \\nSource: IMDB Movies Indonesia',\n",
    "            xy = (0, -0.1),\n",
    "            xycoords='axes fraction',\n",
    "            ha='left',\n",
    "            va=\"center\",\n",
    "            fontsize=15,\n",
    "            color='grey')\n",
    "# Save the figure\n",
    "plt.savefig(\"TOP 2700 MOVIES TAG GENRES COUNT (2000 - 2022).jpg\")\n",
    "\n",
    "plt.show()"
   ]
  },
  {
   "cell_type": "markdown",
   "id": "ee375321",
   "metadata": {},
   "source": [
    "As we can see the three most used tags were \"Drama\", \"Comedy\" and \"Horror\" if exclude \"Short\".\n",
    "\n",
    "This is also an interesting thing because the number of Indonesian short films in the 2000 - 2022 range is quite a lot, namely 785 films. This indicates that there are many directors who do not rule out the possibility of working on big screen films in cinemas, starting with making short films."
   ]
  },
  {
   "cell_type": "markdown",
   "id": "e58d025d",
   "metadata": {},
   "source": [
    "### Top 5 Best Rated Movies"
   ]
  },
  {
   "cell_type": "markdown",
   "id": "0d16b0ed",
   "metadata": {},
   "source": [
    "**Let's find out which were the top 5 best rated movies based on the Ratings and Vote Count**\n",
    "If we sort our movies list only by their rating and vote count we get the following result."
   ]
  },
  {
   "cell_type": "code",
   "execution_count": 21,
   "id": "2b0212d2",
   "metadata": {},
   "outputs": [
    {
     "data": {
      "text/html": [
       "<div>\n",
       "<style scoped>\n",
       "    .dataframe tbody tr th:only-of-type {\n",
       "        vertical-align: middle;\n",
       "    }\n",
       "\n",
       "    .dataframe tbody tr th {\n",
       "        vertical-align: top;\n",
       "    }\n",
       "\n",
       "    .dataframe thead th {\n",
       "        text-align: right;\n",
       "    }\n",
       "</style>\n",
       "<table border=\"1\" class=\"dataframe\">\n",
       "  <thead>\n",
       "    <tr style=\"text-align: right;\">\n",
       "      <th></th>\n",
       "      <th>Title</th>\n",
       "      <th>Year</th>\n",
       "      <th>Rated</th>\n",
       "      <th>Genre</th>\n",
       "      <th>Runtime (Minutes)</th>\n",
       "      <th>Rating</th>\n",
       "      <th>Votes</th>\n",
       "      <th>Director</th>\n",
       "      <th>Star 1</th>\n",
       "      <th>Star 2</th>\n",
       "      <th>Star 3</th>\n",
       "      <th>Star 4</th>\n",
       "    </tr>\n",
       "  </thead>\n",
       "  <tbody>\n",
       "    <tr>\n",
       "      <th>1306</th>\n",
       "      <td>The Raid: Redemption</td>\n",
       "      <td>2011</td>\n",
       "      <td>R</td>\n",
       "      <td>Action, Crime, Thriller</td>\n",
       "      <td>101</td>\n",
       "      <td>7.6</td>\n",
       "      <td>205394</td>\n",
       "      <td>Gareth Evans</td>\n",
       "      <td>Iko Uwais</td>\n",
       "      <td>Ananda George</td>\n",
       "      <td>Ray Sahetapy</td>\n",
       "      <td>Donny Alamsyah</td>\n",
       "    </tr>\n",
       "    <tr>\n",
       "      <th>1309</th>\n",
       "      <td>The Raid 2</td>\n",
       "      <td>2014</td>\n",
       "      <td>R</td>\n",
       "      <td>Action, Crime, Thriller</td>\n",
       "      <td>150</td>\n",
       "      <td>7.9</td>\n",
       "      <td>123847</td>\n",
       "      <td>Gareth Evans</td>\n",
       "      <td>Iko Uwais</td>\n",
       "      <td>Yayan Ruhian</td>\n",
       "      <td>Arifin Putra</td>\n",
       "      <td>Oka Antara</td>\n",
       "    </tr>\n",
       "    <tr>\n",
       "      <th>1307</th>\n",
       "      <td>The Night Comes for Us</td>\n",
       "      <td>2018</td>\n",
       "      <td>TV-MA</td>\n",
       "      <td>Action, Thriller</td>\n",
       "      <td>121</td>\n",
       "      <td>6.9</td>\n",
       "      <td>26440</td>\n",
       "      <td>Timo Tjahjanto</td>\n",
       "      <td>Iko Uwais</td>\n",
       "      <td>Joe Taslim</td>\n",
       "      <td>Hannah Al Rashid</td>\n",
       "      <td>Julie Estelle</td>\n",
       "    </tr>\n",
       "    <tr>\n",
       "      <th>1385</th>\n",
       "      <td>After the Dark</td>\n",
       "      <td>2013</td>\n",
       "      <td>R</td>\n",
       "      <td>Drama, Fantasy, Sci-Fi</td>\n",
       "      <td>107</td>\n",
       "      <td>5.6</td>\n",
       "      <td>22591</td>\n",
       "      <td>John Huddles</td>\n",
       "      <td>James D'Arcy</td>\n",
       "      <td>Sophie Lowe</td>\n",
       "      <td>Daryl Sabara</td>\n",
       "      <td>Freddie Stroma</td>\n",
       "    </tr>\n",
       "    <tr>\n",
       "      <th>1154</th>\n",
       "      <td>Beyond Skyline</td>\n",
       "      <td>2017</td>\n",
       "      <td>R</td>\n",
       "      <td>Action, Adventure, Sci-Fi</td>\n",
       "      <td>106</td>\n",
       "      <td>5.3</td>\n",
       "      <td>22172</td>\n",
       "      <td>Liam O'Donnell</td>\n",
       "      <td>Frank Grillo</td>\n",
       "      <td>Bojana Novakovic</td>\n",
       "      <td>Jonny Weston</td>\n",
       "      <td>Callan Mulvey</td>\n",
       "    </tr>\n",
       "  </tbody>\n",
       "</table>\n",
       "</div>"
      ],
      "text/plain": [
       "                       Title  Year  Rated  \\\n",
       "1306    The Raid: Redemption  2011      R   \n",
       "1309              The Raid 2  2014      R   \n",
       "1307  The Night Comes for Us  2018  TV-MA   \n",
       "1385          After the Dark  2013      R   \n",
       "1154          Beyond Skyline  2017      R   \n",
       "\n",
       "                                       Genre  Runtime (Minutes)  Rating  \\\n",
       "1306     Action, Crime, Thriller                            101     7.6   \n",
       "1309     Action, Crime, Thriller                            150     7.9   \n",
       "1307            Action, Thriller                            121     6.9   \n",
       "1385      Drama, Fantasy, Sci-Fi                            107     5.6   \n",
       "1154   Action, Adventure, Sci-Fi                            106     5.3   \n",
       "\n",
       "       Votes        Director        Star 1            Star 2  \\\n",
       "1306  205394    Gareth Evans     Iko Uwais     Ananda George   \n",
       "1309  123847    Gareth Evans     Iko Uwais      Yayan Ruhian   \n",
       "1307   26440  Timo Tjahjanto     Iko Uwais        Joe Taslim   \n",
       "1385   22591    John Huddles  James D'Arcy       Sophie Lowe   \n",
       "1154   22172  Liam O'Donnell  Frank Grillo  Bojana Novakovic   \n",
       "\n",
       "                Star 3          Star 4  \n",
       "1306      Ray Sahetapy  Donny Alamsyah  \n",
       "1309      Arifin Putra      Oka Antara  \n",
       "1307  Hannah Al Rashid   Julie Estelle  \n",
       "1385      Daryl Sabara  Freddie Stroma  \n",
       "1154      Jonny Weston   Callan Mulvey  "
      ]
     },
     "execution_count": 21,
     "metadata": {},
     "output_type": "execute_result"
    }
   ],
   "source": [
    "df2 = df.loc[(df['Rating'] != 'N/A') & (df['Votes'] != 'N/A')].copy(deep=True)\n",
    "df2['Average Rating'] = df2['Rating'] * df['Votes']\n",
    "df2.sort_values(by='Average Rating', ascending=False)[df.columns].head()"
   ]
  },
  {
   "cell_type": "markdown",
   "id": "22c6ac71",
   "metadata": {},
   "source": [
    "### Indonesian Films by Year"
   ]
  },
  {
   "cell_type": "code",
   "execution_count": 22,
   "id": "3a4f5ce3",
   "metadata": {},
   "outputs": [
    {
     "data": {
      "image/png": "[encoded data removed]",
      "text/plain": [
       "<Figure size 1440x720 with 1 Axes>"
      ]
     },
     "metadata": {
      "needs_background": "light"
     },
     "output_type": "display_data"
    }
   ],
   "source": [
    "# fig = px.bar(data_frame=df.sort_values(by='Year'), x='Year',\n",
    "#                    title=\"setting up colour paletteJumlah Film Per Tahun\",\n",
    "#                    color_continuous_scale=[\"orange\"])\n",
    "# fig.show()\n",
    "# count_year = df['Year'].value_counts().reset_index()\n",
    "# count_year = count_year.rename(columns = {'index':'Year','Year':'Total Film'})\n",
    "\n",
    "f, ax = plt.subplots(figsize=(20, 10))\n",
    "\n",
    "sns.countplot(x='Year', palette='crest' ,data = df)\n",
    "plt.ylabel(\"Total Film\")\n",
    "\n",
    "plt.title(label='NUMBER OF INDONESIAN MOVIES PER YEAR (2000–2022)', fontsize=20, fontweight='bold')\n",
    "\n",
    "# Add a footnote below and to the right side of the chart\n",
    "ax.annotate('Created by M. Irvan Dimetrio \\nSource: IMDB Movies Indonesia',\n",
    "            xy = (0, -0.1),\n",
    "            xycoords='axes fraction',\n",
    "            ha='left',\n",
    "            va=\"center\",\n",
    "            fontsize=15,\n",
    "            color='grey')\n",
    "\n",
    "# Save the figure\n",
    "# plt.savefig(\"NUMBER OF INDONESIAN MOVIES PER YEAR (2000–2022).png\")\n",
    "\n",
    "plt.show()"
   ]
  },
  {
   "cell_type": "code",
   "execution_count": null,
   "id": "55d472f9",
   "metadata": {},
   "outputs": [],
   "source": [
    "fig = px.histogram(data_frame=df.sort_values(by='Year'), x='Year',\n",
    "                   color_discrete_sequence=['red'])\n",
    "                    \n",
    "# color_discrete_sequence=['white']\n",
    "\n",
    "fig.update_xaxes(type='category')\n",
    "\n",
    "fig.update_layout(font=dict(family='Lato', size=18, color='white'), \n",
    "                  title=dict(text='<b>NUMBER OF INDONESIAN MOVIES PER YEAR (2000–2022)',\n",
    "                           font=dict(size=30), x=.5), \n",
    "                  paper_bgcolor= 'black', plot_bgcolor='black',\n",
    "                 xaxis = dict(title='Year', showgrid=False),\n",
    "                 yaxis=dict(title='Total Film', showgrid=False),\n",
    "                 margin=dict(\n",
    "        l=50,\n",
    "        r=50,\n",
    "        b=150,\n",
    "        t=100,\n",
    "        pad=4\n",
    "                 ))\n",
    "\n",
    "# ADD A FOOTNOTE TO BOTTOM LEFT OF PAGE\n",
    "fig.add_annotation(\n",
    "    text = (\"Created by M. Irvan Dimetrio <br>Source: IMDB Movies Indonesia\")\n",
    "    , showarrow=False\n",
    "    , x = 0\n",
    "    , y = -0.4\n",
    "    , xref='paper'\n",
    "    , yref='paper' \n",
    "    , xanchor='left'\n",
    "    , yanchor='bottom'\n",
    "    , xshift=-1\n",
    "    , yshift=-5\n",
    "    , font=dict(size=15, color=\"white\")\n",
    "    , align=\"left\"\n",
    "    ,)"
   ]
  },
  {
   "cell_type": "markdown",
   "id": "09081c52",
   "metadata": {},
   "source": [
    "### Indonesian Films by Rated"
   ]
  },
  {
   "cell_type": "code",
   "execution_count": 25,
   "id": "fd923b71",
   "metadata": {},
   "outputs": [
    {
     "data": {
      "image/png": "[encoded data removed]",
      "text/plain": [
       "<Figure size 1440x720 with 1 Axes>"
      ]
     },
     "metadata": {
      "needs_background": "light"
     },
     "output_type": "display_data"
    }
   ],
   "source": [
    "f, ax = plt.subplots(figsize=(20, 10))\n",
    "\n",
    "sns.countplot(x='Rated', order = df['Rated'].value_counts().index, palette='crest' ,data = df)\n",
    "plt.ylabel(\"Total Film\")\n",
    "\n",
    "plt.title(label='DISTRIBUTION OF INDONESIAN MOVIES RATED (2000–2022)', fontsize=20, fontweight='bold')\n",
    "\n",
    "# Add a footnote below and to the right side of the chart\n",
    "ax.annotate('Created by M. Irvan Dimetrio \\nSource: IMDB Movies Indonesia',\n",
    "            xy = (0, -0.1),\n",
    "            xycoords='axes fraction',\n",
    "            ha='left',\n",
    "            va=\"center\",\n",
    "            fontsize=15,\n",
    "            color='grey')\n",
    "# Save the figure\n",
    "# plt.savefig(\"DISTRIBUTION OF INDONESIAN MOVIES RATED (2000–2022).png\")\n",
    "\n",
    "plt.show()"
   ]
  },
  {
   "cell_type": "code",
   "execution_count": null,
   "id": "ee0b7e24",
   "metadata": {},
   "outputs": [],
   "source": [
    "fig = px.histogram(data_frame=df.sort_values(by='Rated'), x='Rated',\n",
    "                   color='Rated')\n",
    "                    \n",
    "                \n",
    "\n",
    "# fig.update_xaxes(type='category')\n",
    "\n",
    "fig.update_layout(font=dict(family='Lato', size=18, color='white'), \n",
    "                  title=dict(text='<b>Rated Film Indonesia (2000 - 2022)',\n",
    "                           font=dict(size=30), x=.5), \n",
    "                  paper_bgcolor= 'black', plot_bgcolor='black',\n",
    "                 xaxis = dict(title='Rated', showgrid=False),\n",
    "                 yaxis=dict(title='Total Film', showgrid=False))\n",
    "\n",
    "# ADD A FOOTNOTE TO BOTTOM LEFT OF PAGE\n",
    "fig.add_annotation(\n",
    "    text = (\"Created by M. Irvan Dimetrio\")\n",
    "    , showarrow=False\n",
    "    , x = 0\n",
    "    , y = -0.2\n",
    "    , xref='paper'\n",
    "    , yref='paper' \n",
    "    , xanchor='left'\n",
    "    , yanchor='bottom'\n",
    "    , xshift=-1\n",
    "    , yshift=-5\n",
    "    , font=dict(size=15, color=\"white\")\n",
    "    , align=\"left\"\n",
    "    ,)"
   ]
  },
  {
   "cell_type": "code",
   "execution_count": null,
   "id": "ea913033",
   "metadata": {},
   "outputs": [],
   "source": [
    "# df_rated = df['Rated'].value_counts()[:13]\n",
    "\n",
    "df_rated= pd.DataFrame(df['Rated'].value_counts()[:13]).reset_index().rename(columns={'index':'Rated','Rated':'count'})\n",
    "\n",
    "fig = px.bar(df_rated, y='Rated', x='count',text='count',\n",
    "                   color = 'Rated')\n",
    "                    \n",
    "                \n",
    "\n",
    "# fig.update_xaxes(type='category')\n",
    "\n",
    "fig.update_layout(font=dict(family='Lato', size=18, color='white'), \n",
    "                  title_text='<b>DISTRIBUTION OF INDONESIAN MOVIES RATED (2000–2022)<b>',\n",
    "                  title_x=0.5, \n",
    "                  paper_bgcolor= 'black', plot_bgcolor='black',\n",
    "                 xaxis = dict(title='Total Film', showgrid=False),\n",
    "                 yaxis=dict(title='Rated', showgrid=False),\n",
    "                 margin=dict(\n",
    "        l=50,\n",
    "        r=50,\n",
    "        b=100,\n",
    "        t=100,\n",
    "        pad=4\n",
    "                 ))\n",
    "\n",
    "# ADD A FOOTNOTE TO BOTTOM LEFT OF PAGE\n",
    "fig.add_annotation(\n",
    "    text = (\"Created by M. Irvan Dimetrio <br>Source: IMDB Movies Indonesia\")\n",
    "    , showarrow=False\n",
    "    , x = 0\n",
    "    , y = -0.23\n",
    "    , xref='paper'\n",
    "    , yref='paper' \n",
    "    , xanchor='left'\n",
    "    , yanchor='bottom'\n",
    "    , xshift=-1\n",
    "    , yshift=-5\n",
    "    , font=dict(size=15, color=\"white\")\n",
    "    , align=\"left\"\n",
    "    ,)\n"
   ]
  },
  {
   "cell_type": "markdown",
   "id": "4323404a",
   "metadata": {},
   "source": [
    "### Indonesian Films by Rating"
   ]
  },
  {
   "cell_type": "code",
   "execution_count": 26,
   "id": "3c6fa8bd",
   "metadata": {},
   "outputs": [
    {
     "data": {
      "image/png": "[encoded data removed]",
      "text/plain": [
       "<Figure size 1440x720 with 1 Axes>"
      ]
     },
     "metadata": {
      "needs_background": "light"
     },
     "output_type": "display_data"
    }
   ],
   "source": [
    "f, ax = plt.subplots(figsize=(20, 10))\n",
    "\n",
    "sns.countplot(y='Rating', order = df['Rating'].value_counts().index[0:30], palette='mako',data = df)\n",
    "plt.xlabel(\"Total Film\")\n",
    "\n",
    "plt.title(label='DISTRIBUTION OF INDONESIA MOVIES IMDB RATING (2000 - 2022)', fontsize=20, fontweight='bold')\n",
    "\n",
    "# Add a footnote below and to the right side of the chart\n",
    "ax.annotate('Created by M. Irvan Dimetrio \\nSource: IMDB Movies Indonesia',\n",
    "            xy = (0, -0.1),\n",
    "            xycoords='axes fraction',\n",
    "            ha='left',\n",
    "            va=\"center\",\n",
    "            fontsize=15,\n",
    "            color='grey')\n",
    "\n",
    "# Save the figure\n",
    "# plt.savefig(\"DISTRIBUTION OF INDONESIA MOVIES IMDB RATING (2000–2022).png\")\n",
    "plt.show()"
   ]
  },
  {
   "cell_type": "code",
   "execution_count": 27,
   "id": "07dcbcd8",
   "metadata": {},
   "outputs": [
    {
     "data": {
      "image/png": "[encoded data removed]",
      "text/plain": [
       "<Figure size 1440x720 with 1 Axes>"
      ]
     },
     "metadata": {
      "needs_background": "light"
     },
     "output_type": "display_data"
    }
   ],
   "source": [
    "# Histogram Ratings as per the number of movies\n",
    "f, ax = plt.subplots(figsize=(20, 10))\n",
    "\n",
    "plt.hist(df.Rating)\n",
    "plt.ylim(2)\n",
    "plt.xlim(0, 10)\n",
    "plt.xlabel(\"Ratings\")\n",
    "plt.ylabel(\"Number of Movies\")\n",
    "\n",
    "# Save the figure\n",
    "# plt.savefig(\"Histogram Ratings as per the nymber of movies.png\")\n",
    "# Add a footnote below and to the right side of the chart\n",
    "ax.annotate('Created by M. Irvan Dimetrio \\nSource: IMDB Movies Indonesia',\n",
    "            xy = (0, -0.1),\n",
    "            xycoords='axes fraction',\n",
    "            ha='left',\n",
    "            va=\"center\",\n",
    "            fontsize=15,\n",
    "            color='grey')\n",
    "# Save the figure\n",
    "# plt.savefig(\"DISTRIBUTION OF INDONESIA MOVIES IMDB RATING.png\")\n",
    "plt.show()\n"
   ]
  },
  {
   "cell_type": "markdown",
   "id": "12b224ae",
   "metadata": {},
   "source": [
    "### Runtime Films"
   ]
  },
  {
   "cell_type": "code",
   "execution_count": 28,
   "id": "ac4f9db3",
   "metadata": {},
   "outputs": [
    {
     "data": {
      "text/plain": [
       "Drama          748\n",
       "Short          623\n",
       "Comedy         415\n",
       "Horror         280\n",
       "Documentary    250\n",
       "Action         133\n",
       "Adventure       70\n",
       "Biography       41\n",
       "Animation       33\n",
       "Romance         30\n",
       "Thriller        20\n",
       "Crime           16\n",
       "Reality-TV      11\n",
       "Family          10\n",
       "Fantasy         10\n",
       "Game-Show        5\n",
       "Music            3\n",
       "Mystery          3\n",
       "Sci-Fi           2\n",
       "Talk-Show        2\n",
       "History          2\n",
       "News             1\n",
       "Name: genre, dtype: int64"
      ]
     },
     "execution_count": 28,
     "metadata": {},
     "output_type": "execute_result"
    }
   ],
   "source": [
    "final_genre = df.copy(deep=True)\n",
    "\n",
    "final_genre['Genre'] = final_genre['Genre'].apply(lambda x:x.strip())\n",
    "\n",
    "final_genre['Genre'].unique()\n",
    "\n",
    "final_genre['genre'] = final_genre['Genre'].apply(lambda text: text.split(',')[0])\n",
    "final_genre.drop(columns='Genre', inplace=True)\n",
    "final_genre['genre'].value_counts()\n"
   ]
  },
  {
   "cell_type": "code",
   "execution_count": 29,
   "id": "4010fdb8",
   "metadata": {},
   "outputs": [],
   "source": [
    "def add_mean_line(data=final_genre, var='Runtime (Minutes)', **kwargs):\n",
    "    \n",
    "    #  If no variable provided skip adding mean line\n",
    "    if not var: return\n",
    "    \n",
    "    #  Calculating mean value for each group\n",
    "    mean = np.mean(data['Runtime (Minutes)'])\n",
    "    \n",
    "    #  Get current axis\n",
    "    ax = plt.gca()\n",
    "    \n",
    "    #  Adding line at group mean\n",
    "    \n",
    "    ax.axvline(mean, color='red', lw=3, ls='--', alpha=.7) \n",
    "    \n",
    "    #  Annotate group mean\n",
    "    x_pos = 0.75\n",
    "    fontsize = 12\n",
    "    \n",
    "    if mean < 120:\n",
    "        x_pos=.65\n",
    "\n",
    "    ax.text(x_pos, 0.7, f'mean:{mean: .0f}',\n",
    "            transform = ax.transAxes, \n",
    "            color = 'red', fontweight='bold', fontsize=fontsize)\n",
    "    \n",
    "    ax.annotate('Created by M. Irvan Dimetrio \\nSource: IMDB Movies Indonesia',\n",
    "            xy = (0, -0.5),\n",
    "            xycoords='axes fraction',\n",
    "            ha='left',\n",
    "            va=\"center\",\n",
    "            fontsize=15,\n",
    "            color='grey')"
   ]
  },
  {
   "cell_type": "code",
   "execution_count": 30,
   "id": "eed33caf",
   "metadata": {},
   "outputs": [
    {
     "data": {
      "image/png": "[encoded data removed]",
      "text/plain": [
       "<Figure size 1440x288 with 5 Axes>"
      ]
     },
     "metadata": {
      "needs_background": "light"
     },
     "output_type": "display_data"
    }
   ],
   "source": [
    "g = sns.FacetGrid(final_genre[final_genre['genre'].isin(['Drama', 'Comedy', 'Horror', 'Romance', 'Action'])], col='genre', height=4,\n",
    "                 sharex=False, sharey=False, xlim=(0,200), ylim=(0,.025))\n",
    "g.map(sns.kdeplot, 'Runtime (Minutes)', shade=True, color='black', bw=.5)\n",
    "g.map_dataframe(add_mean_line)\n",
    "g.set_titles(col_template='Genre: {col_name}');"
   ]
  },
  {
   "cell_type": "markdown",
   "id": "7096e4bb",
   "metadata": {},
   "source": [
    "### Director"
   ]
  },
  {
   "cell_type": "code",
   "execution_count": null,
   "id": "7a050988",
   "metadata": {},
   "outputs": [],
   "source": [
    "fig,axs=plt.subplots(figsize=(20,10))\n",
    "g=sns.barplot(x=df['Director'].value_counts()[:10].index,y=df['Director'].value_counts()[:10])\n",
    "g.set_title(\"Mostly Occurred Directors\", weight = \"bold\")\n",
    "g.set_xlabel(\"\\n Directors\", weight = \"bold\")\n",
    "g.set_ylabel(\"\\n Total FIlm\", weight = \"bold\")\n",
    "\n",
    "axs.annotate('Created by M. Irvan Dimetrio',\n",
    "            xy = (0.2, -0.1),\n",
    "            xycoords='axes fraction',\n",
    "            ha='right',\n",
    "            va=\"center\",\n",
    "            fontsize=15,\n",
    "            color='grey')\n",
    "plt.show()"
   ]
  },
  {
   "cell_type": "code",
   "execution_count": null,
   "id": "a206598c",
   "metadata": {},
   "outputs": [],
   "source": [
    "# df_director = df['Director'].value_counts()[:10]\n",
    "\n",
    "df_director= pd.DataFrame(df['Director'].value_counts()[:10]).reset_index().rename(columns={'index':'Director','Director':'count'})\n",
    "\n",
    "fig = px.bar(df_director, y='Director', x='count', text='count',\n",
    "                   color = 'Director')\n",
    "                    \n",
    "                \n",
    "\n",
    "# fig.update_xaxes(type='category')\n",
    "\n",
    "fig.update_layout(font=dict(family='Lato', size=18, color='white'), \n",
    "                  title_text='<b>TOP 10 MOST PRODUCTIVE DIRECTORS (2000 - 2022)<b>',\n",
    "                  title_x=0.5, \n",
    "                  paper_bgcolor= 'black', plot_bgcolor='black',\n",
    "                 xaxis = dict(title='Total Film', showgrid=False),\n",
    "                 yaxis=dict(title='Director', showgrid=False),\n",
    "                 margin=dict(\n",
    "        l=50,\n",
    "        r=50,\n",
    "        b=100,\n",
    "        t=100,\n",
    "        pad=4\n",
    "                 ))\n",
    "\n",
    "# ADD A FOOTNOTE TO BOTTOM LEFT OF PAGE\n",
    "fig.add_annotation(\n",
    "    text = (\"Created by M. Irvan Dimetrio <br>Source: IMDB Movies Indonesia\")\n",
    "    , showarrow=False\n",
    "    , x = 0\n",
    "    , y = -0.23\n",
    "    , xref='paper'\n",
    "    , yref='paper' \n",
    "    , xanchor='left'\n",
    "    , yanchor='bottom'\n",
    "    , xshift=-1\n",
    "    , yshift=-5\n",
    "    , font=dict(size=15, color=\"white\")\n",
    "    , align=\"left\"\n",
    "    ,)\n",
    "\n"
   ]
  },
  {
   "cell_type": "markdown",
   "id": "92a133d6",
   "metadata": {},
   "source": [
    "### Pie Chart Top 10 Genres Film Indonesia"
   ]
  },
  {
   "cell_type": "code",
   "execution_count": 23,
   "id": "4746e010",
   "metadata": {},
   "outputs": [
    {
     "data": {
      "text/plain": [
       " Drama                                 417\n",
       " Short, Drama                          267\n",
       " Horror                                239\n",
       " Drama, Romance                        163\n",
       " Comedy                                131\n",
       " Comedy, Drama                         111\n",
       " Documentary, Short                     91\n",
       " Documentary                            80\n",
       " Short                                  55\n",
       " Comedy, Drama, Romance                 51\n",
       "Name: Genre, dtype: int64"
      ]
     },
     "execution_count": 23,
     "metadata": {},
     "output_type": "execute_result"
    }
   ],
   "source": [
    "# using value_counts() on our join_datasets , we can also see Drama movies are majority in numbers>\n",
    "gen_count = df['Genre'].value_counts()\n",
    "gen_count[:10]"
   ]
  },
  {
   "cell_type": "code",
   "execution_count": 24,
   "id": "897a3e45",
   "metadata": {},
   "outputs": [
    {
     "data": {
      "text/plain": [
       "Text(0, -0.1, 'Created by M. Irvan Dimetrio \\nSource: IMDB Movies Indonesia')"
      ]
     },
     "execution_count": 24,
     "metadata": {},
     "output_type": "execute_result"
    },
    {
     "data": {
      "image/png": "[encoded data removed]",
      "text/plain": [
       "<Figure size 576x504 with 1 Axes>"
      ]
     },
     "metadata": {},
     "output_type": "display_data"
    }
   ],
   "source": [
    "# plot the most frequent genres\n",
    "f, ax = plt.subplots(figsize=(20, 10))\n",
    "\n",
    "gen_count[:10].plot(\n",
    "                    kind = 'pie', figsize=(8,7) , shadow = True,\n",
    "                    explode =(0.1,0,0,0,0,0,0,0,0,0), \n",
    "                    autopct = '%1.1f%%' , startangle = 45\n",
    "                   )\n",
    "\n",
    "plt.title(\"Top 10 Genres Film Indonesia \\n\", fontsize=15,weight = \"bold\")\n",
    "\n",
    "ax.annotate('Created by M. Irvan Dimetrio \\nSource: IMDB Movies Indonesia',\n",
    "            xy = (0,-0.1),\n",
    "            xycoords='axes fraction',\n",
    "            ha='left',\n",
    "            va=\"center\",\n",
    "            fontsize=12,\n",
    "            color='grey')\n",
    "\n",
    "# Save the figure\n",
    "# plt.savefig(\"Top 10 Genres Film Indonesia (2000–2022).png\")"
   ]
  },
  {
   "cell_type": "markdown",
   "id": "373c545e",
   "metadata": {},
   "source": [
    "### Line Chart Genres Film Indonesia"
   ]
  },
  {
   "cell_type": "code",
   "execution_count": 17,
   "id": "89ef33a0",
   "metadata": {},
   "outputs": [
    {
     "data": {
      "text/html": [
       "<div>\n",
       "<style scoped>\n",
       "    .dataframe tbody tr th:only-of-type {\n",
       "        vertical-align: middle;\n",
       "    }\n",
       "\n",
       "    .dataframe tbody tr th {\n",
       "        vertical-align: top;\n",
       "    }\n",
       "\n",
       "    .dataframe thead th {\n",
       "        text-align: right;\n",
       "    }\n",
       "</style>\n",
       "<table border=\"1\" class=\"dataframe\">\n",
       "  <thead>\n",
       "    <tr style=\"text-align: right;\">\n",
       "      <th></th>\n",
       "      <th>Year</th>\n",
       "      <th>Genre</th>\n",
       "    </tr>\n",
       "  </thead>\n",
       "  <tbody>\n",
       "    <tr>\n",
       "      <th>1235</th>\n",
       "      <td>2021</td>\n",
       "      <td>Comedy, Music, Talk-Show</td>\n",
       "    </tr>\n",
       "    <tr>\n",
       "      <th>2642</th>\n",
       "      <td>2012</td>\n",
       "      <td>Horror</td>\n",
       "    </tr>\n",
       "    <tr>\n",
       "      <th>1128</th>\n",
       "      <td>2009</td>\n",
       "      <td>Short, Crime, Mystery</td>\n",
       "    </tr>\n",
       "    <tr>\n",
       "      <th>589</th>\n",
       "      <td>2019</td>\n",
       "      <td>Horror</td>\n",
       "    </tr>\n",
       "    <tr>\n",
       "      <th>359</th>\n",
       "      <td>2019</td>\n",
       "      <td>Short, Comedy</td>\n",
       "    </tr>\n",
       "    <tr>\n",
       "      <th>1324</th>\n",
       "      <td>2009</td>\n",
       "      <td>Horror, Romance</td>\n",
       "    </tr>\n",
       "    <tr>\n",
       "      <th>1053</th>\n",
       "      <td>2019</td>\n",
       "      <td>Comedy, Crime, Drama</td>\n",
       "    </tr>\n",
       "    <tr>\n",
       "      <th>799</th>\n",
       "      <td>2019</td>\n",
       "      <td>Horror</td>\n",
       "    </tr>\n",
       "    <tr>\n",
       "      <th>1359</th>\n",
       "      <td>2020</td>\n",
       "      <td>Short, Horror</td>\n",
       "    </tr>\n",
       "    <tr>\n",
       "      <th>2309</th>\n",
       "      <td>2012</td>\n",
       "      <td>Drama</td>\n",
       "    </tr>\n",
       "  </tbody>\n",
       "</table>\n",
       "</div>"
      ],
      "text/plain": [
       "      Year                                  Genre\n",
       "1235  2021   Comedy, Music, Talk-Show            \n",
       "2642  2012                     Horror            \n",
       "1128  2009      Short, Crime, Mystery            \n",
       "589   2019                     Horror            \n",
       "359   2019              Short, Comedy            \n",
       "1324  2009            Horror, Romance            \n",
       "1053  2019       Comedy, Crime, Drama            \n",
       "799   2019                     Horror            \n",
       "1359  2020              Short, Horror            \n",
       "2309  2012                      Drama            "
      ]
     },
     "execution_count": 17,
     "metadata": {},
     "output_type": "execute_result"
    }
   ],
   "source": [
    "genre_yr = df.loc[:,['Year','Genre']]\n",
    "genre_yr.sample(10)"
   ]
  },
  {
   "cell_type": "code",
   "execution_count": 18,
   "id": "7a92a725",
   "metadata": {},
   "outputs": [
    {
     "data": {
      "text/plain": [
       "array(['Horror', 'Documentary', 'Comedy', 'Romance', 'Drama', 'Short',\n",
       "       'Biography', 'Reality-TV', 'Animation', 'Adventure', 'Action',\n",
       "       'Thriller', 'Crime', 'Family', 'Sci-Fi', 'Music', 'News',\n",
       "       'Fantasy', 'Talk-Show', 'Game-Show', 'Mystery', 'History'],\n",
       "      dtype=object)"
      ]
     },
     "execution_count": 18,
     "metadata": {},
     "output_type": "execute_result"
    }
   ],
   "source": [
    "genre_yr['Genre'] = genre_yr['Genre'].apply(lambda x:x.strip())\n",
    "genre_yr['Genre'] = genre_yr['Genre'].apply(lambda text: text.split(',')[0])\n",
    "\n",
    "all_genres = genre_yr['Genre'].unique()\n",
    "all_genres"
   ]
  },
  {
   "cell_type": "code",
   "execution_count": 19,
   "id": "8fb688ff",
   "metadata": {},
   "outputs": [],
   "source": [
    "TMG = pd.DataFrame() #Total Movie Genre by year\n",
    "for i in range(22):\n",
    "    temp = genre_yr[genre_yr['Genre'].str.contains(all_genres[i])]\n",
    "    \n",
    "    TMG[all_genres[i]] = temp.groupby(['Year']).Genre.count()"
   ]
  },
  {
   "cell_type": "code",
   "execution_count": 20,
   "id": "ed6b436d",
   "metadata": {},
   "outputs": [
    {
     "data": {
      "text/html": [
       "<div>\n",
       "<style scoped>\n",
       "    .dataframe tbody tr th:only-of-type {\n",
       "        vertical-align: middle;\n",
       "    }\n",
       "\n",
       "    .dataframe tbody tr th {\n",
       "        vertical-align: top;\n",
       "    }\n",
       "\n",
       "    .dataframe thead th {\n",
       "        text-align: right;\n",
       "    }\n",
       "</style>\n",
       "<table border=\"1\" class=\"dataframe\">\n",
       "  <thead>\n",
       "    <tr style=\"text-align: right;\">\n",
       "      <th></th>\n",
       "      <th>Horror</th>\n",
       "      <th>Documentary</th>\n",
       "      <th>Comedy</th>\n",
       "      <th>Romance</th>\n",
       "      <th>Drama</th>\n",
       "      <th>Short</th>\n",
       "      <th>Biography</th>\n",
       "      <th>Reality-TV</th>\n",
       "      <th>Animation</th>\n",
       "      <th>Adventure</th>\n",
       "      <th>...</th>\n",
       "      <th>Crime</th>\n",
       "      <th>Family</th>\n",
       "      <th>Sci-Fi</th>\n",
       "      <th>Music</th>\n",
       "      <th>News</th>\n",
       "      <th>Fantasy</th>\n",
       "      <th>Talk-Show</th>\n",
       "      <th>Game-Show</th>\n",
       "      <th>Mystery</th>\n",
       "      <th>History</th>\n",
       "    </tr>\n",
       "    <tr>\n",
       "      <th>Year</th>\n",
       "      <th></th>\n",
       "      <th></th>\n",
       "      <th></th>\n",
       "      <th></th>\n",
       "      <th></th>\n",
       "      <th></th>\n",
       "      <th></th>\n",
       "      <th></th>\n",
       "      <th></th>\n",
       "      <th></th>\n",
       "      <th></th>\n",
       "      <th></th>\n",
       "      <th></th>\n",
       "      <th></th>\n",
       "      <th></th>\n",
       "      <th></th>\n",
       "      <th></th>\n",
       "      <th></th>\n",
       "      <th></th>\n",
       "      <th></th>\n",
       "      <th></th>\n",
       "    </tr>\n",
       "  </thead>\n",
       "  <tbody>\n",
       "    <tr>\n",
       "      <th>2006</th>\n",
       "      <td>6</td>\n",
       "      <td>1</td>\n",
       "      <td>4</td>\n",
       "      <td>1.0</td>\n",
       "      <td>15</td>\n",
       "      <td>5.0</td>\n",
       "      <td>NaN</td>\n",
       "      <td>NaN</td>\n",
       "      <td>NaN</td>\n",
       "      <td>NaN</td>\n",
       "      <td>...</td>\n",
       "      <td>1.0</td>\n",
       "      <td>NaN</td>\n",
       "      <td>NaN</td>\n",
       "      <td>NaN</td>\n",
       "      <td>NaN</td>\n",
       "      <td>NaN</td>\n",
       "      <td>NaN</td>\n",
       "      <td>NaN</td>\n",
       "      <td>NaN</td>\n",
       "      <td>NaN</td>\n",
       "    </tr>\n",
       "    <tr>\n",
       "      <th>2004</th>\n",
       "      <td>1</td>\n",
       "      <td>3</td>\n",
       "      <td>6</td>\n",
       "      <td>NaN</td>\n",
       "      <td>7</td>\n",
       "      <td>NaN</td>\n",
       "      <td>NaN</td>\n",
       "      <td>NaN</td>\n",
       "      <td>NaN</td>\n",
       "      <td>2.0</td>\n",
       "      <td>...</td>\n",
       "      <td>1.0</td>\n",
       "      <td>NaN</td>\n",
       "      <td>NaN</td>\n",
       "      <td>NaN</td>\n",
       "      <td>NaN</td>\n",
       "      <td>NaN</td>\n",
       "      <td>NaN</td>\n",
       "      <td>NaN</td>\n",
       "      <td>NaN</td>\n",
       "      <td>NaN</td>\n",
       "    </tr>\n",
       "    <tr>\n",
       "      <th>2001</th>\n",
       "      <td>1</td>\n",
       "      <td>3</td>\n",
       "      <td>2</td>\n",
       "      <td>NaN</td>\n",
       "      <td>4</td>\n",
       "      <td>3.0</td>\n",
       "      <td>NaN</td>\n",
       "      <td>NaN</td>\n",
       "      <td>NaN</td>\n",
       "      <td>NaN</td>\n",
       "      <td>...</td>\n",
       "      <td>NaN</td>\n",
       "      <td>NaN</td>\n",
       "      <td>NaN</td>\n",
       "      <td>NaN</td>\n",
       "      <td>NaN</td>\n",
       "      <td>NaN</td>\n",
       "      <td>NaN</td>\n",
       "      <td>NaN</td>\n",
       "      <td>NaN</td>\n",
       "      <td>NaN</td>\n",
       "    </tr>\n",
       "    <tr>\n",
       "      <th>2021</th>\n",
       "      <td>12</td>\n",
       "      <td>18</td>\n",
       "      <td>30</td>\n",
       "      <td>4.0</td>\n",
       "      <td>78</td>\n",
       "      <td>51.0</td>\n",
       "      <td>1.0</td>\n",
       "      <td>NaN</td>\n",
       "      <td>6.0</td>\n",
       "      <td>3.0</td>\n",
       "      <td>...</td>\n",
       "      <td>3.0</td>\n",
       "      <td>NaN</td>\n",
       "      <td>NaN</td>\n",
       "      <td>NaN</td>\n",
       "      <td>NaN</td>\n",
       "      <td>3.0</td>\n",
       "      <td>1.0</td>\n",
       "      <td>NaN</td>\n",
       "      <td>NaN</td>\n",
       "      <td>NaN</td>\n",
       "    </tr>\n",
       "    <tr>\n",
       "      <th>2008</th>\n",
       "      <td>15</td>\n",
       "      <td>9</td>\n",
       "      <td>29</td>\n",
       "      <td>2.0</td>\n",
       "      <td>37</td>\n",
       "      <td>6.0</td>\n",
       "      <td>NaN</td>\n",
       "      <td>2.0</td>\n",
       "      <td>NaN</td>\n",
       "      <td>2.0</td>\n",
       "      <td>...</td>\n",
       "      <td>NaN</td>\n",
       "      <td>1.0</td>\n",
       "      <td>NaN</td>\n",
       "      <td>NaN</td>\n",
       "      <td>NaN</td>\n",
       "      <td>NaN</td>\n",
       "      <td>NaN</td>\n",
       "      <td>NaN</td>\n",
       "      <td>1.0</td>\n",
       "      <td>NaN</td>\n",
       "    </tr>\n",
       "    <tr>\n",
       "      <th>2002</th>\n",
       "      <td>1</td>\n",
       "      <td>2</td>\n",
       "      <td>3</td>\n",
       "      <td>1.0</td>\n",
       "      <td>6</td>\n",
       "      <td>2.0</td>\n",
       "      <td>NaN</td>\n",
       "      <td>NaN</td>\n",
       "      <td>NaN</td>\n",
       "      <td>NaN</td>\n",
       "      <td>...</td>\n",
       "      <td>NaN</td>\n",
       "      <td>1.0</td>\n",
       "      <td>NaN</td>\n",
       "      <td>NaN</td>\n",
       "      <td>NaN</td>\n",
       "      <td>NaN</td>\n",
       "      <td>NaN</td>\n",
       "      <td>NaN</td>\n",
       "      <td>NaN</td>\n",
       "      <td>NaN</td>\n",
       "    </tr>\n",
       "    <tr>\n",
       "      <th>2017</th>\n",
       "      <td>12</td>\n",
       "      <td>26</td>\n",
       "      <td>25</td>\n",
       "      <td>NaN</td>\n",
       "      <td>35</td>\n",
       "      <td>66.0</td>\n",
       "      <td>3.0</td>\n",
       "      <td>NaN</td>\n",
       "      <td>4.0</td>\n",
       "      <td>6.0</td>\n",
       "      <td>...</td>\n",
       "      <td>2.0</td>\n",
       "      <td>1.0</td>\n",
       "      <td>NaN</td>\n",
       "      <td>NaN</td>\n",
       "      <td>NaN</td>\n",
       "      <td>1.0</td>\n",
       "      <td>NaN</td>\n",
       "      <td>1.0</td>\n",
       "      <td>NaN</td>\n",
       "      <td>NaN</td>\n",
       "    </tr>\n",
       "    <tr>\n",
       "      <th>2019</th>\n",
       "      <td>38</td>\n",
       "      <td>18</td>\n",
       "      <td>41</td>\n",
       "      <td>4.0</td>\n",
       "      <td>56</td>\n",
       "      <td>68.0</td>\n",
       "      <td>4.0</td>\n",
       "      <td>NaN</td>\n",
       "      <td>4.0</td>\n",
       "      <td>6.0</td>\n",
       "      <td>...</td>\n",
       "      <td>NaN</td>\n",
       "      <td>NaN</td>\n",
       "      <td>NaN</td>\n",
       "      <td>NaN</td>\n",
       "      <td>1.0</td>\n",
       "      <td>NaN</td>\n",
       "      <td>NaN</td>\n",
       "      <td>NaN</td>\n",
       "      <td>NaN</td>\n",
       "      <td>NaN</td>\n",
       "    </tr>\n",
       "    <tr>\n",
       "      <th>2015</th>\n",
       "      <td>15</td>\n",
       "      <td>14</td>\n",
       "      <td>18</td>\n",
       "      <td>4.0</td>\n",
       "      <td>35</td>\n",
       "      <td>60.0</td>\n",
       "      <td>2.0</td>\n",
       "      <td>2.0</td>\n",
       "      <td>2.0</td>\n",
       "      <td>6.0</td>\n",
       "      <td>...</td>\n",
       "      <td>1.0</td>\n",
       "      <td>NaN</td>\n",
       "      <td>NaN</td>\n",
       "      <td>NaN</td>\n",
       "      <td>NaN</td>\n",
       "      <td>3.0</td>\n",
       "      <td>NaN</td>\n",
       "      <td>NaN</td>\n",
       "      <td>NaN</td>\n",
       "      <td>NaN</td>\n",
       "    </tr>\n",
       "    <tr>\n",
       "      <th>2013</th>\n",
       "      <td>10</td>\n",
       "      <td>16</td>\n",
       "      <td>22</td>\n",
       "      <td>1.0</td>\n",
       "      <td>29</td>\n",
       "      <td>26.0</td>\n",
       "      <td>4.0</td>\n",
       "      <td>NaN</td>\n",
       "      <td>1.0</td>\n",
       "      <td>5.0</td>\n",
       "      <td>...</td>\n",
       "      <td>1.0</td>\n",
       "      <td>1.0</td>\n",
       "      <td>NaN</td>\n",
       "      <td>NaN</td>\n",
       "      <td>NaN</td>\n",
       "      <td>NaN</td>\n",
       "      <td>NaN</td>\n",
       "      <td>NaN</td>\n",
       "      <td>NaN</td>\n",
       "      <td>NaN</td>\n",
       "    </tr>\n",
       "  </tbody>\n",
       "</table>\n",
       "<p>10 rows × 22 columns</p>\n",
       "</div>"
      ],
      "text/plain": [
       "      Horror  Documentary  Comedy  Romance  Drama  Short  Biography  \\\n",
       "Year                                                                  \n",
       "2006       6            1       4      1.0     15    5.0        NaN   \n",
       "2004       1            3       6      NaN      7    NaN        NaN   \n",
       "2001       1            3       2      NaN      4    3.0        NaN   \n",
       "2021      12           18      30      4.0     78   51.0        1.0   \n",
       "2008      15            9      29      2.0     37    6.0        NaN   \n",
       "2002       1            2       3      1.0      6    2.0        NaN   \n",
       "2017      12           26      25      NaN     35   66.0        3.0   \n",
       "2019      38           18      41      4.0     56   68.0        4.0   \n",
       "2015      15           14      18      4.0     35   60.0        2.0   \n",
       "2013      10           16      22      1.0     29   26.0        4.0   \n",
       "\n",
       "      Reality-TV  Animation  Adventure  ...  Crime  Family  Sci-Fi  Music  \\\n",
       "Year                                    ...                                 \n",
       "2006         NaN        NaN        NaN  ...    1.0     NaN     NaN    NaN   \n",
       "2004         NaN        NaN        2.0  ...    1.0     NaN     NaN    NaN   \n",
       "2001         NaN        NaN        NaN  ...    NaN     NaN     NaN    NaN   \n",
       "2021         NaN        6.0        3.0  ...    3.0     NaN     NaN    NaN   \n",
       "2008         2.0        NaN        2.0  ...    NaN     1.0     NaN    NaN   \n",
       "2002         NaN        NaN        NaN  ...    NaN     1.0     NaN    NaN   \n",
       "2017         NaN        4.0        6.0  ...    2.0     1.0     NaN    NaN   \n",
       "2019         NaN        4.0        6.0  ...    NaN     NaN     NaN    NaN   \n",
       "2015         2.0        2.0        6.0  ...    1.0     NaN     NaN    NaN   \n",
       "2013         NaN        1.0        5.0  ...    1.0     1.0     NaN    NaN   \n",
       "\n",
       "      News  Fantasy  Talk-Show  Game-Show  Mystery  History  \n",
       "Year                                                         \n",
       "2006   NaN      NaN        NaN        NaN      NaN      NaN  \n",
       "2004   NaN      NaN        NaN        NaN      NaN      NaN  \n",
       "2001   NaN      NaN        NaN        NaN      NaN      NaN  \n",
       "2021   NaN      3.0        1.0        NaN      NaN      NaN  \n",
       "2008   NaN      NaN        NaN        NaN      1.0      NaN  \n",
       "2002   NaN      NaN        NaN        NaN      NaN      NaN  \n",
       "2017   NaN      1.0        NaN        1.0      NaN      NaN  \n",
       "2019   1.0      NaN        NaN        NaN      NaN      NaN  \n",
       "2015   NaN      3.0        NaN        NaN      NaN      NaN  \n",
       "2013   NaN      NaN        NaN        NaN      NaN      NaN  \n",
       "\n",
       "[10 rows x 22 columns]"
      ]
     },
     "execution_count": 20,
     "metadata": {},
     "output_type": "execute_result"
    }
   ],
   "source": [
    "TMG.sample(10)"
   ]
  },
  {
   "cell_type": "code",
   "execution_count": 21,
   "id": "a4d27c66",
   "metadata": {},
   "outputs": [
    {
     "data": {
      "image/png": "[encoded data removed]",
      "text/plain": [
       "<Figure size 1440x720 with 1 Axes>"
      ]
     },
     "metadata": {
      "needs_background": "light"
     },
     "output_type": "display_data"
    }
   ],
   "source": [
    "fig,ax=plt.subplots(figsize=(20,10))\n",
    "plt.plot(TMG)\n",
    "\n",
    "plt.legend(all_genres)\n",
    "plt.yscale(value= 'linear')\n",
    "plt.ylabel('Number of Movies Produced', rotation = 'vertical', size = 18)\n",
    "plt.xlabel('\\n Years', size = 18)\n",
    "plt.grid(True)\n",
    "plt.title(\"LINE CHART OF THE GROWTH OF THE INDONESIAN FILM GENRE (2000–2022)\", fontsize=20,weight = \"bold\")\n",
    "\n",
    "ax.annotate('Created by M. Irvan Dimetrio \\nSource: IMDB Movies Indonesia',\n",
    "            xy = (0,-0.1),\n",
    "            xycoords='axes fraction',\n",
    "            ha='left',\n",
    "            va=\"center\",\n",
    "            fontsize=12,\n",
    "            color='grey')\n",
    "\n",
    "# Save the figure\n",
    "plt.savefig(\"LINE CHART OF THE DEVELOPMENT OF THE INDONESIAN FILM GENRE.png\")\n",
    "plt.show()"
   ]
  },
  {
   "cell_type": "code",
   "execution_count": 22,
   "id": "75fd3c1f",
   "metadata": {},
   "outputs": [
    {
     "data": {
      "text/plain": [
       "<function matplotlib.pyplot.show(close=None, block=None)>"
      ]
     },
     "execution_count": 22,
     "metadata": {},
     "output_type": "execute_result"
    },
    {
     "data": {
      "image/png": "[encoded data removed]",
      "text/plain": [
       "<Figure size 1440x720 with 1 Axes>"
      ]
     },
     "metadata": {
      "needs_background": "light"
     },
     "output_type": "display_data"
    }
   ],
   "source": [
    "fig,ax=plt.subplots(figsize=(20,10))\n",
    "plt.plot(TMG.loc[:,['Drama','Horror','Comedy','Romance','Action']])\n",
    "\n",
    "# plt.xticks(np.arange(0,47, step =4))\n",
    "plt.legend(['Drama','Horror','Comedy','Romance','Action'])\n",
    "plt.grid(True)\n",
    "plt.ylabel('Number of Movies Produced', rotation = 'vertical', size = 18)\n",
    "plt.xlabel('\\n Years', size = 18)\n",
    "plt.title(\"LINE CHART OF THE GROWTH OF THE INDONESIAN FILM GENRE (2000–2022)\", fontsize=20,weight = \"bold\")\n",
    "\n",
    "ax.annotate('Created by M. Irvan Dimetrio \\nSource: IMDB Movies Indonesia',\n",
    "            xy = (0,-0.1),\n",
    "            xycoords='axes fraction',\n",
    "            ha='left',\n",
    "            va=\"center\",\n",
    "            fontsize=12,\n",
    "            color='grey')\n",
    "\n",
    "# Save the figure\n",
    "plt.savefig(\"TOP 5 LINE CHART OF THE GROWTH OF THE INDONESIAN FILM GENRE.png\")\n",
    "plt.show"
   ]
  },
  {
   "cell_type": "code",
   "execution_count": 36,
   "id": "7d7605fc",
   "metadata": {},
   "outputs": [],
   "source": [
    "# Save the figure\n",
    "# plt.savefig(\"Scatter Chart of ratings as per the votes.png\")\n",
    "# plt.show()"
   ]
  },
  {
   "cell_type": "markdown",
   "id": "6643f2ae",
   "metadata": {},
   "source": [
    "### Scatter Plot"
   ]
  },
  {
   "cell_type": "code",
   "execution_count": 37,
   "id": "ec96ef29",
   "metadata": {},
   "outputs": [
    {
     "data": {
      "text/html": [
       "<div>\n",
       "<style scoped>\n",
       "    .dataframe tbody tr th:only-of-type {\n",
       "        vertical-align: middle;\n",
       "    }\n",
       "\n",
       "    .dataframe tbody tr th {\n",
       "        vertical-align: top;\n",
       "    }\n",
       "\n",
       "    .dataframe thead th {\n",
       "        text-align: right;\n",
       "    }\n",
       "</style>\n",
       "<table border=\"1\" class=\"dataframe\">\n",
       "  <thead>\n",
       "    <tr style=\"text-align: right;\">\n",
       "      <th></th>\n",
       "      <th>Title</th>\n",
       "      <th>Year</th>\n",
       "      <th>Rated</th>\n",
       "      <th>Genre</th>\n",
       "      <th>Runtime (Minutes)</th>\n",
       "      <th>Rating</th>\n",
       "      <th>Votes</th>\n",
       "      <th>Director</th>\n",
       "      <th>Star 1</th>\n",
       "      <th>Star 2</th>\n",
       "      <th>Star 3</th>\n",
       "      <th>Star 4</th>\n",
       "    </tr>\n",
       "  </thead>\n",
       "  <tbody>\n",
       "    <tr>\n",
       "      <th>1950</th>\n",
       "      <td>Pocong Rumah Angker</td>\n",
       "      <td>2010</td>\n",
       "      <td>13+</td>\n",
       "      <td>Horror</td>\n",
       "      <td>81</td>\n",
       "      <td>6.0</td>\n",
       "      <td>25</td>\n",
       "      <td>Nayato Fio Nuala</td>\n",
       "      <td>Pamela Bowie</td>\n",
       "      <td>Donita</td>\n",
       "      <td>Krisna Patra</td>\n",
       "      <td>Radith</td>\n",
       "    </tr>\n",
       "    <tr>\n",
       "      <th>2363</th>\n",
       "      <td>Kain Kafan Perawan</td>\n",
       "      <td>2010</td>\n",
       "      <td>13+</td>\n",
       "      <td>Horror</td>\n",
       "      <td>85</td>\n",
       "      <td>4.3</td>\n",
       "      <td>38</td>\n",
       "      <td>Nayato Fio Nuala</td>\n",
       "      <td>Smitha Anjani</td>\n",
       "      <td>Ratu Felisha</td>\n",
       "      <td>Sarah Jane</td>\n",
       "      <td>Ardina Rasti</td>\n",
       "    </tr>\n",
       "    <tr>\n",
       "      <th>922</th>\n",
       "      <td>What's Up with Cinta?</td>\n",
       "      <td>2002</td>\n",
       "      <td>TV-14</td>\n",
       "      <td>Drama, Romance</td>\n",
       "      <td>112</td>\n",
       "      <td>7.7</td>\n",
       "      <td>2890</td>\n",
       "      <td>Rudy Soedjarwo</td>\n",
       "      <td>Dian Sastrowardoyo</td>\n",
       "      <td>Nicholas Saputra</td>\n",
       "      <td>Ladya Cheryl</td>\n",
       "      <td>Titi Kamal</td>\n",
       "    </tr>\n",
       "    <tr>\n",
       "      <th>1897</th>\n",
       "      <td>Get M4rried</td>\n",
       "      <td>2013</td>\n",
       "      <td>13+</td>\n",
       "      <td>Comedy</td>\n",
       "      <td>112</td>\n",
       "      <td>6.9</td>\n",
       "      <td>50</td>\n",
       "      <td>Monty Tiwa</td>\n",
       "      <td>Nirina Zubir</td>\n",
       "      <td>Nino Fernandez</td>\n",
       "      <td>Aming Sugandhi</td>\n",
       "      <td>Ringgo Agus Rahman</td>\n",
       "    </tr>\n",
       "    <tr>\n",
       "      <th>1356</th>\n",
       "      <td>Verses of Love</td>\n",
       "      <td>2008</td>\n",
       "      <td>13+</td>\n",
       "      <td>Drama, Romance</td>\n",
       "      <td>130</td>\n",
       "      <td>6.9</td>\n",
       "      <td>1186</td>\n",
       "      <td>Hanung Bramantyo</td>\n",
       "      <td>Iqbal Rais</td>\n",
       "      <td>Fedi Nuril</td>\n",
       "      <td>Rianti Cartwright</td>\n",
       "      <td>Carissa Putri</td>\n",
       "    </tr>\n",
       "    <tr>\n",
       "      <th>1607</th>\n",
       "      <td>7 Hari 24 Jam</td>\n",
       "      <td>2014</td>\n",
       "      <td>13+</td>\n",
       "      <td>Drama, Romance</td>\n",
       "      <td>97</td>\n",
       "      <td>6.9</td>\n",
       "      <td>99</td>\n",
       "      <td>Fajar Nugros</td>\n",
       "      <td>Lukman Sardi</td>\n",
       "      <td>Dian Sastrowardoyo</td>\n",
       "      <td>Henky Solaiman</td>\n",
       "      <td>Verdi Solaiman</td>\n",
       "    </tr>\n",
       "    <tr>\n",
       "      <th>261</th>\n",
       "      <td>12:00 A.M.</td>\n",
       "      <td>2005</td>\n",
       "      <td>13+</td>\n",
       "      <td>Drama, Horror, Mystery</td>\n",
       "      <td>105</td>\n",
       "      <td>3.5</td>\n",
       "      <td>37</td>\n",
       "      <td>Nayato Fio Nuala</td>\n",
       "      <td>Abimana Aryasatya</td>\n",
       "      <td>Olga Lydia</td>\n",
       "      <td>Rionaldo Stockhorst</td>\n",
       "      <td>Inong</td>\n",
       "    </tr>\n",
       "    <tr>\n",
       "      <th>2052</th>\n",
       "      <td>Liar</td>\n",
       "      <td>2008</td>\n",
       "      <td>13+</td>\n",
       "      <td>Drama</td>\n",
       "      <td>95</td>\n",
       "      <td>5.1</td>\n",
       "      <td>16</td>\n",
       "      <td>Rudy Soedjarwo</td>\n",
       "      <td>Raffi Ahmad</td>\n",
       "      <td>Irgi Fahrezi</td>\n",
       "      <td>Intan Nuraini</td>\n",
       "      <td>Asmirandah</td>\n",
       "    </tr>\n",
       "    <tr>\n",
       "      <th>1152</th>\n",
       "      <td>Pocong 3</td>\n",
       "      <td>2007</td>\n",
       "      <td>13+</td>\n",
       "      <td>Horror</td>\n",
       "      <td>90</td>\n",
       "      <td>5.0</td>\n",
       "      <td>52</td>\n",
       "      <td>Monty Tiwa</td>\n",
       "      <td>Francine Roosenda</td>\n",
       "      <td>Darius Sinathrya</td>\n",
       "      <td>Gary M. Iskak</td>\n",
       "      <td>Elmayana Sabriena</td>\n",
       "    </tr>\n",
       "    <tr>\n",
       "      <th>527</th>\n",
       "      <td>Ranah 3 Warna</td>\n",
       "      <td>2021</td>\n",
       "      <td>SU</td>\n",
       "      <td>Drama</td>\n",
       "      <td>150</td>\n",
       "      <td>8.7</td>\n",
       "      <td>83</td>\n",
       "      <td>Guntur Soeharjanto</td>\n",
       "      <td>Arbani Yasiz</td>\n",
       "      <td>Amanda Rawles</td>\n",
       "      <td>Teuku Rasya</td>\n",
       "      <td>David Chalik</td>\n",
       "    </tr>\n",
       "  </tbody>\n",
       "</table>\n",
       "</div>"
      ],
      "text/plain": [
       "                      Title  Year  Rated                                Genre  \\\n",
       "1950    Pocong Rumah Angker  2010    13+                   Horror               \n",
       "2363     Kain Kafan Perawan  2010    13+                   Horror               \n",
       "922   What's Up with Cinta?  2002  TV-14           Drama, Romance               \n",
       "1897            Get M4rried  2013    13+                   Comedy               \n",
       "1356         Verses of Love  2008    13+           Drama, Romance               \n",
       "1607          7 Hari 24 Jam  2014    13+           Drama, Romance               \n",
       "261              12:00 A.M.  2005    13+   Drama, Horror, Mystery               \n",
       "2052                   Liar  2008    13+                                Drama   \n",
       "1152               Pocong 3  2007    13+                   Horror               \n",
       "527           Ranah 3 Warna  2021     SU                    Drama               \n",
       "\n",
       "      Runtime (Minutes)  Rating  Votes            Director  \\\n",
       "1950                 81     6.0     25    Nayato Fio Nuala   \n",
       "2363                 85     4.3     38    Nayato Fio Nuala   \n",
       "922                 112     7.7   2890      Rudy Soedjarwo   \n",
       "1897                112     6.9     50          Monty Tiwa   \n",
       "1356                130     6.9   1186    Hanung Bramantyo   \n",
       "1607                 97     6.9     99        Fajar Nugros   \n",
       "261                 105     3.5     37    Nayato Fio Nuala   \n",
       "2052                 95     5.1     16      Rudy Soedjarwo   \n",
       "1152                 90     5.0     52          Monty Tiwa   \n",
       "527                 150     8.7     83  Guntur Soeharjanto   \n",
       "\n",
       "                  Star 1              Star 2               Star 3  \\\n",
       "1950        Pamela Bowie              Donita         Krisna Patra   \n",
       "2363       Smitha Anjani        Ratu Felisha           Sarah Jane   \n",
       "922   Dian Sastrowardoyo    Nicholas Saputra         Ladya Cheryl   \n",
       "1897        Nirina Zubir      Nino Fernandez       Aming Sugandhi   \n",
       "1356          Iqbal Rais          Fedi Nuril    Rianti Cartwright   \n",
       "1607        Lukman Sardi  Dian Sastrowardoyo       Henky Solaiman   \n",
       "261    Abimana Aryasatya          Olga Lydia  Rionaldo Stockhorst   \n",
       "2052         Raffi Ahmad        Irgi Fahrezi        Intan Nuraini   \n",
       "1152   Francine Roosenda    Darius Sinathrya        Gary M. Iskak   \n",
       "527         Arbani Yasiz       Amanda Rawles          Teuku Rasya   \n",
       "\n",
       "                  Star 4  \n",
       "1950              Radith  \n",
       "2363        Ardina Rasti  \n",
       "922           Titi Kamal  \n",
       "1897  Ringgo Agus Rahman  \n",
       "1356       Carissa Putri  \n",
       "1607      Verdi Solaiman  \n",
       "261                Inong  \n",
       "2052          Asmirandah  \n",
       "1152   Elmayana Sabriena  \n",
       "527         David Chalik  "
      ]
     },
     "execution_count": 37,
     "metadata": {},
     "output_type": "execute_result"
    }
   ],
   "source": [
    "list = ['Nayato Fio Nuala','Hanung Bramantyo', 'Rizal Mantovani', 'Monty Tiwa', 'Guntur Soeharjanto', \n",
    "        'Rudy Soedjarwo', 'Raka Prijanto', 'Anggy Umbara', 'Findo Purwono', 'Fajar Nugros']\n",
    "\n",
    "director_rt = df[df['Director'].isin(list)]\n",
    "\n",
    "director_rt.sample(10)"
   ]
  },
  {
   "cell_type": "code",
   "execution_count": 185,
   "id": "949fc061",
   "metadata": {},
   "outputs": [
    {
     "data": {
      "application/vnd.plotly.v1+json": {
       "config": {
        "plotlyServerURL": "https://plot.ly"
       },
       "data": [
        {
         "customdata": [
          [
           "Srimulat: Hil yang Mustahal - Babak Kedua"
          ],
          [
           "Balada Si Roy"
          ],
          [
           "Dignitate"
          ],
          [
           "Yowis Band"
          ],
          [
           "Yowis Ben II"
          ],
          [
           "Yowis Ben 3"
          ],
          [
           "Yowis Ben Finale"
          ],
          [
           "Terbang: Menembus Langit"
          ],
          [
           "Cinta di Saku Celana"
          ],
          [
           "Adriana"
          ],
          [
           "Bajaj Bajuri"
          ],
          [
           "Gangster"
          ],
          [
           "Srimulat: Hil yang Mustahal - Babak Pertama"
          ],
          [
           "Micin Generation"
          ],
          [
           "7 Hari 24 Jam"
          ],
          [
           "Refrain"
          ],
          [
           "The Womb"
          ],
          [
           "Cinta Brontosaurus"
          ],
          [
           "Bajaj Bajuri the Movie"
          ],
          [
           "Cinta Selamanya"
          ],
          [
           "Queen Bee"
          ],
          [
           "MeloDylan"
          ],
          [
           "Moammar Emka's Jakarta Undercover"
          ]
         ],
         "hovertemplate": "Director=Fajar Nugros<br>Runtime (Minutes)=%{x}<br>Rating=%{marker.size}<br>Title=%{customdata[0]}<extra></extra>",
         "legendgroup": "Fajar Nugros",
         "marker": {
          "color": "#636efa",
          "size": [
           7,
           8.4,
           6,
           7.4,
           6.9,
           7,
           7.5,
           7.2,
           6.7,
           6.9,
           7.8,
           6.1,
           7.2,
           5.6,
           6.9,
           6.1,
           6.6,
           6,
           5.8,
           7.4,
           4.8,
           6.2,
           7.1
          ],
          "sizemode": "area",
          "sizeref": 0.094,
          "symbol": "circle"
         },
         "mode": "markers",
         "name": "Fajar Nugros",
         "orientation": "v",
         "showlegend": true,
         "type": "scatter",
         "x": [
          110,
          119,
          109,
          99,
          109,
          113,
          95,
          111,
          75,
          107,
          83,
          99,
          110,
          88,
          97,
          110,
          116,
          98,
          93,
          100,
          107,
          92,
          129
         ],
         "xaxis": "x",
         "y": [
          7,
          8.4,
          6,
          7.4,
          6.9,
          7,
          7.5,
          7.2,
          6.7,
          6.9,
          7.8,
          6.1,
          7.2,
          5.6,
          6.9,
          6.1,
          6.6,
          6,
          5.8,
          7.4,
          4.8,
          6.2,
          7.1
         ],
         "yaxis": "y"
        },
        {
         "customdata": [
          [
           "Love is Trap"
          ],
          [
           "Menebus Impian"
          ],
          [
           "Doa yang Mengancam"
          ],
          [
           "Soekarno"
          ],
          [
           "Threatening Prayer"
          ],
          [
           "Hijab"
          ],
          [
           "Jomblo"
          ],
          [
           "Kartini: Princess of Java"
          ],
          [
           "Lentera Merah"
          ],
          [
           "Adit Sopo Jarwo: The Movie"
          ],
          [
           "Jomblo"
          ],
          [
           "Cinta Tapi Beda"
          ],
          [
           "This Earth of Mankind"
          ],
          [
           "Verses of Love"
          ],
          [
           "Pengejar Angin"
          ],
          [
           "Get Married 2"
          ],
          [
           "Catatan Akhir Sekolah"
          ],
          [
           "Sang Pencerah"
          ],
          [
           "Brownies"
          ],
          [
           "Paper Boat"
          ],
          [
           "Paper Boat 2"
          ],
          [
           "Habibie & Ainun 3"
          ],
          [
           "The Heaven None Missed 2"
          ],
          [
           "Get Married"
          ],
          [
           "Melody of Love"
          ],
          [
           "2014"
          ],
          [
           "Woman with a Turban"
          ],
          [
           "The Gift"
          ],
          [
           "Rudy Habibie"
          ],
          [
           "Benyamin the Troublemaker"
          ],
          [
           "Benyamin the Troublemaker 2"
          ],
          [
           "Question Mark"
          ],
          [
           "Satria Dewa: Gatotkaca"
          ],
          [
           "JK"
          ],
          [
           "The Robbers"
          ],
          [
           "Bittersweet Seventeen"
          ],
          [
           "Legenda Sundel Bolong"
          ],
          [
           "Miracle in Cell No. 7"
          ],
          [
           "Sultan Agung: Tahta, Perjuangan, Cinta"
          ],
          [
           "A Kick from the Sky"
          ]
         ],
         "hovertemplate": "Director=Hanung Bramantyo<br>Runtime (Minutes)=%{x}<br>Rating=%{marker.size}<br>Title=%{customdata[0]}<extra></extra>",
         "legendgroup": "Hanung Bramantyo",
         "marker": {
          "color": "#EF553B",
          "size": [
           6.8,
           6.1,
           6.3,
           6.9,
           7.5,
           6,
           7.2,
           7.6,
           6.1,
           7.2,
           6.7,
           6.9,
           6.9,
           6.9,
           7,
           6.1,
           7.4,
           7.1,
           6.1,
           7,
           6.6,
           7.2,
           6.8,
           6.5,
           6.2,
           6.9,
           6.7,
           7.4,
           7.5,
           5.2,
           6.1,
           7,
           6.4,
           6.5,
           6.4,
           8.6,
           5.2,
           7.9,
           7,
           7.1
          ],
          "sizemode": "area",
          "sizeref": 0.094,
          "symbol": "circle"
         },
         "mode": "markers",
         "name": "Hanung Bramantyo",
         "orientation": "v",
         "showlegend": true,
         "type": "scatter",
         "x": [
          14,
          99,
          90,
          137,
          115,
          100,
          115,
          122,
          100,
          82,
          110,
          95,
          181,
          130,
          101,
          92,
          109,
          112,
          83,
          111,
          100,
          121,
          121,
          105,
          20,
          109,
          131,
          118,
          124,
          95,
          97,
          100,
          129,
          6,
          134,
          22,
          91,
          145,
          148,
          118
         ],
         "xaxis": "x",
         "y": [
          6.8,
          6.1,
          6.3,
          6.9,
          7.5,
          6,
          7.2,
          7.6,
          6.1,
          7.2,
          6.7,
          6.9,
          6.9,
          6.9,
          7,
          6.1,
          7.4,
          7.1,
          6.1,
          7,
          6.6,
          7.2,
          6.8,
          6.5,
          6.2,
          6.9,
          6.7,
          7.4,
          7.5,
          5.2,
          6.1,
          7,
          6.4,
          6.5,
          6.4,
          8.6,
          5.2,
          7.9,
          7,
          7.1
         ],
         "yaxis": "y"
        },
        {
         "customdata": [
          [
           "Pocong Jalan Blora"
          ],
          [
           "12:00 A.M."
          ],
          [
           "3 Pocong Idiot"
          ],
          [
           "Poconggg Juga Pocong"
          ],
          [
           "Virgin 3: Satu Malam Mengubah Segalanya"
          ],
          [
           "Heart 2 Heart"
          ],
          [
           "Takut: Tujuh Hari Bersama Setan"
          ],
          [
           "Hantu Jeruk Purut"
          ],
          [
           "7 Hari Menembus Waktu"
          ],
          [
           "Enak Sama Enak"
          ],
          [
           "Putih Abu-Abu dan Sepatu Kets"
          ],
          [
           "18+: True Love Never Dies"
          ],
          [
           "Pocong Jumat Kliwon"
          ],
          [
           "Sarang Kuntilanak"
          ],
          [
           "Kepergok Pocong"
          ],
          [
           "Kangen"
          ],
          [
           "Pengantin Pantai Biru"
          ],
          [
           "Not for Sale"
          ],
          [
           "Seandainya"
          ],
          [
           "Malam Jumat Kliwon"
          ],
          [
           "Pelet Kuntilanak"
          ],
          [
           "The Butterfly"
          ],
          [
           "Pocong Ngesot"
          ],
          [
           "My Last Love"
          ],
          [
           "Kuntilanak Beranak"
          ],
          [
           "Kalung Jailangkung"
          ],
          [
           "Tarung: City of the Darkness"
          ],
          [
           "Pocong Minta Kawin"
          ],
          [
           "Gotcha"
          ],
          [
           "Panggil Namaku 3×"
          ],
          [
           "Gaby dan Lagunya"
          ],
          [
           "The Ghost of Mortuary"
          ],
          [
           "After School Horror"
          ],
          [
           "3600 Detik"
          ],
          [
           "Kuntilanak Kesurupan"
          ],
          [
           "Virgin 2: Bukan Film Porno"
          ],
          [
           "Jeritan Kuntilanak"
          ],
          [
           "Belum Cukup Umur"
          ],
          [
           "17 Tahun Ke Atas"
          ],
          [
           "Hantu Jamu Gendong"
          ],
          [
           "Mengejar Setan"
          ],
          [
           "Dilarang Masuk!"
          ],
          [
           "After School Horror 2"
          ],
          [
           "Merem Melek"
          ],
          [
           "Te[rekam]"
          ],
          [
           "Bangkit dari Kubur"
          ],
          [
           "Santet Kuntilanak"
          ],
          [
           "Kuntilanak-Kuntilanak"
          ],
          [
           "Pocong Rumah Angker"
          ],
          [
           "Me vs. High Heels"
          ],
          [
           "Pocong Kesetanan!"
          ],
          [
           "Pocong Kamar Sebelah"
          ],
          [
           "Hantu Perawan Jeruk Purut"
          ],
          [
           "18++: Forever Love"
          ],
          [
           "Wengi: Anak Mayit"
          ],
          [
           "Bila"
          ],
          [
           "Kereta Hantu Manggarai"
          ],
          [
           "Affair"
          ],
          [
           "Dendam dari Kuburan"
          ],
          [
           "Kain Kafan Perawan"
          ],
          [
           "Akibat Pergaulan Bebas"
          ],
          [
           "Tumbal Jailangkung"
          ],
          [
           "Di Sini Ada Yang Mati"
          ],
          [
           "Hantu Ambulance"
          ],
          [
           "Nakalnya Anak Muda"
          ],
          [
           "Rumah Pasung"
          ],
          [
           "Hantu Gunung Kawi"
          ],
          [
           "Keranda Kuntilanak"
          ],
          [
           "Ada Apa dengan Pocong?"
          ],
          [
           "Bukan Pocong Biasa"
          ]
         ],
         "hovertemplate": "Director=Nayato Fio Nuala<br>Runtime (Minutes)=%{x}<br>Rating=%{marker.size}<br>Title=%{customdata[0]}<extra></extra>",
         "legendgroup": "Nayato Fio Nuala",
         "marker": {
          "color": "#00cc96",
          "size": [
           3.8,
           3.5,
           4.7,
           6.1,
           5.8,
           8.3,
           6.2,
           4.8,
           7.5,
           2.3,
           4.2,
           5,
           2.8,
           3.9,
           4.3,
           6,
           2.6,
           4,
           6.8,
           2.1,
           3.3,
           6.2,
           2.5,
           6,
           4.6,
           5.3,
           6.1,
           7.5,
           5.3,
           5.2,
           6.7,
           5,
           7.2,
           6.7,
           2.4,
           5.5,
           4.5,
           6.4,
           6.1,
           3.7,
           7.1,
           6.7,
           4.8,
           2.6,
           3.8,
           5.2,
           3.3,
           4.8,
           6,
           5.1,
           4.5,
           4.4,
           3.3,
           7.2,
           7,
           5.3,
           4.9,
           4.2,
           2.4,
           4.3,
           5,
           5.7,
           6.9,
           3.1,
           3.9,
           8.5,
           5.3,
           2.8,
           5.3,
           5.6
          ],
          "sizemode": "area",
          "sizeref": 0.094,
          "symbol": "circle"
         },
         "mode": "markers",
         "name": "Nayato Fio Nuala",
         "orientation": "v",
         "showlegend": true,
         "type": "scatter",
         "x": [
          80,
          105,
          80,
          78,
          82,
          90,
          78,
          91,
          89,
          80,
          80,
          90,
          77,
          90,
          78,
          91,
          74,
          85,
          82,
          90,
          91,
          85,
          79,
          88,
          74,
          80,
          84,
          84,
          97,
          97,
          90,
          85,
          77,
          90,
          79,
          86,
          90,
          77,
          83,
          90,
          71,
          77,
          80,
          90,
          75,
          72,
          77,
          77,
          81,
          118,
          76,
          80,
          80,
          82,
          76,
          84,
          89,
          75,
          80,
          85,
          71,
          82,
          68,
          88,
          75,
          77,
          91,
          83,
          104,
          80
         ],
         "xaxis": "x",
         "y": [
          3.8,
          3.5,
          4.7,
          6.1,
          5.8,
          8.3,
          6.2,
          4.8,
          7.5,
          2.3,
          4.2,
          5,
          2.8,
          3.9,
          4.3,
          6,
          2.6,
          4,
          6.8,
          2.1,
          3.3,
          6.2,
          2.5,
          6,
          4.6,
          5.3,
          6.1,
          7.5,
          5.3,
          5.2,
          6.7,
          5,
          7.2,
          6.7,
          2.4,
          5.5,
          4.5,
          6.4,
          6.1,
          3.7,
          7.1,
          6.7,
          4.8,
          2.6,
          3.8,
          5.2,
          3.3,
          4.8,
          6,
          5.1,
          4.5,
          4.4,
          3.3,
          7.2,
          7,
          5.3,
          4.9,
          4.2,
          2.4,
          4.3,
          5,
          5.7,
          6.9,
          3.1,
          3.9,
          8.5,
          5.3,
          2.8,
          5.3,
          5.6
         ],
         "yaxis": "y"
        },
        {
         "customdata": [
          [
           "Sabtu Bersama Bapak"
          ],
          [
           "Layla Majnun"
          ],
          [
           "I You & KUA"
          ],
          [
           "I Love You Silly"
          ],
          [
           "XL: Extra Large - Antara Aku, Kau, dan Mak Erot"
          ],
          [
           "Madu Murni"
          ],
          [
           "Rompis"
          ],
          [
           "Lagi-Lagi Ateng"
          ],
          [
           "Sampai Ujung Dunia"
          ],
          [
           "Pocong 3"
          ],
          [
           "Get Married 3"
          ],
          [
           "Raksasa Dari Jogja"
          ],
          [
           "Kalau Cinta Jangan Cengeng"
          ],
          [
           "Laskar Pemimpi"
          ],
          [
           "Pocong the Origin"
          ],
          [
           "Get M4rried"
          ],
          [
           "Keramat"
          ],
          [
           "My Lecturer, My Husband"
          ],
          [
           "Matt & Mou"
          ],
          [
           "Shy Shy Cat"
          ],
          [
           "The Publicist"
          ],
          [
           "Test Pack"
          ],
          [
           "Romantini"
          ],
          [
           "Barbi3"
          ],
          [
           "3 Dara 2"
          ],
          [
           "Wakil Rakyat"
          ],
          [
           "Keramat 2: Caruban Larang"
          ],
          [
           "Ghibah"
          ],
          [
           "Mahasiswi Baru"
          ],
          [
           "Aku Ingin Ibu Pulang"
          ],
          [
           "Operation Wedding"
          ]
         ],
         "hovertemplate": "Director=Monty Tiwa<br>Runtime (Minutes)=%{x}<br>Rating=%{marker.size}<br>Title=%{customdata[0]}<extra></extra>",
         "legendgroup": "Monty Tiwa",
         "marker": {
          "color": "#ab63fa",
          "size": [
           7.4,
           6.1,
           6.9,
           8,
           4.8,
           8.1,
           6.4,
           6.6,
           7.9,
           5,
           5.7,
           7.4,
           5.2,
           6,
           5.5,
           6.9,
           6.8,
           8,
           6.6,
           6.2,
           5.8,
           7.2,
           5.9,
           3.8,
           6.5,
           5.6,
           1.9,
           5.7,
           6.2,
           7.7,
           6.6
          ],
          "sizemode": "area",
          "sizeref": 0.094,
          "symbol": "circle"
         },
         "mode": "markers",
         "name": "Monty Tiwa",
         "orientation": "v",
         "showlegend": true,
         "type": "scatter",
         "x": [
          100,
          119,
          105,
          46,
          96,
          96,
          99,
          108,
          93,
          90,
          95,
          100,
          112,
          96,
          90,
          112,
          80,
          40,
          96,
          102,
          32,
          105,
          90,
          85,
          89,
          97,
          94,
          93,
          96,
          101,
          106
         ],
         "xaxis": "x",
         "y": [
          7.4,
          6.1,
          6.9,
          8,
          4.8,
          8.1,
          6.4,
          6.6,
          7.9,
          5,
          5.7,
          7.4,
          5.2,
          6,
          5.5,
          6.9,
          6.8,
          8,
          6.6,
          6.2,
          5.8,
          7.2,
          5.9,
          3.8,
          6.5,
          5.6,
          1.9,
          5.7,
          6.2,
          7.7,
          6.6
         ],
         "yaxis": "y"
        },
        {
         "customdata": [
          [
           "Warkop DKI Reborn: Jangkrik Boss Part 2"
          ],
          [
           "Warkop DKI Reborn: Jangkrik Boss Part 1"
          ],
          [
           "Mama Cake"
          ],
          [
           "The Watcher"
          ],
          [
           "Devil on Top"
          ],
          [
           "5 Cowok Jagoan: Rise of the Zombies"
          ],
          [
           "Bloodlust Beauty"
          ],
          [
           "Will"
          ],
          [
           "Insya Allah Sah 2"
          ],
          [
           "Satu Suro"
          ],
          [
           "3: Alif, Lam, Mim"
          ],
          [
           "Balada Sepasang Kekasih Gila"
          ],
          [
           "Comic 8"
          ],
          [
           "Mendadak Kaya"
          ],
          [
           "DOA (Doyok-Otoy-Ali Oncom): Cari Jodoh"
          ],
          [
           "Comic 8: Casino Kings Part 1"
          ],
          [
           "Comic 8: Casino Kings Part 2"
          ],
          [
           "Coboy Junior: The Movie"
          ],
          [
           "I"
          ],
          [
           "Survive"
          ],
          [
           "Tersanjung: The Series"
          ],
          [
           "Till Death Do Us Part"
          ],
          [
           "Hitmen"
          ],
          [
           "Patience is the test"
          ]
         ],
         "hovertemplate": "Director=Anggy Umbara<br>Runtime (Minutes)=%{x}<br>Rating=%{marker.size}<br>Title=%{customdata[0]}<extra></extra>",
         "legendgroup": "Anggy Umbara",
         "marker": {
          "color": "#FFA15A",
          "size": [
           5.4,
           6.4,
           7.7,
           6,
           5.5,
           6.6,
           5.2,
           7,
           7,
           6.2,
           7.2,
           6.3,
           6.8,
           5.8,
           6.1,
           6.1,
           5.8,
           3.5,
           6,
           6.5,
           9.4,
           5.6,
           7.5,
           7.4
          ],
          "sizemode": "area",
          "sizeref": 0.094,
          "symbol": "circle"
         },
         "mode": "markers",
         "name": "Anggy Umbara",
         "orientation": "v",
         "showlegend": true,
         "type": "scatter",
         "x": [
          110,
          95,
          137,
          79,
          104,
          106,
          116,
          101,
          91,
          94,
          123,
          90,
          106,
          92,
          83,
          104,
          95,
          125,
          86,
          95,
          25,
          81,
          83,
          126
         ],
         "xaxis": "x",
         "y": [
          5.4,
          6.4,
          7.7,
          6,
          5.5,
          6.6,
          5.2,
          7,
          7,
          6.2,
          7.2,
          6.3,
          6.8,
          5.8,
          6.1,
          6.1,
          5.8,
          3.5,
          6,
          6.5,
          9.4,
          5.6,
          7.5,
          7.4
         ],
         "yaxis": "y"
        },
        {
         "customdata": [
          [
           "The Mother's Prayer (Doa Sang Ibu)"
          ],
          [
           "Bulan Terbelah di Langit Amerika"
          ],
          [
           "Bulan Terbelah di Langit Amerika 2"
          ],
          [
           "Mumun"
          ],
          [
           "Wewe"
          ],
          [
           "Penakluk Camer"
          ],
          [
           "Ada Kamu, Aku Ada"
          ],
          [
           "Pupus"
          ],
          [
           "Taring"
          ],
          [
           "Jenglot Pantai Selatan"
          ],
          [
           "Jatuh Cinta Lagi"
          ],
          [
           "An Anthology of Fellings"
          ],
          [
           "5 cm"
          ],
          [
           "Supernova"
          ],
          [
           "Cewek Gokil"
          ],
          [
           "Cherrybelle: Crush"
          ],
          [
           "Jailangkung"
          ],
          [
           "Jailangkung 2"
          ],
          [
           "The Uninvited"
          ],
          [
           "The Chanting"
          ],
          [
           "The Chanting 3"
          ],
          [
           "Firegate"
          ],
          [
           "Rumah Kentang: The Beginning"
          ],
          [
           "Tembang Lingsir"
          ],
          [
           "Trinity, The Nekad Traveler"
          ],
          [
           "Trinity Traveler"
          ],
          [
           "Mati Suri"
          ],
          [
           "Kuntilanak 3"
          ],
          [
           "Rasuk 2"
          ],
          [
           "Baby Occult: Baby Tumbal Baby Die"
          ],
          [
           "Kuntilanak 2"
          ],
          [
           "The Chanting Revisited"
          ],
          [
           "Eiffel I'm in Love 2"
          ],
          [
           "Kesurupan"
          ],
          [
           "Asih 2"
          ],
          [
           "Malapataka"
          ],
          [
           "The Chanting 2"
          ],
          [
           "Air Terjun Pengantin Phuket"
          ],
          [
           "Air Terjun Pengantin"
          ],
          [
           "Chrisye"
          ]
         ],
         "hovertemplate": "Director=Rizal Mantovani<br>Runtime (Minutes)=%{x}<br>Rating=%{marker.size}<br>Title=%{customdata[0]}<extra></extra>",
         "legendgroup": "Rizal Mantovani",
         "marker": {
          "color": "#19d3f3",
          "size": [
           6.2,
           6,
           4.4,
           6.3,
           5.8,
           6.5,
           5.3,
           6.8,
           5.3,
           3.9,
           5.4,
           6.3,
           7.2,
           6.3,
           6.2,
           4.3,
           3.7,
           4.3,
           6.5,
           5.9,
           5.2,
           5.4,
           5.8,
           5.3,
           6.5,
           5.9,
           5.4,
           4.2,
           5.2,
           5.1,
           4.2,
           4.6,
           6.3,
           4.2,
           6.1,
           7.7,
           5.6,
           5.2,
           3.6,
           7.1
          ],
          "sizemode": "area",
          "sizeref": 0.094,
          "symbol": "circle"
         },
         "mode": "markers",
         "name": "Rizal Mantovani",
         "orientation": "v",
         "showlegend": true,
         "type": "scatter",
         "x": [
          13,
          109,
          100,
          106,
          100,
          12,
          105,
          99,
          90,
          78,
          96,
          108,
          125,
          135,
          79,
          101,
          86,
          83,
          102,
          93,
          90,
          113,
          102,
          90,
          103,
          97,
          90,
          105,
          95,
          93,
          100,
          105,
          117,
          99,
          104,
          10,
          102,
          83,
          80,
          110
         ],
         "xaxis": "x",
         "y": [
          6.2,
          6,
          4.4,
          6.3,
          5.8,
          6.5,
          5.3,
          6.8,
          5.3,
          3.9,
          5.4,
          6.3,
          7.2,
          6.3,
          6.2,
          4.3,
          3.7,
          4.3,
          6.5,
          5.9,
          5.2,
          5.4,
          5.8,
          5.3,
          6.5,
          5.9,
          5.4,
          4.2,
          5.2,
          5.1,
          4.2,
          4.6,
          6.3,
          4.2,
          6.1,
          7.7,
          5.6,
          5.2,
          3.6,
          7.1
         ],
         "yaxis": "y"
        },
        {
         "customdata": [
          [
           "99 Cahaya di Langit Eropa Part 2"
          ],
          [
           "99 Cahaya di Langit Eropa"
          ],
          [
           "Lampor: The Flying Coffin"
          ],
          [
           "Argantara"
          ],
          [
           "Ranah 3 Warna"
          ],
          [
           "Ngebut Kawin"
          ],
          [
           "Jilbab Traveler: Love Sparks in Korea"
          ],
          [
           "Pinky Promise"
          ],
          [
           "Brandal-Brandal Ciliwung"
          ],
          [
           "Dreams"
          ],
          [
           "Verses of Love 2"
          ],
          [
           "Crazy Love"
          ],
          [
           "Kabayan Jadi Milyuner"
          ],
          [
           "Otomatis Romantis"
          ],
          [
           "Little Mom"
          ],
          [
           "Purple Love"
          ],
          [
           "Belok Kanan Barcelona"
          ],
          [
           "Assalamualaikum Beijing"
          ],
          [
           "Runaway"
          ],
          [
           "If I Were You"
          ],
          [
           "Makmum 2"
          ],
          [
           "Cinlok"
          ],
          [
           "Backstage"
          ],
          [
           "Cinta Laki-Laki Biasa"
          ],
          [
           "LDR"
          ],
          [
           "LDR 2: Where Is My Romeo"
          ],
          [
           "Tampan Tailor"
          ]
         ],
         "hovertemplate": "Director=Guntur Soeharjanto<br>Runtime (Minutes)=%{x}<br>Rating=%{marker.size}<br>Title=%{customdata[0]}<extra></extra>",
         "legendgroup": "Guntur Soeharjanto",
         "marker": {
          "color": "#FF6692",
          "size": [
           6.3,
           6.2,
           5.3,
           3.1,
           8.7,
           6,
           6,
           7.8,
           7.6,
           7.2,
           5.5,
           7.2,
           5.3,
           6.3,
           7.4,
           6.1,
           6.4,
           7.3,
           6.8,
           7.4,
           4.9,
           4.7,
           7.5,
           7.8,
           6.5,
           6.5,
           7.5
          ],
          "sizemode": "area",
          "sizeref": 0.094,
          "symbol": "circle"
         },
         "mode": "markers",
         "name": "Guntur Soeharjanto",
         "orientation": "v",
         "showlegend": true,
         "type": "scatter",
         "x": [
          102,
          105,
          95,
          95,
          150,
          90,
          112,
          104,
          105,
          97,
          125,
          90,
          105,
          100,
          50,
          99,
          107,
          95,
          90,
          104,
          92,
          90,
          115,
          115,
          90,
          82,
          100
         ],
         "xaxis": "x",
         "y": [
          6.3,
          6.2,
          5.3,
          3.1,
          8.7,
          6,
          6,
          7.8,
          7.6,
          7.2,
          5.5,
          7.2,
          5.3,
          6.3,
          7.4,
          6.1,
          6.4,
          7.3,
          6.8,
          7.4,
          4.9,
          4.7,
          7.5,
          7.8,
          6.5,
          6.5,
          7.5
         ],
         "yaxis": "y"
        },
        {
         "customdata": [
          [
           "About Someone"
          ],
          [
           "Pasukan Kapiten"
          ],
          [
           "13: The Haunted"
          ],
          [
           "Return of the Devil's Child"
          ],
          [
           "Hantu Rumah Ampera"
          ],
          [
           "Stay with Me"
          ],
          [
           "Denting Kematian"
          ],
          [
           "Lima Elang"
          ],
          [
           "Algojo: Perang Santet"
          ],
          [
           "What's Up with Cinta?"
          ],
          [
           "The Nine Dragons"
          ],
          [
           "Garuda di Dadaku 2"
          ],
          [
           "Chasing the Sun"
          ],
          [
           "Rumah Ketujuh"
          ],
          [
           "Mengejar Mas Mas"
          ],
          [
           "Batas"
          ],
          [
           "Sayap-Sayap Patah"
          ],
          [
           "Kambing Jantan"
          ],
          [
           "Liar"
          ],
          [
           "40 Hari Bangkitnya Pocong"
          ],
          [
           "Pocong 2"
          ],
          [
           "Langit Ke-7"
          ],
          [
           "Pocong"
          ],
          [
           "Sebelah mata"
          ],
          [
           "Tragedi"
          ],
          [
           "In the Name of Love"
          ]
         ],
         "hovertemplate": "Director=Rudy Soedjarwo<br>Runtime (Minutes)=%{x}<br>Rating=%{marker.size}<br>Title=%{customdata[0]}<extra></extra>",
         "legendgroup": "Rudy Soedjarwo",
         "marker": {
          "color": "#B6E880",
          "size": [
           7.3,
           7.4,
           5.7,
           5.3,
           4.6,
           6.9,
           3.9,
           7.6,
           1.9,
           7.7,
           6.6,
           6.4,
           7.3,
           5.1,
           7.4,
           7.9,
           5.4,
           5.6,
           5.1,
           4.8,
           6.5,
           5.7,
           5.8,
           8.4,
           4.1,
           5.6
          ],
          "sizemode": "area",
          "sizeref": 0.094,
          "symbol": "circle"
         },
         "mode": "markers",
         "name": "Rudy Soedjarwo",
         "orientation": "v",
         "showlegend": true,
         "type": "scatter",
         "x": [
          105,
          81,
          107,
          84,
          87,
          107,
          86,
          88,
          94,
          112,
          104,
          100,
          86,
          90,
          94,
          115,
          110,
          118,
          95,
          90,
          98,
          92,
          90,
          116,
          120,
          127
         ],
         "xaxis": "x",
         "y": [
          7.3,
          7.4,
          5.7,
          5.3,
          4.6,
          6.9,
          3.9,
          7.6,
          1.9,
          7.7,
          6.6,
          6.4,
          7.3,
          5.1,
          7.4,
          7.9,
          5.4,
          5.6,
          5.1,
          4.8,
          6.5,
          5.7,
          5.8,
          8.4,
          4.1,
          5.6
         ],
         "yaxis": "y"
        },
        {
         "customdata": [
          [
           "Fallin' in Love"
          ],
          [
           "R: Raja, Ratu, & Rahasia"
          ],
          [
           "Jaran Goyang"
          ],
          [
           "Ku Tunggu Jandamu"
          ],
          [
           "Paku Kuntilanak"
          ],
          [
           "Setan Budeg"
          ],
          [
           "EL: The Movie"
          ],
          [
           "Dad, Why Am I Different?"
          ],
          [
           "My Blackberry Girlfriend"
          ],
          [
           "Love in Perth"
          ],
          [
           "Pocong Setan Jompo"
          ],
          [
           "Akibat Pergaulan Bebas 2"
          ],
          [
           "Menculik Miyabi"
          ],
          [
           "Assalamualaikum Calon Imam"
          ],
          [
           "Coblos Cinta"
          ],
          [
           "Eyang Kubur"
          ],
          [
           "Suster Keramas 2"
          ],
          [
           "Ritual"
          ],
          [
           "Seruan Setan"
          ],
          [
           "Susuk Pocong"
          ],
          [
           "Lihat Boleh, Pegang Jangan"
          ],
          [
           "Honeymoon"
          ],
          [
           "Hantu Tanah Kusir"
          ]
         ],
         "hovertemplate": "Director=Findo Purwono<br>Runtime (Minutes)=%{x}<br>Rating=%{marker.size}<br>Title=%{customdata[0]}<extra></extra>",
         "legendgroup": "Findo Purwono",
         "marker": {
          "color": "#FF97FF",
          "size": [
           3.8,
           6.9,
           4.9,
           3.4,
           4.7,
           4.5,
           6.9,
           6.5,
           3.6,
           6.1,
           3.2,
           4,
           3.2,
           7.8,
           3.4,
           6.5,
           4.3,
           4.4,
           4.8,
           2.9,
           2.8,
           5.5,
           4.5
          ],
          "sizemode": "area",
          "sizeref": 0.094,
          "symbol": "circle"
         },
         "mode": "markers",
         "name": "Findo Purwono",
         "orientation": "v",
         "showlegend": true,
         "type": "scatter",
         "x": [
          95,
          98,
          79,
          83,
          76,
          86,
          88,
          99,
          83,
          90,
          89,
          81,
          85,
          93,
          90,
          80,
          80,
          72,
          99,
          122,
          95,
          114,
          82
         ],
         "xaxis": "x",
         "y": [
          3.8,
          6.9,
          4.9,
          3.4,
          4.7,
          4.5,
          6.9,
          6.5,
          3.6,
          6.1,
          3.2,
          4,
          3.2,
          7.8,
          3.4,
          6.5,
          4.3,
          4.4,
          4.8,
          2.9,
          2.8,
          5.5,
          4.5
         ],
         "yaxis": "y"
        }
       ],
       "layout": {
        "annotations": [
         {
          "align": "left",
          "font": {
           "color": "white",
           "size": 15
          },
          "showarrow": false,
          "text": "Created by M. Irvan Dimetrio <br>Source: IMDB Movies Indonesia",
          "x": 0,
          "xanchor": "left",
          "xref": "paper",
          "xshift": -1,
          "y": -0.25,
          "yanchor": "bottom",
          "yref": "paper",
          "yshift": -5
         }
        ],
        "font": {
         "color": "white",
         "family": "Lato",
         "size": 18
        },
        "legend": {
         "itemsizing": "constant",
         "title": {
          "text": "Director"
         },
         "tracegroupgap": 0
        },
        "margin": {
         "b": 100,
         "l": 50,
         "pad": 4,
         "r": 50,
         "t": 100
        },
        "paper_bgcolor": "black",
        "plot_bgcolor": "black",
        "template": {
         "data": {
          "bar": [
           {
            "error_x": {
             "color": "#2a3f5f"
            },
            "error_y": {
             "color": "#2a3f5f"
            },
            "marker": {
             "line": {
              "color": "#E5ECF6",
              "width": 0.5
             },
             "pattern": {
              "fillmode": "overlay",
              "size": 10,
              "solidity": 0.2
             }
            },
            "type": "bar"
           }
          ],
          "barpolar": [
           {
            "marker": {
             "line": {
              "color": "#E5ECF6",
              "width": 0.5
             },
             "pattern": {
              "fillmode": "overlay",
              "size": 10,
              "solidity": 0.2
             }
            },
            "type": "barpolar"
           }
          ],
          "carpet": [
           {
            "aaxis": {
             "endlinecolor": "#2a3f5f",
             "gridcolor": "white",
             "linecolor": "white",
             "minorgridcolor": "white",
             "startlinecolor": "#2a3f5f"
            },
            "baxis": {
             "endlinecolor": "#2a3f5f",
             "gridcolor": "white",
             "linecolor": "white",
             "minorgridcolor": "white",
             "startlinecolor": "#2a3f5f"
            },
            "type": "carpet"
           }
          ],
          "choropleth": [
           {
            "colorbar": {
             "outlinewidth": 0,
             "ticks": ""
            },
            "type": "choropleth"
           }
          ],
          "contour": [
           {
            "colorbar": {
             "outlinewidth": 0,
             "ticks": ""
            },
            "colorscale": [
             [
              0,
              "#0d0887"
             ],
             [
              0.1111111111111111,
              "#46039f"
             ],
             [
              0.2222222222222222,
              "#7201a8"
             ],
             [
              0.3333333333333333,
              "#9c179e"
             ],
             [
              0.4444444444444444,
              "#bd3786"
             ],
             [
              0.5555555555555556,
              "#d8576b"
             ],
             [
              0.6666666666666666,
              "#ed7953"
             ],
             [
              0.7777777777777778,
              "#fb9f3a"
             ],
             [
              0.8888888888888888,
              "#fdca26"
             ],
             [
              1,
              "#f0f921"
             ]
            ],
            "type": "contour"
           }
          ],
          "contourcarpet": [
           {
            "colorbar": {
             "outlinewidth": 0,
             "ticks": ""
            },
            "type": "contourcarpet"
           }
          ],
          "heatmap": [
           {
            "colorbar": {
             "outlinewidth": 0,
             "ticks": ""
            },
            "colorscale": [
             [
              0,
              "#0d0887"
             ],
             [
              0.1111111111111111,
              "#46039f"
             ],
             [
              0.2222222222222222,
              "#7201a8"
             ],
             [
              0.3333333333333333,
              "#9c179e"
             ],
             [
              0.4444444444444444,
              "#bd3786"
             ],
             [
              0.5555555555555556,
              "#d8576b"
             ],
             [
              0.6666666666666666,
              "#ed7953"
             ],
             [
              0.7777777777777778,
              "#fb9f3a"
             ],
             [
              0.8888888888888888,
              "#fdca26"
             ],
             [
              1,
              "#f0f921"
             ]
            ],
            "type": "heatmap"
           }
          ],
          "heatmapgl": [
           {
            "colorbar": {
             "outlinewidth": 0,
             "ticks": ""
            },
            "colorscale": [
             [
              0,
              "#0d0887"
             ],
             [
              0.1111111111111111,
              "#46039f"
             ],
             [
              0.2222222222222222,
              "#7201a8"
             ],
             [
              0.3333333333333333,
              "#9c179e"
             ],
             [
              0.4444444444444444,
              "#bd3786"
             ],
             [
              0.5555555555555556,
              "#d8576b"
             ],
             [
              0.6666666666666666,
              "#ed7953"
             ],
             [
              0.7777777777777778,
              "#fb9f3a"
             ],
             [
              0.8888888888888888,
              "#fdca26"
             ],
             [
              1,
              "#f0f921"
             ]
            ],
            "type": "heatmapgl"
           }
          ],
          "histogram": [
           {
            "marker": {
             "pattern": {
              "fillmode": "overlay",
              "size": 10,
              "solidity": 0.2
             }
            },
            "type": "histogram"
           }
          ],
          "histogram2d": [
           {
            "colorbar": {
             "outlinewidth": 0,
             "ticks": ""
            },
            "colorscale": [
             [
              0,
              "#0d0887"
             ],
             [
              0.1111111111111111,
              "#46039f"
             ],
             [
              0.2222222222222222,
              "#7201a8"
             ],
             [
              0.3333333333333333,
              "#9c179e"
             ],
             [
              0.4444444444444444,
              "#bd3786"
             ],
             [
              0.5555555555555556,
              "#d8576b"
             ],
             [
              0.6666666666666666,
              "#ed7953"
             ],
             [
              0.7777777777777778,
              "#fb9f3a"
             ],
             [
              0.8888888888888888,
              "#fdca26"
             ],
             [
              1,
              "#f0f921"
             ]
            ],
            "type": "histogram2d"
           }
          ],
          "histogram2dcontour": [
           {
            "colorbar": {
             "outlinewidth": 0,
             "ticks": ""
            },
            "colorscale": [
             [
              0,
              "#0d0887"
             ],
             [
              0.1111111111111111,
              "#46039f"
             ],
             [
              0.2222222222222222,
              "#7201a8"
             ],
             [
              0.3333333333333333,
              "#9c179e"
             ],
             [
              0.4444444444444444,
              "#bd3786"
             ],
             [
              0.5555555555555556,
              "#d8576b"
             ],
             [
              0.6666666666666666,
              "#ed7953"
             ],
             [
              0.7777777777777778,
              "#fb9f3a"
             ],
             [
              0.8888888888888888,
              "#fdca26"
             ],
             [
              1,
              "#f0f921"
             ]
            ],
            "type": "histogram2dcontour"
           }
          ],
          "mesh3d": [
           {
            "colorbar": {
             "outlinewidth": 0,
             "ticks": ""
            },
            "type": "mesh3d"
           }
          ],
          "parcoords": [
           {
            "line": {
             "colorbar": {
              "outlinewidth": 0,
              "ticks": ""
             }
            },
            "type": "parcoords"
           }
          ],
          "pie": [
           {
            "automargin": true,
            "type": "pie"
           }
          ],
          "scatter": [
           {
            "fillpattern": {
             "fillmode": "overlay",
             "size": 10,
             "solidity": 0.2
            },
            "type": "scatter"
           }
          ],
          "scatter3d": [
           {
            "line": {
             "colorbar": {
              "outlinewidth": 0,
              "ticks": ""
             }
            },
            "marker": {
             "colorbar": {
              "outlinewidth": 0,
              "ticks": ""
             }
            },
            "type": "scatter3d"
           }
          ],
          "scattercarpet": [
           {
            "marker": {
             "colorbar": {
              "outlinewidth": 0,
              "ticks": ""
             }
            },
            "type": "scattercarpet"
           }
          ],
          "scattergeo": [
           {
            "marker": {
             "colorbar": {
              "outlinewidth": 0,
              "ticks": ""
             }
            },
            "type": "scattergeo"
           }
          ],
          "scattergl": [
           {
            "marker": {
             "colorbar": {
              "outlinewidth": 0,
              "ticks": ""
             }
            },
            "type": "scattergl"
           }
          ],
          "scattermapbox": [
           {
            "marker": {
             "colorbar": {
              "outlinewidth": 0,
              "ticks": ""
             }
            },
            "type": "scattermapbox"
           }
          ],
          "scatterpolar": [
           {
            "marker": {
             "colorbar": {
              "outlinewidth": 0,
              "ticks": ""
             }
            },
            "type": "scatterpolar"
           }
          ],
          "scatterpolargl": [
           {
            "marker": {
             "colorbar": {
              "outlinewidth": 0,
              "ticks": ""
             }
            },
            "type": "scatterpolargl"
           }
          ],
          "scatterternary": [
           {
            "marker": {
             "colorbar": {
              "outlinewidth": 0,
              "ticks": ""
             }
            },
            "type": "scatterternary"
           }
          ],
          "surface": [
           {
            "colorbar": {
             "outlinewidth": 0,
             "ticks": ""
            },
            "colorscale": [
             [
              0,
              "#0d0887"
             ],
             [
              0.1111111111111111,
              "#46039f"
             ],
             [
              0.2222222222222222,
              "#7201a8"
             ],
             [
              0.3333333333333333,
              "#9c179e"
             ],
             [
              0.4444444444444444,
              "#bd3786"
             ],
             [
              0.5555555555555556,
              "#d8576b"
             ],
             [
              0.6666666666666666,
              "#ed7953"
             ],
             [
              0.7777777777777778,
              "#fb9f3a"
             ],
             [
              0.8888888888888888,
              "#fdca26"
             ],
             [
              1,
              "#f0f921"
             ]
            ],
            "type": "surface"
           }
          ],
          "table": [
           {
            "cells": {
             "fill": {
              "color": "#EBF0F8"
             },
             "line": {
              "color": "white"
             }
            },
            "header": {
             "fill": {
              "color": "#C8D4E3"
             },
             "line": {
              "color": "white"
             }
            },
            "type": "table"
           }
          ]
         },
         "layout": {
          "annotationdefaults": {
           "arrowcolor": "#2a3f5f",
           "arrowhead": 0,
           "arrowwidth": 1
          },
          "autotypenumbers": "strict",
          "coloraxis": {
           "colorbar": {
            "outlinewidth": 0,
            "ticks": ""
           }
          },
          "colorscale": {
           "diverging": [
            [
             0,
             "#8e0152"
            ],
            [
             0.1,
             "#c51b7d"
            ],
            [
             0.2,
             "#de77ae"
            ],
            [
             0.3,
             "#f1b6da"
            ],
            [
             0.4,
             "#fde0ef"
            ],
            [
             0.5,
             "#f7f7f7"
            ],
            [
             0.6,
             "#e6f5d0"
            ],
            [
             0.7,
             "#b8e186"
            ],
            [
             0.8,
             "#7fbc41"
            ],
            [
             0.9,
             "#4d9221"
            ],
            [
             1,
             "#276419"
            ]
           ],
           "sequential": [
            [
             0,
             "#0d0887"
            ],
            [
             0.1111111111111111,
             "#46039f"
            ],
            [
             0.2222222222222222,
             "#7201a8"
            ],
            [
             0.3333333333333333,
             "#9c179e"
            ],
            [
             0.4444444444444444,
             "#bd3786"
            ],
            [
             0.5555555555555556,
             "#d8576b"
            ],
            [
             0.6666666666666666,
             "#ed7953"
            ],
            [
             0.7777777777777778,
             "#fb9f3a"
            ],
            [
             0.8888888888888888,
             "#fdca26"
            ],
            [
             1,
             "#f0f921"
            ]
           ],
           "sequentialminus": [
            [
             0,
             "#0d0887"
            ],
            [
             0.1111111111111111,
             "#46039f"
            ],
            [
             0.2222222222222222,
             "#7201a8"
            ],
            [
             0.3333333333333333,
             "#9c179e"
            ],
            [
             0.4444444444444444,
             "#bd3786"
            ],
            [
             0.5555555555555556,
             "#d8576b"
            ],
            [
             0.6666666666666666,
             "#ed7953"
            ],
            [
             0.7777777777777778,
             "#fb9f3a"
            ],
            [
             0.8888888888888888,
             "#fdca26"
            ],
            [
             1,
             "#f0f921"
            ]
           ]
          },
          "colorway": [
           "#636efa",
           "#EF553B",
           "#00cc96",
           "#ab63fa",
           "#FFA15A",
           "#19d3f3",
           "#FF6692",
           "#B6E880",
           "#FF97FF",
           "#FECB52"
          ],
          "font": {
           "color": "#2a3f5f"
          },
          "geo": {
           "bgcolor": "white",
           "lakecolor": "white",
           "landcolor": "#E5ECF6",
           "showlakes": true,
           "showland": true,
           "subunitcolor": "white"
          },
          "hoverlabel": {
           "align": "left"
          },
          "hovermode": "closest",
          "mapbox": {
           "style": "light"
          },
          "paper_bgcolor": "white",
          "plot_bgcolor": "#E5ECF6",
          "polar": {
           "angularaxis": {
            "gridcolor": "white",
            "linecolor": "white",
            "ticks": ""
           },
           "bgcolor": "#E5ECF6",
           "radialaxis": {
            "gridcolor": "white",
            "linecolor": "white",
            "ticks": ""
           }
          },
          "scene": {
           "xaxis": {
            "backgroundcolor": "#E5ECF6",
            "gridcolor": "white",
            "gridwidth": 2,
            "linecolor": "white",
            "showbackground": true,
            "ticks": "",
            "zerolinecolor": "white"
           },
           "yaxis": {
            "backgroundcolor": "#E5ECF6",
            "gridcolor": "white",
            "gridwidth": 2,
            "linecolor": "white",
            "showbackground": true,
            "ticks": "",
            "zerolinecolor": "white"
           },
           "zaxis": {
            "backgroundcolor": "#E5ECF6",
            "gridcolor": "white",
            "gridwidth": 2,
            "linecolor": "white",
            "showbackground": true,
            "ticks": "",
            "zerolinecolor": "white"
           }
          },
          "shapedefaults": {
           "line": {
            "color": "#2a3f5f"
           }
          },
          "ternary": {
           "aaxis": {
            "gridcolor": "white",
            "linecolor": "white",
            "ticks": ""
           },
           "baxis": {
            "gridcolor": "white",
            "linecolor": "white",
            "ticks": ""
           },
           "bgcolor": "#E5ECF6",
           "caxis": {
            "gridcolor": "white",
            "linecolor": "white",
            "ticks": ""
           }
          },
          "title": {
           "x": 0.05
          },
          "xaxis": {
           "automargin": true,
           "gridcolor": "white",
           "linecolor": "white",
           "ticks": "",
           "title": {
            "standoff": 15
           },
           "zerolinecolor": "white",
           "zerolinewidth": 2
          },
          "yaxis": {
           "automargin": true,
           "gridcolor": "white",
           "linecolor": "white",
           "ticks": "",
           "title": {
            "standoff": 15
           },
           "zerolinecolor": "white",
           "zerolinewidth": 2
          }
         }
        },
        "title": {
         "font": {
          "size": 25
         },
         "text": "<b>TOP 10 MOST PRODUCTIVE DIRECTORS - SCATTER PLOT <B>",
         "x": 0.5
        },
        "xaxis": {
         "anchor": "y",
         "domain": [
          0,
          1
         ],
         "showgrid": false,
         "title": {
          "text": "Duration"
         }
        },
        "yaxis": {
         "anchor": "x",
         "domain": [
          0,
          1
         ],
         "showgrid": false,
         "title": {
          "text": "Rating IMDB"
         }
        }
       }
      },
      "text/html": [
       "<div>                            <div id=\"51565e2e-4961-43e2-890f-11723b5c9b8e\" class=\"plotly-graph-div\" style=\"height:525px; width:100%;\"></div>            <script type=\"text/javascript\">                require([\"plotly\"], function(Plotly) {                    window.PLOTLYENV=window.PLOTLYENV || {};                                    if (document.getElementById(\"51565e2e-4961-43e2-890f-11723b5c9b8e\")) {                    Plotly.newPlot(                        \"51565e2e-4961-43e2-890f-11723b5c9b8e\",                        [{\"customdata\":[[\"Srimulat: Hil yang Mustahal - Babak Kedua\"],[\"Balada Si Roy\"],[\"Dignitate\"],[\"Yowis Band\"],[\"Yowis Ben II\"],[\"Yowis Ben 3\"],[\"Yowis Ben Finale\"],[\"Terbang: Menembus Langit\"],[\"Cinta di Saku Celana\"],[\"Adriana\"],[\"Bajaj Bajuri\"],[\"Gangster\"],[\"Srimulat: Hil yang Mustahal - Babak Pertama\"],[\"Micin Generation\"],[\"7 Hari 24 Jam\"],[\"Refrain\"],[\"The Womb\"],[\"Cinta Brontosaurus\"],[\"Bajaj Bajuri the Movie\"],[\"Cinta Selamanya\"],[\"Queen Bee\"],[\"MeloDylan\"],[\"Moammar Emka's Jakarta Undercover\"]],\"hovertemplate\":\"Director=Fajar Nugros<br>Runtime (Minutes)=%{x}<br>Rating=%{marker.size}<br>Title=%{customdata[0]}<extra></extra>\",\"legendgroup\":\"Fajar Nugros\",\"marker\":{\"color\":\"#636efa\",\"size\":[7.0,8.4,6.0,7.4,6.9,7.0,7.5,7.2,6.7,6.9,7.8,6.1,7.2,5.6,6.9,6.1,6.6,6.0,5.8,7.4,4.8,6.2,7.1],\"sizemode\":\"area\",\"sizeref\":0.094,\"symbol\":\"circle\"},\"mode\":\"markers\",\"name\":\"Fajar Nugros\",\"orientation\":\"v\",\"showlegend\":true,\"x\":[110,119,109,99,109,113,95,111,75,107,83,99,110,88,97,110,116,98,93,100,107,92,129],\"xaxis\":\"x\",\"y\":[7.0,8.4,6.0,7.4,6.9,7.0,7.5,7.2,6.7,6.9,7.8,6.1,7.2,5.6,6.9,6.1,6.6,6.0,5.8,7.4,4.8,6.2,7.1],\"yaxis\":\"y\",\"type\":\"scatter\"},{\"customdata\":[[\"Love is Trap\"],[\"Menebus Impian\"],[\"Doa yang Mengancam\"],[\"Soekarno\"],[\"Threatening Prayer\"],[\"Hijab\"],[\"Jomblo\"],[\"Kartini: Princess of Java\"],[\"Lentera Merah\"],[\"Adit Sopo Jarwo: The Movie\"],[\"Jomblo\"],[\"Cinta Tapi Beda\"],[\"This Earth of Mankind\"],[\"Verses of Love\"],[\"Pengejar Angin\"],[\"Get Married 2\"],[\"Catatan Akhir Sekolah\"],[\"Sang Pencerah\"],[\"Brownies\"],[\"Paper Boat\"],[\"Paper Boat 2\"],[\"Habibie & Ainun 3\"],[\"The Heaven None Missed 2\"],[\"Get Married\"],[\"Melody of Love\"],[\"2014\"],[\"Woman with a Turban\"],[\"The Gift\"],[\"Rudy Habibie\"],[\"Benyamin the Troublemaker\"],[\"Benyamin the Troublemaker 2\"],[\"Question Mark\"],[\"Satria Dewa: Gatotkaca\"],[\"JK\"],[\"The Robbers\"],[\"Bittersweet Seventeen\"],[\"Legenda Sundel Bolong\"],[\"Miracle in Cell No. 7\"],[\"Sultan Agung: Tahta, Perjuangan, Cinta\"],[\"A Kick from the Sky\"]],\"hovertemplate\":\"Director=Hanung Bramantyo<br>Runtime (Minutes)=%{x}<br>Rating=%{marker.size}<br>Title=%{customdata[0]}<extra></extra>\",\"legendgroup\":\"Hanung Bramantyo\",\"marker\":{\"color\":\"#EF553B\",\"size\":[6.8,6.1,6.3,6.9,7.5,6.0,7.2,7.6,6.1,7.2,6.7,6.9,6.9,6.9,7.0,6.1,7.4,7.1,6.1,7.0,6.6,7.2,6.8,6.5,6.2,6.9,6.7,7.4,7.5,5.2,6.1,7.0,6.4,6.5,6.4,8.6,5.2,7.9,7.0,7.1],\"sizemode\":\"area\",\"sizeref\":0.094,\"symbol\":\"circle\"},\"mode\":\"markers\",\"name\":\"Hanung Bramantyo\",\"orientation\":\"v\",\"showlegend\":true,\"x\":[14,99,90,137,115,100,115,122,100,82,110,95,181,130,101,92,109,112,83,111,100,121,121,105,20,109,131,118,124,95,97,100,129,6,134,22,91,145,148,118],\"xaxis\":\"x\",\"y\":[6.8,6.1,6.3,6.9,7.5,6.0,7.2,7.6,6.1,7.2,6.7,6.9,6.9,6.9,7.0,6.1,7.4,7.1,6.1,7.0,6.6,7.2,6.8,6.5,6.2,6.9,6.7,7.4,7.5,5.2,6.1,7.0,6.4,6.5,6.4,8.6,5.2,7.9,7.0,7.1],\"yaxis\":\"y\",\"type\":\"scatter\"},{\"customdata\":[[\"Pocong Jalan Blora\"],[\"12:00 A.M.\"],[\"3 Pocong Idiot\"],[\"Poconggg Juga Pocong\"],[\"Virgin 3: Satu Malam Mengubah Segalanya\"],[\"Heart 2 Heart\"],[\"Takut: Tujuh Hari Bersama Setan\"],[\"Hantu Jeruk Purut\"],[\"7 Hari Menembus Waktu\"],[\"Enak Sama Enak\"],[\"Putih Abu-Abu dan Sepatu Kets\"],[\"18+: True Love Never Dies\"],[\"Pocong Jumat Kliwon\"],[\"Sarang Kuntilanak\"],[\"Kepergok Pocong\"],[\"Kangen\"],[\"Pengantin Pantai Biru\"],[\"Not for Sale\"],[\"Seandainya\"],[\"Malam Jumat Kliwon\"],[\"Pelet Kuntilanak\"],[\"The Butterfly\"],[\"Pocong Ngesot\"],[\"My Last Love\"],[\"Kuntilanak Beranak\"],[\"Kalung Jailangkung\"],[\"Tarung: City of the Darkness\"],[\"Pocong Minta Kawin\"],[\"Gotcha\"],[\"Panggil Namaku 3\\u00d7\"],[\"Gaby dan Lagunya\"],[\"The Ghost of Mortuary\"],[\"After School Horror\"],[\"3600 Detik\"],[\"Kuntilanak Kesurupan\"],[\"Virgin 2: Bukan Film Porno\"],[\"Jeritan Kuntilanak\"],[\"Belum Cukup Umur\"],[\"17 Tahun Ke Atas\"],[\"Hantu Jamu Gendong\"],[\"Mengejar Setan\"],[\"Dilarang Masuk!\"],[\"After School Horror 2\"],[\"Merem Melek\"],[\"Te[rekam]\"],[\"Bangkit dari Kubur\"],[\"Santet Kuntilanak\"],[\"Kuntilanak-Kuntilanak\"],[\"Pocong Rumah Angker\"],[\"Me vs. High Heels\"],[\"Pocong Kesetanan!\"],[\"Pocong Kamar Sebelah\"],[\"Hantu Perawan Jeruk Purut\"],[\"18++: Forever Love\"],[\"Wengi: Anak Mayit\"],[\"Bila\"],[\"Kereta Hantu Manggarai\"],[\"Affair\"],[\"Dendam dari Kuburan\"],[\"Kain Kafan Perawan\"],[\"Akibat Pergaulan Bebas\"],[\"Tumbal Jailangkung\"],[\"Di Sini Ada Yang Mati\"],[\"Hantu Ambulance\"],[\"Nakalnya Anak Muda\"],[\"Rumah Pasung\"],[\"Hantu Gunung Kawi\"],[\"Keranda Kuntilanak\"],[\"Ada Apa dengan Pocong?\"],[\"Bukan Pocong Biasa\"]],\"hovertemplate\":\"Director=Nayato Fio Nuala<br>Runtime (Minutes)=%{x}<br>Rating=%{marker.size}<br>Title=%{customdata[0]}<extra></extra>\",\"legendgroup\":\"Nayato Fio Nuala\",\"marker\":{\"color\":\"#00cc96\",\"size\":[3.8,3.5,4.7,6.1,5.8,8.3,6.2,4.8,7.5,2.3,4.2,5.0,2.8,3.9,4.3,6.0,2.6,4.0,6.8,2.1,3.3,6.2,2.5,6.0,4.6,5.3,6.1,7.5,5.3,5.2,6.7,5.0,7.2,6.7,2.4,5.5,4.5,6.4,6.1,3.7,7.1,6.7,4.8,2.6,3.8,5.2,3.3,4.8,6.0,5.1,4.5,4.4,3.3,7.2,7.0,5.3,4.9,4.2,2.4,4.3,5.0,5.7,6.9,3.1,3.9,8.5,5.3,2.8,5.3,5.6],\"sizemode\":\"area\",\"sizeref\":0.094,\"symbol\":\"circle\"},\"mode\":\"markers\",\"name\":\"Nayato Fio Nuala\",\"orientation\":\"v\",\"showlegend\":true,\"x\":[80,105,80,78,82,90,78,91,89,80,80,90,77,90,78,91,74,85,82,90,91,85,79,88,74,80,84,84,97,97,90,85,77,90,79,86,90,77,83,90,71,77,80,90,75,72,77,77,81,118,76,80,80,82,76,84,89,75,80,85,71,82,68,88,75,77,91,83,104,80],\"xaxis\":\"x\",\"y\":[3.8,3.5,4.7,6.1,5.8,8.3,6.2,4.8,7.5,2.3,4.2,5.0,2.8,3.9,4.3,6.0,2.6,4.0,6.8,2.1,3.3,6.2,2.5,6.0,4.6,5.3,6.1,7.5,5.3,5.2,6.7,5.0,7.2,6.7,2.4,5.5,4.5,6.4,6.1,3.7,7.1,6.7,4.8,2.6,3.8,5.2,3.3,4.8,6.0,5.1,4.5,4.4,3.3,7.2,7.0,5.3,4.9,4.2,2.4,4.3,5.0,5.7,6.9,3.1,3.9,8.5,5.3,2.8,5.3,5.6],\"yaxis\":\"y\",\"type\":\"scatter\"},{\"customdata\":[[\"Sabtu Bersama Bapak\"],[\"Layla Majnun\"],[\"I You & KUA\"],[\"I Love You Silly\"],[\"XL: Extra Large - Antara Aku, Kau, dan Mak Erot\"],[\"Madu Murni\"],[\"Rompis\"],[\"Lagi-Lagi Ateng\"],[\"Sampai Ujung Dunia\"],[\"Pocong 3\"],[\"Get Married 3\"],[\"Raksasa Dari Jogja\"],[\"Kalau Cinta Jangan Cengeng\"],[\"Laskar Pemimpi\"],[\"Pocong the Origin\"],[\"Get M4rried\"],[\"Keramat\"],[\"My Lecturer, My Husband\"],[\"Matt & Mou\"],[\"Shy Shy Cat\"],[\"The Publicist\"],[\"Test Pack\"],[\"Romantini\"],[\"Barbi3\"],[\"3 Dara 2\"],[\"Wakil Rakyat\"],[\"Keramat 2: Caruban Larang\"],[\"Ghibah\"],[\"Mahasiswi Baru\"],[\"Aku Ingin Ibu Pulang\"],[\"Operation Wedding\"]],\"hovertemplate\":\"Director=Monty Tiwa<br>Runtime (Minutes)=%{x}<br>Rating=%{marker.size}<br>Title=%{customdata[0]}<extra></extra>\",\"legendgroup\":\"Monty Tiwa\",\"marker\":{\"color\":\"#ab63fa\",\"size\":[7.4,6.1,6.9,8.0,4.8,8.1,6.4,6.6,7.9,5.0,5.7,7.4,5.2,6.0,5.5,6.9,6.8,8.0,6.6,6.2,5.8,7.2,5.9,3.8,6.5,5.6,1.9,5.7,6.2,7.7,6.6],\"sizemode\":\"area\",\"sizeref\":0.094,\"symbol\":\"circle\"},\"mode\":\"markers\",\"name\":\"Monty Tiwa\",\"orientation\":\"v\",\"showlegend\":true,\"x\":[100,119,105,46,96,96,99,108,93,90,95,100,112,96,90,112,80,40,96,102,32,105,90,85,89,97,94,93,96,101,106],\"xaxis\":\"x\",\"y\":[7.4,6.1,6.9,8.0,4.8,8.1,6.4,6.6,7.9,5.0,5.7,7.4,5.2,6.0,5.5,6.9,6.8,8.0,6.6,6.2,5.8,7.2,5.9,3.8,6.5,5.6,1.9,5.7,6.2,7.7,6.6],\"yaxis\":\"y\",\"type\":\"scatter\"},{\"customdata\":[[\"Warkop DKI Reborn: Jangkrik Boss Part 2\"],[\"Warkop DKI Reborn: Jangkrik Boss Part 1\"],[\"Mama Cake\"],[\"The Watcher\"],[\"Devil on Top\"],[\"5 Cowok Jagoan: Rise of the Zombies\"],[\"Bloodlust Beauty\"],[\"Will\"],[\"Insya Allah Sah 2\"],[\"Satu Suro\"],[\"3: Alif, Lam, Mim\"],[\"Balada Sepasang Kekasih Gila\"],[\"Comic 8\"],[\"Mendadak Kaya\"],[\"DOA (Doyok-Otoy-Ali Oncom): Cari Jodoh\"],[\"Comic 8: Casino Kings Part 1\"],[\"Comic 8: Casino Kings Part 2\"],[\"Coboy Junior: The Movie\"],[\"I\"],[\"Survive\"],[\"Tersanjung: The Series\"],[\"Till Death Do Us Part\"],[\"Hitmen\"],[\"Patience is the test\"]],\"hovertemplate\":\"Director=Anggy Umbara<br>Runtime (Minutes)=%{x}<br>Rating=%{marker.size}<br>Title=%{customdata[0]}<extra></extra>\",\"legendgroup\":\"Anggy Umbara\",\"marker\":{\"color\":\"#FFA15A\",\"size\":[5.4,6.4,7.7,6.0,5.5,6.6,5.2,7.0,7.0,6.2,7.2,6.3,6.8,5.8,6.1,6.1,5.8,3.5,6.0,6.5,9.4,5.6,7.5,7.4],\"sizemode\":\"area\",\"sizeref\":0.094,\"symbol\":\"circle\"},\"mode\":\"markers\",\"name\":\"Anggy Umbara\",\"orientation\":\"v\",\"showlegend\":true,\"x\":[110,95,137,79,104,106,116,101,91,94,123,90,106,92,83,104,95,125,86,95,25,81,83,126],\"xaxis\":\"x\",\"y\":[5.4,6.4,7.7,6.0,5.5,6.6,5.2,7.0,7.0,6.2,7.2,6.3,6.8,5.8,6.1,6.1,5.8,3.5,6.0,6.5,9.4,5.6,7.5,7.4],\"yaxis\":\"y\",\"type\":\"scatter\"},{\"customdata\":[[\"The Mother's Prayer (Doa Sang Ibu)\"],[\"Bulan Terbelah di Langit Amerika\"],[\"Bulan Terbelah di Langit Amerika 2\"],[\"Mumun\"],[\"Wewe\"],[\"Penakluk Camer\"],[\"Ada Kamu, Aku Ada\"],[\"Pupus\"],[\"Taring\"],[\"Jenglot Pantai Selatan\"],[\"Jatuh Cinta Lagi\"],[\"An Anthology of Fellings\"],[\"5 cm\"],[\"Supernova\"],[\"Cewek Gokil\"],[\"Cherrybelle: Crush\"],[\"Jailangkung\"],[\"Jailangkung 2\"],[\"The Uninvited\"],[\"The Chanting\"],[\"The Chanting 3\"],[\"Firegate\"],[\"Rumah Kentang: The Beginning\"],[\"Tembang Lingsir\"],[\"Trinity, The Nekad Traveler\"],[\"Trinity Traveler\"],[\"Mati Suri\"],[\"Kuntilanak 3\"],[\"Rasuk 2\"],[\"Baby Occult: Baby Tumbal Baby Die\"],[\"Kuntilanak 2\"],[\"The Chanting Revisited\"],[\"Eiffel I'm in Love 2\"],[\"Kesurupan\"],[\"Asih 2\"],[\"Malapataka\"],[\"The Chanting 2\"],[\"Air Terjun Pengantin Phuket\"],[\"Air Terjun Pengantin\"],[\"Chrisye\"]],\"hovertemplate\":\"Director=Rizal Mantovani<br>Runtime (Minutes)=%{x}<br>Rating=%{marker.size}<br>Title=%{customdata[0]}<extra></extra>\",\"legendgroup\":\"Rizal Mantovani\",\"marker\":{\"color\":\"#19d3f3\",\"size\":[6.2,6.0,4.4,6.3,5.8,6.5,5.3,6.8,5.3,3.9,5.4,6.3,7.2,6.3,6.2,4.3,3.7,4.3,6.5,5.9,5.2,5.4,5.8,5.3,6.5,5.9,5.4,4.2,5.2,5.1,4.2,4.6,6.3,4.2,6.1,7.7,5.6,5.2,3.6,7.1],\"sizemode\":\"area\",\"sizeref\":0.094,\"symbol\":\"circle\"},\"mode\":\"markers\",\"name\":\"Rizal Mantovani\",\"orientation\":\"v\",\"showlegend\":true,\"x\":[13,109,100,106,100,12,105,99,90,78,96,108,125,135,79,101,86,83,102,93,90,113,102,90,103,97,90,105,95,93,100,105,117,99,104,10,102,83,80,110],\"xaxis\":\"x\",\"y\":[6.2,6.0,4.4,6.3,5.8,6.5,5.3,6.8,5.3,3.9,5.4,6.3,7.2,6.3,6.2,4.3,3.7,4.3,6.5,5.9,5.2,5.4,5.8,5.3,6.5,5.9,5.4,4.2,5.2,5.1,4.2,4.6,6.3,4.2,6.1,7.7,5.6,5.2,3.6,7.1],\"yaxis\":\"y\",\"type\":\"scatter\"},{\"customdata\":[[\"99 Cahaya di Langit Eropa Part 2\"],[\"99 Cahaya di Langit Eropa\"],[\"Lampor: The Flying Coffin\"],[\"Argantara\"],[\"Ranah 3 Warna\"],[\"Ngebut Kawin\"],[\"Jilbab Traveler: Love Sparks in Korea\"],[\"Pinky Promise\"],[\"Brandal-Brandal Ciliwung\"],[\"Dreams\"],[\"Verses of Love 2\"],[\"Crazy Love\"],[\"Kabayan Jadi Milyuner\"],[\"Otomatis Romantis\"],[\"Little Mom\"],[\"Purple Love\"],[\"Belok Kanan Barcelona\"],[\"Assalamualaikum Beijing\"],[\"Runaway\"],[\"If I Were You\"],[\"Makmum 2\"],[\"Cinlok\"],[\"Backstage\"],[\"Cinta Laki-Laki Biasa\"],[\"LDR\"],[\"LDR 2: Where Is My Romeo\"],[\"Tampan Tailor\"]],\"hovertemplate\":\"Director=Guntur Soeharjanto<br>Runtime (Minutes)=%{x}<br>Rating=%{marker.size}<br>Title=%{customdata[0]}<extra></extra>\",\"legendgroup\":\"Guntur Soeharjanto\",\"marker\":{\"color\":\"#FF6692\",\"size\":[6.3,6.2,5.3,3.1,8.7,6.0,6.0,7.8,7.6,7.2,5.5,7.2,5.3,6.3,7.4,6.1,6.4,7.3,6.8,7.4,4.9,4.7,7.5,7.8,6.5,6.5,7.5],\"sizemode\":\"area\",\"sizeref\":0.094,\"symbol\":\"circle\"},\"mode\":\"markers\",\"name\":\"Guntur Soeharjanto\",\"orientation\":\"v\",\"showlegend\":true,\"x\":[102,105,95,95,150,90,112,104,105,97,125,90,105,100,50,99,107,95,90,104,92,90,115,115,90,82,100],\"xaxis\":\"x\",\"y\":[6.3,6.2,5.3,3.1,8.7,6.0,6.0,7.8,7.6,7.2,5.5,7.2,5.3,6.3,7.4,6.1,6.4,7.3,6.8,7.4,4.9,4.7,7.5,7.8,6.5,6.5,7.5],\"yaxis\":\"y\",\"type\":\"scatter\"},{\"customdata\":[[\"About Someone\"],[\"Pasukan Kapiten\"],[\"13: The Haunted\"],[\"Return of the Devil's Child\"],[\"Hantu Rumah Ampera\"],[\"Stay with Me\"],[\"Denting Kematian\"],[\"Lima Elang\"],[\"Algojo: Perang Santet\"],[\"What's Up with Cinta?\"],[\"The Nine Dragons\"],[\"Garuda di Dadaku 2\"],[\"Chasing the Sun\"],[\"Rumah Ketujuh\"],[\"Mengejar Mas Mas\"],[\"Batas\"],[\"Sayap-Sayap Patah\"],[\"Kambing Jantan\"],[\"Liar\"],[\"40 Hari Bangkitnya Pocong\"],[\"Pocong 2\"],[\"Langit Ke-7\"],[\"Pocong\"],[\"Sebelah mata\"],[\"Tragedi\"],[\"In the Name of Love\"]],\"hovertemplate\":\"Director=Rudy Soedjarwo<br>Runtime (Minutes)=%{x}<br>Rating=%{marker.size}<br>Title=%{customdata[0]}<extra></extra>\",\"legendgroup\":\"Rudy Soedjarwo\",\"marker\":{\"color\":\"#B6E880\",\"size\":[7.3,7.4,5.7,5.3,4.6,6.9,3.9,7.6,1.9,7.7,6.6,6.4,7.3,5.1,7.4,7.9,5.4,5.6,5.1,4.8,6.5,5.7,5.8,8.4,4.1,5.6],\"sizemode\":\"area\",\"sizeref\":0.094,\"symbol\":\"circle\"},\"mode\":\"markers\",\"name\":\"Rudy Soedjarwo\",\"orientation\":\"v\",\"showlegend\":true,\"x\":[105,81,107,84,87,107,86,88,94,112,104,100,86,90,94,115,110,118,95,90,98,92,90,116,120,127],\"xaxis\":\"x\",\"y\":[7.3,7.4,5.7,5.3,4.6,6.9,3.9,7.6,1.9,7.7,6.6,6.4,7.3,5.1,7.4,7.9,5.4,5.6,5.1,4.8,6.5,5.7,5.8,8.4,4.1,5.6],\"yaxis\":\"y\",\"type\":\"scatter\"},{\"customdata\":[[\"Fallin' in Love\"],[\"R: Raja, Ratu, & Rahasia\"],[\"Jaran Goyang\"],[\"Ku Tunggu Jandamu\"],[\"Paku Kuntilanak\"],[\"Setan Budeg\"],[\"EL: The Movie\"],[\"Dad, Why Am I Different?\"],[\"My Blackberry Girlfriend\"],[\"Love in Perth\"],[\"Pocong Setan Jompo\"],[\"Akibat Pergaulan Bebas 2\"],[\"Menculik Miyabi\"],[\"Assalamualaikum Calon Imam\"],[\"Coblos Cinta\"],[\"Eyang Kubur\"],[\"Suster Keramas 2\"],[\"Ritual\"],[\"Seruan Setan\"],[\"Susuk Pocong\"],[\"Lihat Boleh, Pegang Jangan\"],[\"Honeymoon\"],[\"Hantu Tanah Kusir\"]],\"hovertemplate\":\"Director=Findo Purwono<br>Runtime (Minutes)=%{x}<br>Rating=%{marker.size}<br>Title=%{customdata[0]}<extra></extra>\",\"legendgroup\":\"Findo Purwono\",\"marker\":{\"color\":\"#FF97FF\",\"size\":[3.8,6.9,4.9,3.4,4.7,4.5,6.9,6.5,3.6,6.1,3.2,4.0,3.2,7.8,3.4,6.5,4.3,4.4,4.8,2.9,2.8,5.5,4.5],\"sizemode\":\"area\",\"sizeref\":0.094,\"symbol\":\"circle\"},\"mode\":\"markers\",\"name\":\"Findo Purwono\",\"orientation\":\"v\",\"showlegend\":true,\"x\":[95,98,79,83,76,86,88,99,83,90,89,81,85,93,90,80,80,72,99,122,95,114,82],\"xaxis\":\"x\",\"y\":[3.8,6.9,4.9,3.4,4.7,4.5,6.9,6.5,3.6,6.1,3.2,4.0,3.2,7.8,3.4,6.5,4.3,4.4,4.8,2.9,2.8,5.5,4.5],\"yaxis\":\"y\",\"type\":\"scatter\"}],                        {\"template\":{\"data\":{\"histogram2dcontour\":[{\"type\":\"histogram2dcontour\",\"colorbar\":{\"outlinewidth\":0,\"ticks\":\"\"},\"colorscale\":[[0.0,\"#0d0887\"],[0.1111111111111111,\"#46039f\"],[0.2222222222222222,\"#7201a8\"],[0.3333333333333333,\"#9c179e\"],[0.4444444444444444,\"#bd3786\"],[0.5555555555555556,\"#d8576b\"],[0.6666666666666666,\"#ed7953\"],[0.7777777777777778,\"#fb9f3a\"],[0.8888888888888888,\"#fdca26\"],[1.0,\"#f0f921\"]]}],\"choropleth\":[{\"type\":\"choropleth\",\"colorbar\":{\"outlinewidth\":0,\"ticks\":\"\"}}],\"histogram2d\":[{\"type\":\"histogram2d\",\"colorbar\":{\"outlinewidth\":0,\"ticks\":\"\"},\"colorscale\":[[0.0,\"#0d0887\"],[0.1111111111111111,\"#46039f\"],[0.2222222222222222,\"#7201a8\"],[0.3333333333333333,\"#9c179e\"],[0.4444444444444444,\"#bd3786\"],[0.5555555555555556,\"#d8576b\"],[0.6666666666666666,\"#ed7953\"],[0.7777777777777778,\"#fb9f3a\"],[0.8888888888888888,\"#fdca26\"],[1.0,\"#f0f921\"]]}],\"heatmap\":[{\"type\":\"heatmap\",\"colorbar\":{\"outlinewidth\":0,\"ticks\":\"\"},\"colorscale\":[[0.0,\"#0d0887\"],[0.1111111111111111,\"#46039f\"],[0.2222222222222222,\"#7201a8\"],[0.3333333333333333,\"#9c179e\"],[0.4444444444444444,\"#bd3786\"],[0.5555555555555556,\"#d8576b\"],[0.6666666666666666,\"#ed7953\"],[0.7777777777777778,\"#fb9f3a\"],[0.8888888888888888,\"#fdca26\"],[1.0,\"#f0f921\"]]}],\"heatmapgl\":[{\"type\":\"heatmapgl\",\"colorbar\":{\"outlinewidth\":0,\"ticks\":\"\"},\"colorscale\":[[0.0,\"#0d0887\"],[0.1111111111111111,\"#46039f\"],[0.2222222222222222,\"#7201a8\"],[0.3333333333333333,\"#9c179e\"],[0.4444444444444444,\"#bd3786\"],[0.5555555555555556,\"#d8576b\"],[0.6666666666666666,\"#ed7953\"],[0.7777777777777778,\"#fb9f3a\"],[0.8888888888888888,\"#fdca26\"],[1.0,\"#f0f921\"]]}],\"contourcarpet\":[{\"type\":\"contourcarpet\",\"colorbar\":{\"outlinewidth\":0,\"ticks\":\"\"}}],\"contour\":[{\"type\":\"contour\",\"colorbar\":{\"outlinewidth\":0,\"ticks\":\"\"},\"colorscale\":[[0.0,\"#0d0887\"],[0.1111111111111111,\"#46039f\"],[0.2222222222222222,\"#7201a8\"],[0.3333333333333333,\"#9c179e\"],[0.4444444444444444,\"#bd3786\"],[0.5555555555555556,\"#d8576b\"],[0.6666666666666666,\"#ed7953\"],[0.7777777777777778,\"#fb9f3a\"],[0.8888888888888888,\"#fdca26\"],[1.0,\"#f0f921\"]]}],\"surface\":[{\"type\":\"surface\",\"colorbar\":{\"outlinewidth\":0,\"ticks\":\"\"},\"colorscale\":[[0.0,\"#0d0887\"],[0.1111111111111111,\"#46039f\"],[0.2222222222222222,\"#7201a8\"],[0.3333333333333333,\"#9c179e\"],[0.4444444444444444,\"#bd3786\"],[0.5555555555555556,\"#d8576b\"],[0.6666666666666666,\"#ed7953\"],[0.7777777777777778,\"#fb9f3a\"],[0.8888888888888888,\"#fdca26\"],[1.0,\"#f0f921\"]]}],\"mesh3d\":[{\"type\":\"mesh3d\",\"colorbar\":{\"outlinewidth\":0,\"ticks\":\"\"}}],\"scatter\":[{\"fillpattern\":{\"fillmode\":\"overlay\",\"size\":10,\"solidity\":0.2},\"type\":\"scatter\"}],\"parcoords\":[{\"type\":\"parcoords\",\"line\":{\"colorbar\":{\"outlinewidth\":0,\"ticks\":\"\"}}}],\"scatterpolargl\":[{\"type\":\"scatterpolargl\",\"marker\":{\"colorbar\":{\"outlinewidth\":0,\"ticks\":\"\"}}}],\"bar\":[{\"error_x\":{\"color\":\"#2a3f5f\"},\"error_y\":{\"color\":\"#2a3f5f\"},\"marker\":{\"line\":{\"color\":\"#E5ECF6\",\"width\":0.5},\"pattern\":{\"fillmode\":\"overlay\",\"size\":10,\"solidity\":0.2}},\"type\":\"bar\"}],\"scattergeo\":[{\"type\":\"scattergeo\",\"marker\":{\"colorbar\":{\"outlinewidth\":0,\"ticks\":\"\"}}}],\"scatterpolar\":[{\"type\":\"scatterpolar\",\"marker\":{\"colorbar\":{\"outlinewidth\":0,\"ticks\":\"\"}}}],\"histogram\":[{\"marker\":{\"pattern\":{\"fillmode\":\"overlay\",\"size\":10,\"solidity\":0.2}},\"type\":\"histogram\"}],\"scattergl\":[{\"type\":\"scattergl\",\"marker\":{\"colorbar\":{\"outlinewidth\":0,\"ticks\":\"\"}}}],\"scatter3d\":[{\"type\":\"scatter3d\",\"line\":{\"colorbar\":{\"outlinewidth\":0,\"ticks\":\"\"}},\"marker\":{\"colorbar\":{\"outlinewidth\":0,\"ticks\":\"\"}}}],\"scattermapbox\":[{\"type\":\"scattermapbox\",\"marker\":{\"colorbar\":{\"outlinewidth\":0,\"ticks\":\"\"}}}],\"scatterternary\":[{\"type\":\"scatterternary\",\"marker\":{\"colorbar\":{\"outlinewidth\":0,\"ticks\":\"\"}}}],\"scattercarpet\":[{\"type\":\"scattercarpet\",\"marker\":{\"colorbar\":{\"outlinewidth\":0,\"ticks\":\"\"}}}],\"carpet\":[{\"aaxis\":{\"endlinecolor\":\"#2a3f5f\",\"gridcolor\":\"white\",\"linecolor\":\"white\",\"minorgridcolor\":\"white\",\"startlinecolor\":\"#2a3f5f\"},\"baxis\":{\"endlinecolor\":\"#2a3f5f\",\"gridcolor\":\"white\",\"linecolor\":\"white\",\"minorgridcolor\":\"white\",\"startlinecolor\":\"#2a3f5f\"},\"type\":\"carpet\"}],\"table\":[{\"cells\":{\"fill\":{\"color\":\"#EBF0F8\"},\"line\":{\"color\":\"white\"}},\"header\":{\"fill\":{\"color\":\"#C8D4E3\"},\"line\":{\"color\":\"white\"}},\"type\":\"table\"}],\"barpolar\":[{\"marker\":{\"line\":{\"color\":\"#E5ECF6\",\"width\":0.5},\"pattern\":{\"fillmode\":\"overlay\",\"size\":10,\"solidity\":0.2}},\"type\":\"barpolar\"}],\"pie\":[{\"automargin\":true,\"type\":\"pie\"}]},\"layout\":{\"autotypenumbers\":\"strict\",\"colorway\":[\"#636efa\",\"#EF553B\",\"#00cc96\",\"#ab63fa\",\"#FFA15A\",\"#19d3f3\",\"#FF6692\",\"#B6E880\",\"#FF97FF\",\"#FECB52\"],\"font\":{\"color\":\"#2a3f5f\"},\"hovermode\":\"closest\",\"hoverlabel\":{\"align\":\"left\"},\"paper_bgcolor\":\"white\",\"plot_bgcolor\":\"#E5ECF6\",\"polar\":{\"bgcolor\":\"#E5ECF6\",\"angularaxis\":{\"gridcolor\":\"white\",\"linecolor\":\"white\",\"ticks\":\"\"},\"radialaxis\":{\"gridcolor\":\"white\",\"linecolor\":\"white\",\"ticks\":\"\"}},\"ternary\":{\"bgcolor\":\"#E5ECF6\",\"aaxis\":{\"gridcolor\":\"white\",\"linecolor\":\"white\",\"ticks\":\"\"},\"baxis\":{\"gridcolor\":\"white\",\"linecolor\":\"white\",\"ticks\":\"\"},\"caxis\":{\"gridcolor\":\"white\",\"linecolor\":\"white\",\"ticks\":\"\"}},\"coloraxis\":{\"colorbar\":{\"outlinewidth\":0,\"ticks\":\"\"}},\"colorscale\":{\"sequential\":[[0.0,\"#0d0887\"],[0.1111111111111111,\"#46039f\"],[0.2222222222222222,\"#7201a8\"],[0.3333333333333333,\"#9c179e\"],[0.4444444444444444,\"#bd3786\"],[0.5555555555555556,\"#d8576b\"],[0.6666666666666666,\"#ed7953\"],[0.7777777777777778,\"#fb9f3a\"],[0.8888888888888888,\"#fdca26\"],[1.0,\"#f0f921\"]],\"sequentialminus\":[[0.0,\"#0d0887\"],[0.1111111111111111,\"#46039f\"],[0.2222222222222222,\"#7201a8\"],[0.3333333333333333,\"#9c179e\"],[0.4444444444444444,\"#bd3786\"],[0.5555555555555556,\"#d8576b\"],[0.6666666666666666,\"#ed7953\"],[0.7777777777777778,\"#fb9f3a\"],[0.8888888888888888,\"#fdca26\"],[1.0,\"#f0f921\"]],\"diverging\":[[0,\"#8e0152\"],[0.1,\"#c51b7d\"],[0.2,\"#de77ae\"],[0.3,\"#f1b6da\"],[0.4,\"#fde0ef\"],[0.5,\"#f7f7f7\"],[0.6,\"#e6f5d0\"],[0.7,\"#b8e186\"],[0.8,\"#7fbc41\"],[0.9,\"#4d9221\"],[1,\"#276419\"]]},\"xaxis\":{\"gridcolor\":\"white\",\"linecolor\":\"white\",\"ticks\":\"\",\"title\":{\"standoff\":15},\"zerolinecolor\":\"white\",\"automargin\":true,\"zerolinewidth\":2},\"yaxis\":{\"gridcolor\":\"white\",\"linecolor\":\"white\",\"ticks\":\"\",\"title\":{\"standoff\":15},\"zerolinecolor\":\"white\",\"automargin\":true,\"zerolinewidth\":2},\"scene\":{\"xaxis\":{\"backgroundcolor\":\"#E5ECF6\",\"gridcolor\":\"white\",\"linecolor\":\"white\",\"showbackground\":true,\"ticks\":\"\",\"zerolinecolor\":\"white\",\"gridwidth\":2},\"yaxis\":{\"backgroundcolor\":\"#E5ECF6\",\"gridcolor\":\"white\",\"linecolor\":\"white\",\"showbackground\":true,\"ticks\":\"\",\"zerolinecolor\":\"white\",\"gridwidth\":2},\"zaxis\":{\"backgroundcolor\":\"#E5ECF6\",\"gridcolor\":\"white\",\"linecolor\":\"white\",\"showbackground\":true,\"ticks\":\"\",\"zerolinecolor\":\"white\",\"gridwidth\":2}},\"shapedefaults\":{\"line\":{\"color\":\"#2a3f5f\"}},\"annotationdefaults\":{\"arrowcolor\":\"#2a3f5f\",\"arrowhead\":0,\"arrowwidth\":1},\"geo\":{\"bgcolor\":\"white\",\"landcolor\":\"#E5ECF6\",\"subunitcolor\":\"white\",\"showland\":true,\"showlakes\":true,\"lakecolor\":\"white\"},\"title\":{\"x\":0.05},\"mapbox\":{\"style\":\"light\"}}},\"xaxis\":{\"anchor\":\"y\",\"domain\":[0.0,1.0],\"title\":{\"text\":\"Duration\"},\"showgrid\":false},\"yaxis\":{\"anchor\":\"x\",\"domain\":[0.0,1.0],\"title\":{\"text\":\"Rating IMDB\"},\"showgrid\":false},\"legend\":{\"title\":{\"text\":\"Director\"},\"tracegroupgap\":0,\"itemsizing\":\"constant\"},\"margin\":{\"t\":100,\"l\":50,\"r\":50,\"b\":100,\"pad\":4},\"font\":{\"family\":\"Lato\",\"size\":18,\"color\":\"white\"},\"title\":{\"font\":{\"size\":25},\"text\":\"<b>TOP 10 MOST PRODUCTIVE DIRECTORS - SCATTER PLOT <B>\",\"x\":0.5},\"paper_bgcolor\":\"black\",\"plot_bgcolor\":\"black\",\"annotations\":[{\"align\":\"left\",\"font\":{\"color\":\"white\",\"size\":15},\"showarrow\":false,\"text\":\"Created by M. Irvan Dimetrio <br>Source: IMDB Movies Indonesia\",\"x\":0,\"xanchor\":\"left\",\"xref\":\"paper\",\"xshift\":-1,\"y\":-0.25,\"yanchor\":\"bottom\",\"yref\":\"paper\",\"yshift\":-5}]},                        {\"responsive\": true}                    ).then(function(){\n",
       "                            \n",
       "var gd = document.getElementById('51565e2e-4961-43e2-890f-11723b5c9b8e');\n",
       "var x = new MutationObserver(function (mutations, observer) {{\n",
       "        var display = window.getComputedStyle(gd).display;\n",
       "        if (!display || display === 'none') {{\n",
       "            console.log([gd, 'removed!']);\n",
       "            Plotly.purge(gd);\n",
       "            observer.disconnect();\n",
       "        }}\n",
       "}});\n",
       "\n",
       "// Listen for the removal of the full notebook cells\n",
       "var notebookContainer = gd.closest('#notebook-container');\n",
       "if (notebookContainer) {{\n",
       "    x.observe(notebookContainer, {childList: true});\n",
       "}}\n",
       "\n",
       "// Listen for the clearing of the current output cell\n",
       "var outputEl = gd.closest('.output');\n",
       "if (outputEl) {{\n",
       "    x.observe(outputEl, {childList: true});\n",
       "}}\n",
       "\n",
       "                        })                };                });            </script>        </div>"
      ]
     },
     "metadata": {},
     "output_type": "display_data"
    }
   ],
   "source": [
    "fig = px.scatter(director_rt, x='Runtime (Minutes)', y='Rating', size='Rating', size_max = 10, hover_data=['Title'],\n",
    "                color='Director')\n",
    "\n",
    "fig.update_layout(font=dict(family='Lato', size=18, color='white'), \n",
    "                  title=dict(text='<b>TOP 10 MOST PRODUCTIVE DIRECTORS - SCATTER PLOT <B>',\n",
    "                           font=dict(size=25), x=.5), \n",
    "                  paper_bgcolor= 'black', plot_bgcolor='black',\n",
    "                 xaxis=dict(title='Duration', showgrid=False),\n",
    "                 yaxis=dict(title='Rating IMDB', showgrid=False),\n",
    "                 margin=dict(\n",
    "        l=50,\n",
    "        r=50,\n",
    "        b=100,\n",
    "        t=100,\n",
    "        pad=4\n",
    "                 ))\n",
    "\n",
    "# fig.add_trace(go.Scatter(x=[180], y=[6.2], mode=\"text\", text = 'Bumi Manusia <br> 2019', textfont={\"size\": [15] }))\n",
    "\n",
    "\n",
    "# ADD A FOOTNOTE TO BOTTOM LEFT OF PAGE\n",
    "fig.add_annotation(\n",
    "    text = (\"Created by M. Irvan Dimetrio <br>Source: IMDB Movies Indonesia\")\n",
    "    , showarrow=False\n",
    "    , x = 0\n",
    "    , y = -0.25\n",
    "    , xref='paper'\n",
    "    , yref='paper' \n",
    "    , xanchor='left'\n",
    "    , yanchor='bottom'\n",
    "    , xshift=-1\n",
    "    , yshift=-5\n",
    "    , font=dict(size=15, color=\"white\")\n",
    "    , align=\"left\"\n",
    "    ,)"
   ]
  },
  {
   "cell_type": "code",
   "execution_count": 39,
   "id": "bbe7be6d",
   "metadata": {},
   "outputs": [
    {
     "data": {
      "text/html": [
       "<div>\n",
       "<style scoped>\n",
       "    .dataframe tbody tr th:only-of-type {\n",
       "        vertical-align: middle;\n",
       "    }\n",
       "\n",
       "    .dataframe tbody tr th {\n",
       "        vertical-align: top;\n",
       "    }\n",
       "\n",
       "    .dataframe thead th {\n",
       "        text-align: right;\n",
       "    }\n",
       "</style>\n",
       "<table border=\"1\" class=\"dataframe\">\n",
       "  <thead>\n",
       "    <tr style=\"text-align: right;\">\n",
       "      <th></th>\n",
       "      <th>Title</th>\n",
       "      <th>Year</th>\n",
       "      <th>Rated</th>\n",
       "      <th>Genre</th>\n",
       "      <th>Runtime (Minutes)</th>\n",
       "      <th>Rating</th>\n",
       "      <th>Votes</th>\n",
       "      <th>Director</th>\n",
       "      <th>Star 1</th>\n",
       "      <th>Star 2</th>\n",
       "      <th>Star 3</th>\n",
       "      <th>Star 4</th>\n",
       "    </tr>\n",
       "  </thead>\n",
       "  <tbody>\n",
       "    <tr>\n",
       "      <th>259</th>\n",
       "      <td>Sabtu Bersama Bapak</td>\n",
       "      <td>2016</td>\n",
       "      <td>13+</td>\n",
       "      <td>Drama</td>\n",
       "      <td>100</td>\n",
       "      <td>7.4</td>\n",
       "      <td>334</td>\n",
       "      <td>Monty Tiwa</td>\n",
       "      <td>Abimana Aryasatya</td>\n",
       "      <td>Ira Wibowo</td>\n",
       "      <td>Arifin Putra</td>\n",
       "      <td>Deva Mahenra</td>\n",
       "    </tr>\n",
       "    <tr>\n",
       "      <th>1607</th>\n",
       "      <td>7 Hari 24 Jam</td>\n",
       "      <td>2014</td>\n",
       "      <td>13+</td>\n",
       "      <td>Drama, Romance</td>\n",
       "      <td>97</td>\n",
       "      <td>6.9</td>\n",
       "      <td>99</td>\n",
       "      <td>Fajar Nugros</td>\n",
       "      <td>Lukman Sardi</td>\n",
       "      <td>Dian Sastrowardoyo</td>\n",
       "      <td>Henky Solaiman</td>\n",
       "      <td>Verdi Solaiman</td>\n",
       "    </tr>\n",
       "    <tr>\n",
       "      <th>861</th>\n",
       "      <td>The Butterfly</td>\n",
       "      <td>2007</td>\n",
       "      <td>13+</td>\n",
       "      <td>Drama</td>\n",
       "      <td>85</td>\n",
       "      <td>6.2</td>\n",
       "      <td>29</td>\n",
       "      <td>Nayato Fio Nuala</td>\n",
       "      <td>Debby Kristy</td>\n",
       "      <td>Andhika Pratama</td>\n",
       "      <td>Poppy Sovia</td>\n",
       "      <td>NaN</td>\n",
       "    </tr>\n",
       "    <tr>\n",
       "      <th>1481</th>\n",
       "      <td>Firegate</td>\n",
       "      <td>2016</td>\n",
       "      <td>13+</td>\n",
       "      <td>Adventure, Fantasy, Horror</td>\n",
       "      <td>113</td>\n",
       "      <td>5.4</td>\n",
       "      <td>157</td>\n",
       "      <td>Rizal Mantovani</td>\n",
       "      <td>Julie Estelle</td>\n",
       "      <td>Reza Rahadian</td>\n",
       "      <td>Ray Sahetapy</td>\n",
       "      <td>Dwi Sasono</td>\n",
       "    </tr>\n",
       "    <tr>\n",
       "      <th>2161</th>\n",
       "      <td>Baby Occult: Baby Tumbal Baby Die</td>\n",
       "      <td>2018</td>\n",
       "      <td>13+</td>\n",
       "      <td>Horror</td>\n",
       "      <td>93</td>\n",
       "      <td>5.1</td>\n",
       "      <td>27</td>\n",
       "      <td>Rizal Mantovani</td>\n",
       "      <td>Rianti Cartwright</td>\n",
       "      <td>Ashraf Sinclair</td>\n",
       "      <td>Mario Lawalatta</td>\n",
       "      <td>Fadika Royandi</td>\n",
       "    </tr>\n",
       "    <tr>\n",
       "      <th>337</th>\n",
       "      <td>Pasukan Kapiten</td>\n",
       "      <td>2012</td>\n",
       "      <td>13+</td>\n",
       "      <td>Action, Drama</td>\n",
       "      <td>81</td>\n",
       "      <td>7.4</td>\n",
       "      <td>7</td>\n",
       "      <td>Rudy Soedjarwo</td>\n",
       "      <td>Adrina Puteri Syarira</td>\n",
       "      <td>Bintang Panglima</td>\n",
       "      <td>Cahya R. Saputra</td>\n",
       "      <td>Andi Bersama</td>\n",
       "    </tr>\n",
       "    <tr>\n",
       "      <th>409</th>\n",
       "      <td>Virgin 3: Satu Malam Mengubah Segalanya</td>\n",
       "      <td>2011</td>\n",
       "      <td>13+</td>\n",
       "      <td>Drama</td>\n",
       "      <td>82</td>\n",
       "      <td>5.8</td>\n",
       "      <td>23</td>\n",
       "      <td>Nayato Fio Nuala</td>\n",
       "      <td>Alex Abbad</td>\n",
       "      <td>Raffi Ahmad</td>\n",
       "      <td>Fikri Baladraf</td>\n",
       "      <td>Irish Bella</td>\n",
       "    </tr>\n",
       "    <tr>\n",
       "      <th>1108</th>\n",
       "      <td>Dreams</td>\n",
       "      <td>2016</td>\n",
       "      <td>13+</td>\n",
       "      <td>Biography, Drama</td>\n",
       "      <td>97</td>\n",
       "      <td>9.2</td>\n",
       "      <td>74</td>\n",
       "      <td>Guntur Soeharjanto</td>\n",
       "      <td>Fauzi Baadila</td>\n",
       "      <td>Krosboi Band</td>\n",
       "      <td>Jodhy Bejo</td>\n",
       "      <td>Nimaz Dewantary</td>\n",
       "    </tr>\n",
       "    <tr>\n",
       "      <th>1699</th>\n",
       "      <td>Trinity Traveler</td>\n",
       "      <td>2019</td>\n",
       "      <td>13+</td>\n",
       "      <td>Adventure, Drama, Romance</td>\n",
       "      <td>97</td>\n",
       "      <td>5.9</td>\n",
       "      <td>48</td>\n",
       "      <td>Rizal Mantovani</td>\n",
       "      <td>Maudy Ayunda</td>\n",
       "      <td>Hamish Daud</td>\n",
       "      <td>Rachel Amanda</td>\n",
       "      <td>Anggika Bolsterli</td>\n",
       "    </tr>\n",
       "    <tr>\n",
       "      <th>1251</th>\n",
       "      <td>Pocong Minta Kawin</td>\n",
       "      <td>2011</td>\n",
       "      <td>13+</td>\n",
       "      <td>Comedy, Horror</td>\n",
       "      <td>84</td>\n",
       "      <td>7.5</td>\n",
       "      <td>15</td>\n",
       "      <td>Nayato Fio Nuala</td>\n",
       "      <td>Harry Suharyadi</td>\n",
       "      <td>Mpok Atiek</td>\n",
       "      <td>Bolot</td>\n",
       "      <td>Christopher</td>\n",
       "    </tr>\n",
       "  </tbody>\n",
       "</table>\n",
       "</div>"
      ],
      "text/plain": [
       "                                        Title  Year Rated  \\\n",
       "259                       Sabtu Bersama Bapak  2016   13+   \n",
       "1607                            7 Hari 24 Jam  2014   13+   \n",
       "861                             The Butterfly  2007   13+   \n",
       "1481                                 Firegate  2016   13+   \n",
       "2161        Baby Occult: Baby Tumbal Baby Die  2018   13+   \n",
       "337                           Pasukan Kapiten  2012   13+   \n",
       "409   Virgin 3: Satu Malam Mengubah Segalanya  2011   13+   \n",
       "1108                                   Dreams  2016   13+   \n",
       "1699                         Trinity Traveler  2019   13+   \n",
       "1251                       Pocong Minta Kawin  2011   13+   \n",
       "\n",
       "                                        Genre  Runtime (Minutes)  Rating  \\\n",
       "259                         Drama                            100     7.4   \n",
       "1607               Drama, Romance                             97     6.9   \n",
       "861                         Drama                             85     6.2   \n",
       "1481   Adventure, Fantasy, Horror                            113     5.4   \n",
       "2161                       Horror                             93     5.1   \n",
       "337                 Action, Drama                             81     7.4   \n",
       "409                         Drama                             82     5.8   \n",
       "1108             Biography, Drama                             97     9.2   \n",
       "1699    Adventure, Drama, Romance                             97     5.9   \n",
       "1251               Comedy, Horror                             84     7.5   \n",
       "\n",
       "      Votes            Director                 Star 1              Star 2  \\\n",
       "259     334          Monty Tiwa      Abimana Aryasatya          Ira Wibowo   \n",
       "1607     99        Fajar Nugros           Lukman Sardi  Dian Sastrowardoyo   \n",
       "861      29    Nayato Fio Nuala           Debby Kristy     Andhika Pratama   \n",
       "1481    157     Rizal Mantovani          Julie Estelle       Reza Rahadian   \n",
       "2161     27     Rizal Mantovani      Rianti Cartwright     Ashraf Sinclair   \n",
       "337       7      Rudy Soedjarwo  Adrina Puteri Syarira    Bintang Panglima   \n",
       "409      23    Nayato Fio Nuala             Alex Abbad         Raffi Ahmad   \n",
       "1108     74  Guntur Soeharjanto          Fauzi Baadila        Krosboi Band   \n",
       "1699     48     Rizal Mantovani           Maudy Ayunda         Hamish Daud   \n",
       "1251     15    Nayato Fio Nuala        Harry Suharyadi          Mpok Atiek   \n",
       "\n",
       "                Star 3             Star 4  \n",
       "259       Arifin Putra       Deva Mahenra  \n",
       "1607    Henky Solaiman     Verdi Solaiman  \n",
       "861        Poppy Sovia                NaN  \n",
       "1481      Ray Sahetapy         Dwi Sasono  \n",
       "2161   Mario Lawalatta     Fadika Royandi  \n",
       "337   Cahya R. Saputra       Andi Bersama  \n",
       "409     Fikri Baladraf        Irish Bella  \n",
       "1108        Jodhy Bejo    Nimaz Dewantary  \n",
       "1699     Rachel Amanda  Anggika Bolsterli  \n",
       "1251             Bolot        Christopher  "
      ]
     },
     "execution_count": 39,
     "metadata": {},
     "output_type": "execute_result"
    }
   ],
   "source": [
    "list = ['Nayato Fio Nuala','Hanung Bramantyo', 'Rizal Mantovani', 'Monty Tiwa', 'Guntur Soeharjanto', \n",
    "        'Rudy Soedjarwo', 'Raka Prijanto', 'Anggy Umbara', 'Findo Purwono', 'Fajar Nugros']\n",
    "\n",
    "director_rt = df[df['Director'].isin(list)]\n",
    "\n",
    "director_rt.sample(10)"
   ]
  },
  {
   "cell_type": "code",
   "execution_count": null,
   "id": "76d90d1c",
   "metadata": {},
   "outputs": [],
   "source": []
  }
 ],
 "metadata": {
  "kernelspec": {
   "display_name": "kaggle-venv",
   "language": "python",
   "name": "kaggle-venv"
  },
  "language_info": {
   "codemirror_mode": {
    "name": "ipython",
    "version": 3
   },
   "file_extension": ".py",
   "mimetype": "text/x-python",
   "name": "python",
   "nbconvert_exporter": "python",
   "pygments_lexer": "ipython3",
   "version": "3.7.7"
  }
 },
 "nbformat": 4,
 "nbformat_minor": 5
}
